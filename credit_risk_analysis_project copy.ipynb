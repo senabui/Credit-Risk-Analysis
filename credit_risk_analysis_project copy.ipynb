{
 "cells": [
  {
   "cell_type": "code",
   "execution_count": 1,
   "id": "7c620ed1-ae07-4566-85e1-3d37e2533e29",
   "metadata": {
    "execution": {
     "iopub.execute_input": "2025-03-13T18:08:49.511431Z",
     "iopub.status.busy": "2025-03-13T18:08:49.511101Z",
     "iopub.status.idle": "2025-03-13T18:10:15.702512Z",
     "shell.execute_reply": "2025-03-13T18:10:15.701675Z",
     "shell.execute_reply.started": "2025-03-13T18:08:49.511401Z"
    },
    "tags": []
   },
   "outputs": [
    {
     "data": {
      "application/vnd.jupyter.widget-view+json": {
       "model_id": "823158ea845f4e619c292f5771ce0aba",
       "version_major": 2,
       "version_minor": 0
      },
      "text/plain": [
       "VBox()"
      ]
     },
     "metadata": {},
     "output_type": "display_data"
    },
    {
     "name": "stdout",
     "output_type": "stream",
     "text": [
      "Starting Spark application\n"
     ]
    },
    {
     "data": {
      "text/html": [
       "<table>\n",
       "<tbody><tr><th>ID</th><th>YARN Application ID</th><th>Kind</th><th>State</th><th>Spark UI</th><th>Driver log</th><th>User</th><th>Current session?</th></tr><tr><td>1</td><td>application_1741883520155_0002</td><td>pyspark</td><td>idle</td><td><a target=\"_blank\" href=\"http://ip-172-31-85-249.ec2.internal:20888/proxy/application_1741883520155_0002/\" class=\"emr-proxy-link j-2U1YM89SR7UDR application_1741883520155_0002\" emr-resource=\"j-2U1YM89SR7UDR\n",
       "\" application-id=\"application_1741883520155_0002\">Link</a></td><td><a target=\"_blank\" href=\"http://ip-172-31-93-51.ec2.internal:8042/node/containerlogs/container_1741883520155_0002_01_000001/livy\">Link</a></td><td>None</td><td>✔</td></tr></tbody></table>"
      ],
      "text/plain": [
       "<IPython.core.display.HTML object>"
      ]
     },
     "metadata": {},
     "output_type": "display_data"
    },
    {
     "data": {
      "application/vnd.jupyter.widget-view+json": {
       "model_id": "",
       "version_major": 2,
       "version_minor": 0
      },
      "text/plain": [
       "FloatProgress(value=0.0, bar_style='info', description='Progress:', layout=Layout(height='25px', width='50%'),…"
      ]
     },
     "metadata": {},
     "output_type": "display_data"
    },
    {
     "name": "stdout",
     "output_type": "stream",
     "text": [
      "SparkSession available as 'spark'.\n"
     ]
    },
    {
     "data": {
      "application/vnd.jupyter.widget-view+json": {
       "model_id": "",
       "version_major": 2,
       "version_minor": 0
      },
      "text/plain": [
       "FloatProgress(value=0.0, bar_style='info', description='Progress:', layout=Layout(height='25px', width='50%'),…"
      ]
     },
     "metadata": {},
     "output_type": "display_data"
    },
    {
     "name": "stdout",
     "output_type": "stream",
     "text": [
      "Collecting numpy\n",
      "  Downloading numpy-2.0.2-cp39-cp39-manylinux_2_17_x86_64.manylinux2014_x86_64.whl (19.5 MB)\n",
      "Installing collected packages: numpy\n",
      "Successfully installed numpy-2.0.2\n",
      "\n",
      "Collecting pandas\n",
      "  Downloading pandas-2.2.3-cp39-cp39-manylinux_2_17_x86_64.manylinux2014_x86_64.whl (13.1 MB)\n",
      "Collecting python-dateutil>=2.8.2\n",
      "  Downloading python_dateutil-2.9.0.post0-py2.py3-none-any.whl (229 kB)\n",
      "Requirement already satisfied: numpy>=1.22.4 in ./tmp/spark-03ea0f55-d587-4b53-9f8b-c3666b686dd6/lib64/python3.9/site-packages (from pandas) (2.0.2)\n",
      "Requirement already satisfied: pytz>=2020.1 in /usr/local/lib/python3.9/site-packages (from pandas) (2024.2)\n",
      "Collecting tzdata>=2022.7\n",
      "  Downloading tzdata-2025.1-py2.py3-none-any.whl (346 kB)\n",
      "Requirement already satisfied: six>=1.5 in /usr/local/lib/python3.9/site-packages (from python-dateutil>=2.8.2->pandas) (1.13.0)\n",
      "Installing collected packages: tzdata, python-dateutil, pandas\n",
      "  Attempting uninstall: python-dateutil\n",
      "    Found existing installation: python-dateutil 2.8.1\n",
      "    Not uninstalling python-dateutil at /usr/lib/python3.9/site-packages, outside environment /mnt/yarn/usercache/livy/appcache/application_1741883520155_0002/container_1741883520155_0002_01_000001/tmp/spark-03ea0f55-d587-4b53-9f8b-c3666b686dd6\n",
      "    Can't uninstall 'python-dateutil'. No files were found to uninstall.\n",
      "Successfully installed pandas-2.2.3 python-dateutil-2.9.0.post0 tzdata-2025.1\n",
      "\n",
      "WARNING: The directory '/home/.cache/pip' or its parent directory is not owned or is not writable by the current user. The cache has been disabled. Check the permissions and owner of that directory. If executing pip with sudo, you should use sudo's -H flag.\n",
      "\n",
      "WARNING: The directory '/home/.cache/pip' or its parent directory is not owned or is not writable by the current user. The cache has been disabled. Check the permissions and owner of that directory. If executing pip with sudo, you should use sudo's -H flag.\n",
      "ERROR: pip's dependency resolver does not currently take into account all the packages that are installed. This behaviour is the source of the following dependency conflicts.\n",
      "awscli 2.17.18 requires python-dateutil<=2.8.2,>=2.1, but you have python-dateutil 2.9.0.post0 which is incompatible."
     ]
    }
   ],
   "source": [
    "#Install NumPy and Pandas in EMR Studio Notebook environment\n",
    "spark.sparkContext.install_pypi_package(\"numpy\")\n",
    "spark.sparkContext.install_pypi_package(\"pandas\")\n",
    "\n"
   ]
  },
  {
   "cell_type": "code",
   "execution_count": 2,
   "id": "7f157cae-a7af-4500-8e63-c39dd93f6f71",
   "metadata": {
    "execution": {
     "iopub.execute_input": "2025-03-13T18:10:50.756418Z",
     "iopub.status.busy": "2025-03-13T18:10:50.755955Z",
     "iopub.status.idle": "2025-03-13T18:10:52.075867Z",
     "shell.execute_reply": "2025-03-13T18:10:52.074592Z",
     "shell.execute_reply.started": "2025-03-13T18:10:50.756169Z"
    },
    "tags": []
   },
   "outputs": [
    {
     "data": {
      "application/vnd.jupyter.widget-view+json": {
       "model_id": "0a79c76f8b7c4c67b1323cfdf6d6219f",
       "version_major": 2,
       "version_minor": 0
      },
      "text/plain": [
       "VBox()"
      ]
     },
     "metadata": {},
     "output_type": "display_data"
    },
    {
     "data": {
      "application/vnd.jupyter.widget-view+json": {
       "model_id": "",
       "version_major": 2,
       "version_minor": 0
      },
      "text/plain": [
       "FloatProgress(value=0.0, bar_style='info', description='Progress:', layout=Layout(height='25px', width='50%'),…"
      ]
     },
     "metadata": {},
     "output_type": "display_data"
    }
   ],
   "source": [
    "# import packages\n",
    "from pyspark.sql import SparkSession\n",
    "from pyspark.sql.functions import col, when, count, isnan, trim\n",
    "from pyspark.ml.feature import StringIndexer, OneHotEncoder, VectorAssembler\n",
    "from pyspark.ml.feature import StandardScaler\n",
    "import numpy as np\n",
    "import pandas as pd\n",
    "\n",
    "\n"
   ]
  },
  {
   "cell_type": "code",
   "execution_count": 3,
   "id": "af2df50a-e7e0-493f-8074-c217f4de6adf",
   "metadata": {
    "execution": {
     "iopub.execute_input": "2025-03-12T01:54:07.532226Z",
     "iopub.status.busy": "2025-03-12T01:54:07.531347Z",
     "iopub.status.idle": "2025-03-12T01:54:33.059826Z",
     "shell.execute_reply": "2025-03-12T01:54:33.053037Z",
     "shell.execute_reply.started": "2025-03-12T01:54:07.532196Z"
    },
    "tags": []
   },
   "outputs": [
    {
     "data": {
      "application/vnd.jupyter.widget-view+json": {
       "model_id": "edba63b9de7e433ea6c115d8637f93e8",
       "version_major": 2,
       "version_minor": 0
      },
      "text/plain": [
       "VBox()"
      ]
     },
     "metadata": {},
     "output_type": "display_data"
    },
    {
     "data": {
      "application/vnd.jupyter.widget-view+json": {
       "model_id": "",
       "version_major": 2,
       "version_minor": 0
      },
      "text/plain": [
       "FloatProgress(value=0.0, bar_style='info', description='Progress:', layout=Layout(height='25px', width='50%'),…"
      ]
     },
     "metadata": {},
     "output_type": "display_data"
    },
    {
     "name": "stdout",
     "output_type": "stream",
     "text": [
      "Total rows: 887379\n",
      "root\n",
      " |-- id: integer (nullable = true)\n",
      " |-- member_id: integer (nullable = true)\n",
      " |-- loan_amnt: double (nullable = true)\n",
      " |-- funded_amnt: double (nullable = true)\n",
      " |-- funded_amnt_inv: double (nullable = true)\n",
      " |-- term: string (nullable = true)\n",
      " |-- int_rate: double (nullable = true)\n",
      " |-- installment: double (nullable = true)\n",
      " |-- grade: string (nullable = true)\n",
      " |-- sub_grade: string (nullable = true)\n",
      " |-- emp_title: string (nullable = true)\n",
      " |-- emp_length: string (nullable = true)\n",
      " |-- home_ownership: string (nullable = true)\n",
      " |-- annual_inc: string (nullable = true)\n",
      " |-- verification_status: string (nullable = true)\n",
      " |-- issue_d: string (nullable = true)\n",
      " |-- loan_status: string (nullable = true)\n",
      " |-- pymnt_plan: string (nullable = true)\n",
      " |-- url: string (nullable = true)\n",
      " |-- desc: string (nullable = true)\n",
      " |-- purpose: string (nullable = true)\n",
      " |-- title: string (nullable = true)\n",
      " |-- zip_code: string (nullable = true)\n",
      " |-- addr_state: string (nullable = true)\n",
      " |-- dti: string (nullable = true)\n",
      " |-- delinq_2yrs: string (nullable = true)\n",
      " |-- earliest_cr_line: string (nullable = true)\n",
      " |-- inq_last_6mths: string (nullable = true)\n",
      " |-- mths_since_last_delinq: string (nullable = true)\n",
      " |-- mths_since_last_record: string (nullable = true)\n",
      " |-- open_acc: string (nullable = true)\n",
      " |-- pub_rec: string (nullable = true)\n",
      " |-- revol_bal: string (nullable = true)\n",
      " |-- revol_util: string (nullable = true)\n",
      " |-- total_acc: string (nullable = true)\n",
      " |-- initial_list_status: string (nullable = true)\n",
      " |-- out_prncp: string (nullable = true)\n",
      " |-- out_prncp_inv: string (nullable = true)\n",
      " |-- total_pymnt: string (nullable = true)\n",
      " |-- total_pymnt_inv: string (nullable = true)\n",
      " |-- total_rec_prncp: string (nullable = true)\n",
      " |-- total_rec_int: string (nullable = true)\n",
      " |-- total_rec_late_fee: string (nullable = true)\n",
      " |-- recoveries: string (nullable = true)\n",
      " |-- collection_recovery_fee: string (nullable = true)\n",
      " |-- last_pymnt_d: string (nullable = true)\n",
      " |-- last_pymnt_amnt: string (nullable = true)\n",
      " |-- next_pymnt_d: string (nullable = true)\n",
      " |-- last_credit_pull_d: string (nullable = true)\n",
      " |-- collections_12_mths_ex_med: string (nullable = true)\n",
      " |-- mths_since_last_major_derog: string (nullable = true)\n",
      " |-- policy_code: string (nullable = true)\n",
      " |-- application_type: string (nullable = true)\n",
      " |-- annual_inc_joint: string (nullable = true)\n",
      " |-- dti_joint: string (nullable = true)\n",
      " |-- verification_status_joint: string (nullable = true)\n",
      " |-- acc_now_delinq: string (nullable = true)\n",
      " |-- tot_coll_amt: string (nullable = true)\n",
      " |-- tot_cur_bal: string (nullable = true)\n",
      " |-- open_acc_6m: string (nullable = true)\n",
      " |-- open_il_6m: string (nullable = true)\n",
      " |-- open_il_12m: string (nullable = true)\n",
      " |-- open_il_24m: string (nullable = true)\n",
      " |-- mths_since_rcnt_il: string (nullable = true)\n",
      " |-- total_bal_il: string (nullable = true)\n",
      " |-- il_util: string (nullable = true)\n",
      " |-- open_rv_12m: string (nullable = true)\n",
      " |-- open_rv_24m: string (nullable = true)\n",
      " |-- max_bal_bc: string (nullable = true)\n",
      " |-- all_util: string (nullable = true)\n",
      " |-- total_rev_hi_lim: string (nullable = true)\n",
      " |-- inq_fi: string (nullable = true)\n",
      " |-- total_cu_tl: string (nullable = true)\n",
      " |-- inq_last_12m: string (nullable = true)"
     ]
    }
   ],
   "source": [
    "# Initialize SparkSession (if not already created)\n",
    "spark = SparkSession.builder \\\n",
    "    .appName(\"Credit Risk Analysis\") \\\n",
    "    .getOrCreate()\n",
    "\n",
    "# Read CSV from S3\n",
    "df = spark.read.csv(\n",
    "    's3://credit-risk-analysis-final-project/loan.csv', \n",
    "    header=True, \n",
    "    inferSchema=True\n",
    ")\n",
    "\n",
    "# Verify data loading\n",
    "print(\"Total rows:\", df.count())\n",
    "df.printSchema()"
   ]
  },
  {
   "cell_type": "code",
   "execution_count": 11,
   "id": "e2514b09-482b-4c22-8038-27c1da3bc040",
   "metadata": {
    "execution": {
     "iopub.execute_input": "2025-03-11T18:27:42.214035Z",
     "iopub.status.busy": "2025-03-11T18:27:42.213786Z",
     "iopub.status.idle": "2025-03-11T18:27:55.603294Z",
     "shell.execute_reply": "2025-03-11T18:27:55.602149Z",
     "shell.execute_reply.started": "2025-03-11T18:27:42.214008Z"
    }
   },
   "outputs": [
    {
     "data": {
      "application/vnd.jupyter.widget-view+json": {
       "model_id": "c7818d2095744100a43273e14899fd70",
       "version_major": 2,
       "version_minor": 0
      },
      "text/plain": [
       "VBox()"
      ]
     },
     "metadata": {},
     "output_type": "display_data"
    },
    {
     "data": {
      "application/vnd.jupyter.widget-view+json": {
       "model_id": "",
       "version_major": 2,
       "version_minor": 0
      },
      "text/plain": [
       "FloatProgress(value=0.0, bar_style='info', description='Progress:', layout=Layout(height='25px', width='50%'),…"
      ]
     },
     "metadata": {},
     "output_type": "display_data"
    },
    {
     "name": "stdout",
     "output_type": "stream",
     "text": [
      "+-------+---------+---------+-----------+---------------+----------+--------+-----------+-----+---------+--------------------+----------+--------------+----------+-------------------+--------+-----------+----------+--------------------+--------------------+--------------+--------------------+--------+----------+-----+-----------+----------------+--------------+----------------------+----------------------+--------+-------+---------+----------+---------+-------------------+---------+-------------+-------------+---------------+---------------+-------------+------------------+----------+-----------------------+------------+---------------+------------+------------------+--------------------------+---------------------------+-----------+----------------+----------------+---------+-------------------------+--------------+------------+-----------+-----------+----------+-----------+-----------+------------------+------------+-------+-----------+-----------+----------+--------+----------------+------+-----------+------------+\n",
      "|     id|member_id|loan_amnt|funded_amnt|funded_amnt_inv|      term|int_rate|installment|grade|sub_grade|           emp_title|emp_length|home_ownership|annual_inc|verification_status| issue_d|loan_status|pymnt_plan|                 url|                desc|       purpose|               title|zip_code|addr_state|  dti|delinq_2yrs|earliest_cr_line|inq_last_6mths|mths_since_last_delinq|mths_since_last_record|open_acc|pub_rec|revol_bal|revol_util|total_acc|initial_list_status|out_prncp|out_prncp_inv|  total_pymnt|total_pymnt_inv|total_rec_prncp|total_rec_int|total_rec_late_fee|recoveries|collection_recovery_fee|last_pymnt_d|last_pymnt_amnt|next_pymnt_d|last_credit_pull_d|collections_12_mths_ex_med|mths_since_last_major_derog|policy_code|application_type|annual_inc_joint|dti_joint|verification_status_joint|acc_now_delinq|tot_coll_amt|tot_cur_bal|open_acc_6m|open_il_6m|open_il_12m|open_il_24m|mths_since_rcnt_il|total_bal_il|il_util|open_rv_12m|open_rv_24m|max_bal_bc|all_util|total_rev_hi_lim|inq_fi|total_cu_tl|inq_last_12m|\n",
      "+-------+---------+---------+-----------+---------------+----------+--------+-----------+-----+---------+--------------------+----------+--------------+----------+-------------------+--------+-----------+----------+--------------------+--------------------+--------------+--------------------+--------+----------+-----+-----------+----------------+--------------+----------------------+----------------------+--------+-------+---------+----------+---------+-------------------+---------+-------------+-------------+---------------+---------------+-------------+------------------+----------+-----------------------+------------+---------------+------------+------------------+--------------------------+---------------------------+-----------+----------------+----------------+---------+-------------------------+--------------+------------+-----------+-----------+----------+-----------+-----------+------------------+------------+-------+-----------+-----------+----------+--------+----------------+------+-----------+------------+\n",
      "|1077501|  1296599|   5000.0|     5000.0|         4975.0| 36 months|   10.65|     162.87|    B|       B2|                NULL| 10+ years|          RENT|   24000.0|           Verified|Dec-2011| Fully Paid|         n|https://www.lendi...|  Borrower added ...|   credit_card|            Computer|   860xx|        AZ|27.65|        0.0|        Jan-1985|           1.0|                  NULL|                  NULL|     3.0|    0.0|  13648.0|      83.7|      9.0|                  f|      0.0|          0.0|5861.07141425|        5831.78|         5000.0|       861.07|               0.0|       0.0|                    0.0|    Jan-2015|         171.62|        NULL|          Jan-2016|                       0.0|                       NULL|        1.0|      INDIVIDUAL|            NULL|     NULL|                     NULL|           0.0|        NULL|       NULL|       NULL|      NULL|       NULL|       NULL|              NULL|        NULL|   NULL|       NULL|       NULL|      NULL|    NULL|            NULL|  NULL|       NULL|        NULL|\n",
      "|1077430|  1314167|   2500.0|     2500.0|         2500.0| 60 months|   15.27|      59.83|    C|       C4|               Ryder|  < 1 year|          RENT|   30000.0|    Source Verified|Dec-2011|Charged Off|         n|https://www.lendi...|  Borrower added ...|           car|                bike|   309xx|        GA|  1.0|        0.0|        Apr-1999|           5.0|                  NULL|                  NULL|     3.0|    0.0|   1687.0|       9.4|      4.0|                  f|      0.0|          0.0|      1008.71|        1008.71|         456.46|       435.17|               0.0|    117.08|                   1.11|    Apr-2013|         119.66|        NULL|          Sep-2013|                       0.0|                       NULL|        1.0|      INDIVIDUAL|            NULL|     NULL|                     NULL|           0.0|        NULL|       NULL|       NULL|      NULL|       NULL|       NULL|              NULL|        NULL|   NULL|       NULL|       NULL|      NULL|    NULL|            NULL|  NULL|       NULL|        NULL|\n",
      "|1077175|  1313524|   2400.0|     2400.0|         2400.0| 36 months|   15.96|      84.33|    C|       C5|                NULL| 10+ years|          RENT|   12252.0|       Not Verified|Dec-2011| Fully Paid|         n|https://www.lendi...|                NULL|small_business|real estate business|   606xx|        IL| 8.72|        0.0|        Nov-2001|           2.0|                  NULL|                  NULL|     2.0|    0.0|   2956.0|      98.5|     10.0|                  f|      0.0|          0.0|3003.65364445|        3003.65|         2400.0|       603.65|               0.0|       0.0|                    0.0|    Jun-2014|         649.91|        NULL|          Jan-2016|                       0.0|                       NULL|        1.0|      INDIVIDUAL|            NULL|     NULL|                     NULL|           0.0|        NULL|       NULL|       NULL|      NULL|       NULL|       NULL|              NULL|        NULL|   NULL|       NULL|       NULL|      NULL|    NULL|            NULL|  NULL|       NULL|        NULL|\n",
      "|1076863|  1277178|  10000.0|    10000.0|        10000.0| 36 months|   13.49|     339.31|    C|       C1| AIR RESOURCES BOARD| 10+ years|          RENT|   49200.0|    Source Verified|Dec-2011| Fully Paid|         n|https://www.lendi...|  Borrower added ...|         other|            personel|   917xx|        CA| 20.0|        0.0|        Feb-1996|           1.0|                  35.0|                  NULL|    10.0|    0.0|   5598.0|      21.0|     37.0|                  f|      0.0|          0.0|12226.3022123|        12226.3|        10000.0|      2209.33|             16.97|       0.0|                    0.0|    Jan-2015|         357.48|        NULL|          Jan-2015|                       0.0|                       NULL|        1.0|      INDIVIDUAL|            NULL|     NULL|                     NULL|           0.0|        NULL|       NULL|       NULL|      NULL|       NULL|       NULL|              NULL|        NULL|   NULL|       NULL|       NULL|      NULL|    NULL|            NULL|  NULL|       NULL|        NULL|\n",
      "|1075358|  1311748|   3000.0|     3000.0|         3000.0| 60 months|   12.69|      67.79|    B|       B5|University Medica...|    1 year|          RENT|   80000.0|    Source Verified|Dec-2011|    Current|         n|https://www.lendi...|  Borrower added ...|         other|            Personal|   972xx|        OR|17.94|        0.0|        Jan-1996|           0.0|                  38.0|                  NULL|    15.0|    0.0|  27783.0|      53.9|     38.0|                  f|    766.9|        766.9|      3242.17|        3242.17|         2233.1|      1009.07|               0.0|       0.0|                    0.0|    Jan-2016|          67.79|    Feb-2016|          Jan-2016|                       0.0|                       NULL|        1.0|      INDIVIDUAL|            NULL|     NULL|                     NULL|           0.0|        NULL|       NULL|       NULL|      NULL|       NULL|       NULL|              NULL|        NULL|   NULL|       NULL|       NULL|      NULL|    NULL|            NULL|  NULL|       NULL|        NULL|\n",
      "+-------+---------+---------+-----------+---------------+----------+--------+-----------+-----+---------+--------------------+----------+--------------+----------+-------------------+--------+-----------+----------+--------------------+--------------------+--------------+--------------------+--------+----------+-----+-----------+----------------+--------------+----------------------+----------------------+--------+-------+---------+----------+---------+-------------------+---------+-------------+-------------+---------------+---------------+-------------+------------------+----------+-----------------------+------------+---------------+------------+------------------+--------------------------+---------------------------+-----------+----------------+----------------+---------+-------------------------+--------------+------------+-----------+-----------+----------+-----------+-----------+------------------+------------+-------+-----------+-----------+----------+--------+----------------+------+-----------+------------+\n",
      "only showing top 5 rows"
     ]
    }
   ],
   "source": [
    "# Show the first 5 rows of the DataFrame\n",
    "df.show(5)\n",
    "\n",
    "# We observe many NULLs"
   ]
  },
  {
   "cell_type": "markdown",
   "id": "a5c8469f-2138-44f0-9048-07b35b8da189",
   "metadata": {},
   "source": [
    "# Data cleaning and Preprocessing"
   ]
  },
  {
   "cell_type": "code",
   "execution_count": 4,
   "id": "854b37ed-021a-4fa2-90ed-564ce2fb141d",
   "metadata": {
    "execution": {
     "iopub.execute_input": "2025-03-12T01:55:14.264371Z",
     "iopub.status.busy": "2025-03-12T01:55:14.264030Z",
     "iopub.status.idle": "2025-03-12T01:59:58.318077Z",
     "shell.execute_reply": "2025-03-12T01:59:58.317395Z",
     "shell.execute_reply.started": "2025-03-12T01:55:14.264321Z"
    },
    "tags": []
   },
   "outputs": [
    {
     "data": {
      "application/vnd.jupyter.widget-view+json": {
       "model_id": "3824fae9ad8b41b9b3f4cd021db3ebf6",
       "version_major": 2,
       "version_minor": 0
      },
      "text/plain": [
       "VBox()"
      ]
     },
     "metadata": {},
     "output_type": "display_data"
    },
    {
     "data": {
      "application/vnd.jupyter.widget-view+json": {
       "model_id": "",
       "version_major": 2,
       "version_minor": 0
      },
      "text/plain": [
       "FloatProgress(value=0.0, bar_style='info', description='Progress:', layout=Layout(height='25px', width='50%'),…"
      ]
     },
     "metadata": {},
     "output_type": "display_data"
    },
    {
     "name": "stdout",
     "output_type": "stream",
     "text": [
      "Column 'desc' will be dropped. Missing percentage: 85.80%\n",
      "Column 'mths_since_last_record' will be dropped. Missing percentage: 84.53%\n",
      "Column 'mths_since_last_major_derog' will be dropped. Missing percentage: 74.99%\n",
      "Column 'annual_inc_joint' will be dropped. Missing percentage: 99.92%\n",
      "Column 'dti_joint' will be dropped. Missing percentage: 99.92%\n",
      "Column 'verification_status_joint' will be dropped. Missing percentage: 99.93%\n",
      "Column 'open_acc_6m' will be dropped. Missing percentage: 97.58%\n",
      "Column 'open_il_6m' will be dropped. Missing percentage: 97.58%\n",
      "Column 'open_il_12m' will be dropped. Missing percentage: 97.59%\n",
      "Column 'open_il_24m' will be dropped. Missing percentage: 97.59%\n",
      "Column 'mths_since_rcnt_il' will be dropped. Missing percentage: 97.65%\n",
      "Column 'total_bal_il' will be dropped. Missing percentage: 97.59%\n",
      "Column 'il_util' will be dropped. Missing percentage: 97.90%\n",
      "Column 'open_rv_12m' will be dropped. Missing percentage: 97.59%\n",
      "Column 'open_rv_24m' will be dropped. Missing percentage: 97.59%\n",
      "Column 'max_bal_bc' will be dropped. Missing percentage: 97.59%\n",
      "Column 'all_util' will be dropped. Missing percentage: 97.59%\n",
      "Column 'inq_fi' will be dropped. Missing percentage: 97.59%\n",
      "Column 'total_cu_tl' will be dropped. Missing percentage: 97.59%\n",
      "Column 'inq_last_12m' will be dropped. Missing percentage: 97.59%\n",
      "\n",
      "Total columns dropped: 20\n",
      "Dropped columns: ['desc', 'mths_since_last_record', 'mths_since_last_major_derog', 'annual_inc_joint', 'dti_joint', 'verification_status_joint', 'open_acc_6m', 'open_il_6m', 'open_il_12m', 'open_il_24m', 'mths_since_rcnt_il', 'total_bal_il', 'il_util', 'open_rv_12m', 'open_rv_24m', 'max_bal_bc', 'all_util', 'inq_fi', 'total_cu_tl', 'inq_last_12m']\n",
      "\n",
      "Original DataFrame Columns: 74\n",
      "Cleaned DataFrame Columns: 54"
     ]
    }
   ],
   "source": [
    "# dropping columns missing more than 70% of data\n",
    "from pyspark.sql.functions import col, count, when, isnull\n",
    "\n",
    "def remove_high_missing_columns(df, missing_threshold=0.7):\n",
    "    # Total number of rows in the dataset\n",
    "    total_rows = df.count()\n",
    "    \n",
    "    # Calculate missing value percentages\n",
    "    missing_analysis = df.select([\n",
    "        (count(when(isnull(col(c)), c)) / total_rows).alias(c) \n",
    "        for c in df.columns\n",
    "    ])\n",
    "    \n",
    "    # Identify columns with missing values above threshold\n",
    "    columns_to_drop = []\n",
    "    for column in df.columns:\n",
    "        missing_pct = missing_analysis.select(column).collect()[0][column]\n",
    "        \n",
    "        if missing_pct > missing_threshold:\n",
    "            columns_to_drop.append(column)\n",
    "            print(f\"Column '{column}' will be dropped. Missing percentage: {missing_pct * 100:.2f}%\")\n",
    "    \n",
    "    # Drop identified columns\n",
    "    if columns_to_drop:\n",
    "        df_cleaned = df.drop(*columns_to_drop)\n",
    "        print(f\"\\nTotal columns dropped: {len(columns_to_drop)}\")\n",
    "        print(\"Dropped columns:\", columns_to_drop)\n",
    "    else:\n",
    "        df_cleaned = df\n",
    "        print(\"No columns exceeded the missing value threshold.\")\n",
    "    \n",
    "    return df_cleaned, columns_to_drop\n",
    "\n",
    "# Usage\n",
    "df_cleaned, dropped_columns = remove_high_missing_columns(df)\n",
    "\n",
    "# Verify results\n",
    "print(\"\\nOriginal DataFrame Columns:\", len(df.columns))\n",
    "print(\"Cleaned DataFrame Columns:\", len(df_cleaned.columns))\n",
    "\n",
    "# Results:\n",
    "#Total columns dropped: 20\n",
    "#Dropped columns: ['desc', 'mths_since_last_record', 'mths_since_last_major_derog', 'annual_inc_joint', 'dti_joint', 'verification_status_joint', 'open_acc_6m', 'open_il_6m', 'open_il_12m', 'open_il_24m', 'mths_since_rcnt_il', 'total_bal_il', 'il_util', 'open_rv_12m', 'open_rv_24m', 'max_bal_bc', 'all_util', 'inq_fi', 'total_cu_tl', 'inq_last_12m']\n",
    "\n",
    "#Original DataFrame Columns: 74\n",
    "#Cleaned DataFrame Columns: 54"
   ]
  },
  {
   "cell_type": "code",
   "execution_count": 5,
   "id": "5b75c27d-64a0-4e1a-9ff6-6b5833012ccb",
   "metadata": {
    "execution": {
     "iopub.execute_input": "2025-03-12T02:00:14.207475Z",
     "iopub.status.busy": "2025-03-12T02:00:14.207230Z",
     "iopub.status.idle": "2025-03-12T02:00:14.276766Z",
     "shell.execute_reply": "2025-03-12T02:00:14.275937Z",
     "shell.execute_reply.started": "2025-03-12T02:00:14.207447Z"
    },
    "tags": []
   },
   "outputs": [
    {
     "data": {
      "application/vnd.jupyter.widget-view+json": {
       "model_id": "25095df455354c8ead8449d534c355df",
       "version_major": 2,
       "version_minor": 0
      },
      "text/plain": [
       "VBox()"
      ]
     },
     "metadata": {},
     "output_type": "display_data"
    },
    {
     "data": {
      "application/vnd.jupyter.widget-view+json": {
       "model_id": "",
       "version_major": 2,
       "version_minor": 0
      },
      "text/plain": [
       "FloatProgress(value=0.0, bar_style='info', description='Progress:', layout=Layout(height='25px', width='50%'),…"
      ]
     },
     "metadata": {},
     "output_type": "display_data"
    },
    {
     "name": "stdout",
     "output_type": "stream",
     "text": [
      "Remaining Columns:\n",
      "['id', 'member_id', 'loan_amnt', 'funded_amnt', 'funded_amnt_inv', 'term', 'int_rate', 'installment', 'grade', 'sub_grade', 'emp_title', 'emp_length', 'home_ownership', 'annual_inc', 'verification_status', 'issue_d', 'loan_status', 'pymnt_plan', 'url', 'purpose', 'title', 'zip_code', 'addr_state', 'dti', 'delinq_2yrs', 'earliest_cr_line', 'inq_last_6mths', 'mths_since_last_delinq', 'open_acc', 'pub_rec', 'revol_bal', 'revol_util', 'total_acc', 'initial_list_status', 'out_prncp', 'out_prncp_inv', 'total_pymnt', 'total_pymnt_inv', 'total_rec_prncp', 'total_rec_int', 'total_rec_late_fee', 'recoveries', 'collection_recovery_fee', 'last_pymnt_d', 'last_pymnt_amnt', 'next_pymnt_d', 'last_credit_pull_d', 'collections_12_mths_ex_med', 'policy_code', 'application_type', 'acc_now_delinq', 'tot_coll_amt', 'tot_cur_bal', 'total_rev_hi_lim']\n",
      "\n",
      "Columns in detailed view:\n",
      "id\n",
      "member_id\n",
      "loan_amnt\n",
      "funded_amnt\n",
      "funded_amnt_inv\n",
      "term\n",
      "int_rate\n",
      "installment\n",
      "grade\n",
      "sub_grade\n",
      "emp_title\n",
      "emp_length\n",
      "home_ownership\n",
      "annual_inc\n",
      "verification_status\n",
      "issue_d\n",
      "loan_status\n",
      "pymnt_plan\n",
      "url\n",
      "purpose\n",
      "title\n",
      "zip_code\n",
      "addr_state\n",
      "dti\n",
      "delinq_2yrs\n",
      "earliest_cr_line\n",
      "inq_last_6mths\n",
      "mths_since_last_delinq\n",
      "open_acc\n",
      "pub_rec\n",
      "revol_bal\n",
      "revol_util\n",
      "total_acc\n",
      "initial_list_status\n",
      "out_prncp\n",
      "out_prncp_inv\n",
      "total_pymnt\n",
      "total_pymnt_inv\n",
      "total_rec_prncp\n",
      "total_rec_int\n",
      "total_rec_late_fee\n",
      "recoveries\n",
      "collection_recovery_fee\n",
      "last_pymnt_d\n",
      "last_pymnt_amnt\n",
      "next_pymnt_d\n",
      "last_credit_pull_d\n",
      "collections_12_mths_ex_med\n",
      "policy_code\n",
      "application_type\n",
      "acc_now_delinq\n",
      "tot_coll_amt\n",
      "tot_cur_bal\n",
      "total_rev_hi_lim"
     ]
    }
   ],
   "source": [
    "# Show remaining columns in my DataFrame\n",
    "print(\"Remaining Columns:\")\n",
    "print(df_cleaned.columns)\n",
    "\n",
    "# In a more detailed and formatted display\n",
    "print(\"\\nColumns in detailed view:\")\n",
    "for column in df_cleaned.columns:\n",
    "    print(column)"
   ]
  },
  {
   "cell_type": "code",
   "execution_count": 7,
   "id": "85a2c1bb-3467-4db4-ba38-6e7cb7525613",
   "metadata": {
    "execution": {
     "iopub.execute_input": "2025-03-12T02:00:38.554833Z",
     "iopub.status.busy": "2025-03-12T02:00:38.554601Z",
     "iopub.status.idle": "2025-03-12T02:00:38.623961Z",
     "shell.execute_reply": "2025-03-12T02:00:38.623079Z",
     "shell.execute_reply.started": "2025-03-12T02:00:38.554807Z"
    },
    "tags": []
   },
   "outputs": [
    {
     "data": {
      "application/vnd.jupyter.widget-view+json": {
       "model_id": "afbca333878949bfaf17192c28a47b36",
       "version_major": 2,
       "version_minor": 0
      },
      "text/plain": [
       "VBox()"
      ]
     },
     "metadata": {},
     "output_type": "display_data"
    },
    {
     "data": {
      "application/vnd.jupyter.widget-view+json": {
       "model_id": "",
       "version_major": 2,
       "version_minor": 0
      },
      "text/plain": [
       "FloatProgress(value=0.0, bar_style='info', description='Progress:', layout=Layout(height='25px', width='50%'),…"
      ]
     },
     "metadata": {},
     "output_type": "display_data"
    },
    {
     "name": "stdout",
     "output_type": "stream",
     "text": [
      "Columns dropped: ['url', 'application_type', 'last_pymnt_amnt', 'recoveries', 'policy_code', 'initial_list_status', 'next_pymnt_d', 'zip_code', 'issue_d', 'collections_12_mths_ex_med', 'id', 'addr_state', 'title', 'member_id', 'last_credit_pull_d', 'last_pymnt_d']\n",
      "Original DataFrame Columns: 74\n",
      "Cleaned DataFrame Columns: 38\n",
      "\n",
      "Remaining Columns:\n",
      "['loan_amnt', 'funded_amnt', 'funded_amnt_inv', 'term', 'int_rate', 'installment', 'grade', 'sub_grade', 'emp_title', 'emp_length', 'home_ownership', 'annual_inc', 'verification_status', 'loan_status', 'pymnt_plan', 'purpose', 'dti', 'delinq_2yrs', 'earliest_cr_line', 'inq_last_6mths', 'mths_since_last_delinq', 'open_acc', 'pub_rec', 'revol_bal', 'revol_util', 'total_acc', 'out_prncp', 'out_prncp_inv', 'total_pymnt', 'total_pymnt_inv', 'total_rec_prncp', 'total_rec_int', 'total_rec_late_fee', 'collection_recovery_fee', 'acc_now_delinq', 'tot_coll_amt', 'tot_cur_bal', 'total_rev_hi_lim']"
     ]
    }
   ],
   "source": [
    "# Continue removing unncessary columns:\n",
    "\n",
    "columns_to_drop = [\n",
    "    'id', 'member_id', 'issue_d', 'url', 'title', \n",
    "    'zip_code', 'addr_state', 'policy_code', \n",
    "    'application_type', 'last_pymnt_d', 'last_pymnt_amnt', \n",
    "    'next_pymnt_d', 'last_credit_pull_d', \n",
    "    'collections_12_mths_ex_med', 'initial_list_status', \n",
    "    'recoveries', 'collections_12_mths_ex_med'\n",
    "]\n",
    "\n",
    "# Remove duplicate columns (if any)\n",
    "columns_to_drop = list(set(columns_to_drop))\n",
    "\n",
    "# Drop the specified columns\n",
    "df_cleaned = df_cleaned.drop(*columns_to_drop)\n",
    "\n",
    "# Verify results\n",
    "print(\"Columns dropped:\", columns_to_drop)\n",
    "print(\"Original DataFrame Columns:\", len(df.columns))\n",
    "print(\"Cleaned DataFrame Columns:\", len(df_cleaned.columns))\n",
    "\n",
    "# Show remaining columns\n",
    "print(\"\\nRemaining Columns:\")\n",
    "print(df_cleaned.columns)"
   ]
  },
  {
   "cell_type": "code",
   "execution_count": 8,
   "id": "a2eb9b69-c5f5-4696-afed-60d668bf5290",
   "metadata": {
    "execution": {
     "iopub.execute_input": "2025-03-12T02:00:57.174252Z",
     "iopub.status.busy": "2025-03-12T02:00:57.174003Z",
     "iopub.status.idle": "2025-03-12T02:01:02.506804Z",
     "shell.execute_reply": "2025-03-12T02:01:02.505923Z",
     "shell.execute_reply.started": "2025-03-12T02:00:57.174220Z"
    },
    "tags": []
   },
   "outputs": [
    {
     "data": {
      "application/vnd.jupyter.widget-view+json": {
       "model_id": "88090f52c038496b9868615f026188d7",
       "version_major": 2,
       "version_minor": 0
      },
      "text/plain": [
       "VBox()"
      ]
     },
     "metadata": {},
     "output_type": "display_data"
    },
    {
     "data": {
      "application/vnd.jupyter.widget-view+json": {
       "model_id": "",
       "version_major": 2,
       "version_minor": 0
      },
      "text/plain": [
       "FloatProgress(value=0.0, bar_style='info', description='Progress:', layout=Layout(height='25px', width='50%'),…"
      ]
     },
     "metadata": {},
     "output_type": "display_data"
    },
    {
     "name": "stdout",
     "output_type": "stream",
     "text": [
      "Number of rows with different values: 54222\n",
      "\n",
      "Remaining columns:\n",
      "['loan_amnt', 'funded_amnt', 'funded_amnt_inv', 'term', 'int_rate', 'installment', 'grade', 'sub_grade', 'emp_title', 'emp_length', 'home_ownership', 'annual_inc', 'verification_status', 'loan_status', 'pymnt_plan', 'purpose', 'dti', 'delinq_2yrs', 'earliest_cr_line', 'inq_last_6mths', 'mths_since_last_delinq', 'open_acc', 'pub_rec', 'revol_bal', 'revol_util', 'total_acc', 'out_prncp', 'out_prncp_inv', 'total_pymnt', 'total_pymnt_inv', 'total_rec_prncp', 'total_rec_int', 'total_rec_late_fee', 'collection_recovery_fee', 'acc_now_delinq', 'tot_coll_amt', 'tot_cur_bal', 'total_rev_hi_lim']"
     ]
    }
   ],
   "source": [
    "# Check if out_prncp and out_prncp_inv have the same values. If so, drop one of the columns\n",
    "# Check total number of rows where values differ\n",
    "diff_count = df_cleaned.filter(col('out_prncp') != col('out_prncp_inv')).count()\n",
    "print(f\"Number of rows with different values: {diff_count}\")\n",
    "\n",
    "# If count is 0, prepare to drop one column\n",
    "if diff_count == 0:\n",
    "    # Drop out_prncp_inv\n",
    "    df_cleaned = df_cleaned.drop('out_prncp_inv')\n",
    "    print(\"Dropped 'out_prncp_inv' column\")\n",
    "\n",
    "# Verify columns\n",
    "print(\"\\nRemaining columns:\")\n",
    "print(df_cleaned.columns)"
   ]
  },
  {
   "cell_type": "code",
   "execution_count": 9,
   "id": "c35ddad6-b7d1-48a1-96ab-5f6c58491e04",
   "metadata": {
    "execution": {
     "iopub.execute_input": "2025-03-12T02:01:21.626558Z",
     "iopub.status.busy": "2025-03-12T02:01:21.626256Z",
     "iopub.status.idle": "2025-03-12T02:01:28.949034Z",
     "shell.execute_reply": "2025-03-12T02:01:28.941053Z",
     "shell.execute_reply.started": "2025-03-12T02:01:21.626523Z"
    },
    "tags": []
   },
   "outputs": [
    {
     "data": {
      "application/vnd.jupyter.widget-view+json": {
       "model_id": "5cb2081dbd554bb484a0b404ad936070",
       "version_major": 2,
       "version_minor": 0
      },
      "text/plain": [
       "VBox()"
      ]
     },
     "metadata": {},
     "output_type": "display_data"
    },
    {
     "data": {
      "application/vnd.jupyter.widget-view+json": {
       "model_id": "",
       "version_major": 2,
       "version_minor": 0
      },
      "text/plain": [
       "FloatProgress(value=0.0, bar_style='info', description='Progress:', layout=Layout(height='25px', width='50%'),…"
      ]
     },
     "metadata": {},
     "output_type": "display_data"
    },
    {
     "name": "stdout",
     "output_type": "stream",
     "text": [
      "Total rows: 887379\n",
      "Missing values in 'mths_since_last_delinq': 454152\n",
      "Missing percentage: 51.18%"
     ]
    }
   ],
   "source": [
    "# seeing if we can drop 'mths_since_last_delinq' column\n",
    "# Check missing values\n",
    "missing_count = df_cleaned.filter(col('mths_since_last_delinq').isNull()).count()\n",
    "total_rows = df_cleaned.count()\n",
    "missing_percentage = (missing_count / total_rows) * 100\n",
    "\n",
    "print(f\"Total rows: {total_rows}\")\n",
    "print(f\"Missing values in 'mths_since_last_delinq': {missing_count}\")\n",
    "print(f\"Missing percentage: {missing_percentage:.2f}%\")"
   ]
  },
  {
   "cell_type": "code",
   "execution_count": 10,
   "id": "e3769f02-235b-4632-b4c5-176b4aaeee9b",
   "metadata": {
    "execution": {
     "iopub.execute_input": "2025-03-12T02:01:39.084485Z",
     "iopub.status.busy": "2025-03-12T02:01:39.084239Z",
     "iopub.status.idle": "2025-03-12T02:01:39.156443Z",
     "shell.execute_reply": "2025-03-12T02:01:39.154487Z",
     "shell.execute_reply.started": "2025-03-12T02:01:39.084458Z"
    },
    "tags": []
   },
   "outputs": [
    {
     "data": {
      "application/vnd.jupyter.widget-view+json": {
       "model_id": "340dd61363854415a6de223dfddf493b",
       "version_major": 2,
       "version_minor": 0
      },
      "text/plain": [
       "VBox()"
      ]
     },
     "metadata": {},
     "output_type": "display_data"
    },
    {
     "data": {
      "application/vnd.jupyter.widget-view+json": {
       "model_id": "",
       "version_major": 2,
       "version_minor": 0
      },
      "text/plain": [
       "FloatProgress(value=0.0, bar_style='info', description='Progress:', layout=Layout(height='25px', width='50%'),…"
      ]
     },
     "metadata": {},
     "output_type": "display_data"
    },
    {
     "name": "stdout",
     "output_type": "stream",
     "text": [
      "Remaining columns:\n",
      "loan_amnt\n",
      "funded_amnt\n",
      "funded_amnt_inv\n",
      "term\n",
      "int_rate\n",
      "installment\n",
      "grade\n",
      "sub_grade\n",
      "emp_title\n",
      "emp_length\n",
      "home_ownership\n",
      "annual_inc\n",
      "verification_status\n",
      "loan_status\n",
      "pymnt_plan\n",
      "purpose\n",
      "dti\n",
      "delinq_2yrs\n",
      "earliest_cr_line\n",
      "inq_last_6mths\n",
      "open_acc\n",
      "pub_rec\n",
      "revol_bal\n",
      "revol_util\n",
      "total_acc\n",
      "out_prncp\n",
      "out_prncp_inv\n",
      "total_pymnt\n",
      "total_pymnt_inv\n",
      "total_rec_prncp\n",
      "total_rec_int\n",
      "total_rec_late_fee\n",
      "collection_recovery_fee\n",
      "acc_now_delinq\n",
      "tot_coll_amt\n",
      "tot_cur_bal\n",
      "total_rev_hi_lim\n",
      "Total number of columns: 37"
     ]
    }
   ],
   "source": [
    "# Since greater than 50%, drop 'mths_since_last_delinq':\n",
    "df_cleaned = df_cleaned.drop('mths_since_last_delinq')\n",
    "print(\"Remaining columns:\")\n",
    "for column in df_cleaned.columns:\n",
    "    print(column)\n",
    "    \n",
    "# Total number of columns\n",
    "print(f\"Total number of columns: {len(df_cleaned.columns)}\")"
   ]
  },
  {
   "cell_type": "code",
   "execution_count": 11,
   "id": "f35a3c10-48c9-4771-bd6a-c5456dd018ad",
   "metadata": {
    "execution": {
     "iopub.execute_input": "2025-03-12T02:01:43.889325Z",
     "iopub.status.busy": "2025-03-12T02:01:43.889034Z",
     "iopub.status.idle": "2025-03-12T02:01:43.973683Z",
     "shell.execute_reply": "2025-03-12T02:01:43.972435Z",
     "shell.execute_reply.started": "2025-03-12T02:01:43.889267Z"
    },
    "tags": []
   },
   "outputs": [
    {
     "data": {
      "application/vnd.jupyter.widget-view+json": {
       "model_id": "24bdff5bc79f45219cda459c59a89716",
       "version_major": 2,
       "version_minor": 0
      },
      "text/plain": [
       "VBox()"
      ]
     },
     "metadata": {},
     "output_type": "display_data"
    },
    {
     "data": {
      "application/vnd.jupyter.widget-view+json": {
       "model_id": "",
       "version_major": 2,
       "version_minor": 0
      },
      "text/plain": [
       "FloatProgress(value=0.0, bar_style='info', description='Progress:', layout=Layout(height='25px', width='50%'),…"
      ]
     },
     "metadata": {},
     "output_type": "display_data"
    },
    {
     "name": "stdout",
     "output_type": "stream",
     "text": [
      "Remaining columns:\n",
      "loan_amnt\n",
      "funded_amnt\n",
      "funded_amnt_inv\n",
      "term\n",
      "int_rate\n",
      "installment\n",
      "grade\n",
      "emp_length\n",
      "home_ownership\n",
      "annual_inc\n",
      "verification_status\n",
      "loan_status\n",
      "purpose\n",
      "dti\n",
      "delinq_2yrs\n",
      "earliest_cr_line\n",
      "inq_last_6mths\n",
      "open_acc\n",
      "pub_rec\n",
      "revol_bal\n",
      "revol_util\n",
      "total_acc\n",
      "Total number of columns: 22"
     ]
    }
   ],
   "source": [
    "# Further drop other unnecessary columns: \n",
    "# 'pymnt_plan', 'out_prncp', 'total_pymnt', 'total_pymnt_inv', 'total_rec_prncp', 'total_rec_int', 'total_rec_late_fee', 'collection_recovery_fee', 'collection_recovery_fee', 'tot_coll_amt', 'tot_cur_bal', 'sub_grade', 'out_prncp_inv', 'total_rev_hi_lim', 'emp_title', 'acc_now_delinq'\n",
    "df_cleaned = df_cleaned.drop('pymnt_plan', 'out_prncp', 'total_pymnt', 'total_pymnt_inv', 'total_rec_prncp', 'total_rec_int', 'total_rec_late_fee', 'collection_recovery_fee', 'collection_recovery_fee', 'tot_coll_amt', 'tot_cur_bal', 'sub_grade', 'out_prncp_inv', 'total_rev_hi_lim', 'emp_title', 'acc_now_delinq')\n",
    "print(\"Remaining columns:\")\n",
    "for column in df_cleaned.columns:\n",
    "    print(column)\n",
    "    \n",
    "# Total number of columns\n",
    "print(f\"Total number of columns: {len(df_cleaned.columns)}\")"
   ]
  },
  {
   "cell_type": "code",
   "execution_count": 21,
   "id": "70eccb2e-a4f7-485f-ae1a-78fda7de9269",
   "metadata": {
    "execution": {
     "iopub.execute_input": "2025-03-11T22:44:01.182132Z",
     "iopub.status.busy": "2025-03-11T22:44:01.181891Z",
     "iopub.status.idle": "2025-03-11T22:44:30.603838Z",
     "shell.execute_reply": "2025-03-11T22:44:30.603024Z",
     "shell.execute_reply.started": "2025-03-11T22:44:01.182103Z"
    },
    "tags": []
   },
   "outputs": [
    {
     "data": {
      "application/vnd.jupyter.widget-view+json": {
       "model_id": "cbab72c311954a84bf5f0b54dc55df14",
       "version_major": 2,
       "version_minor": 0
      },
      "text/plain": [
       "VBox()"
      ]
     },
     "metadata": {},
     "output_type": "display_data"
    },
    {
     "data": {
      "application/vnd.jupyter.widget-view+json": {
       "model_id": "",
       "version_major": 2,
       "version_minor": 0
      },
      "text/plain": [
       "FloatProgress(value=0.0, bar_style='info', description='Progress:', layout=Layout(height='25px', width='50%'),…"
      ]
     },
     "metadata": {},
     "output_type": "display_data"
    },
    {
     "name": "stdout",
     "output_type": "stream",
     "text": [
      "Cleaned data exported successfully to S3 bucket."
     ]
    }
   ],
   "source": [
    "# Export to CSV in S3 bucket\n",
    "df_cleaned.write.csv(\n",
    "    's3://credit-risk-analysis-final-project/cleaned_loan_data', \n",
    "    mode='overwrite',  # Overwrite existing files\n",
    "    header=True        # Include column headers\n",
    ")\n",
    "\n",
    "print(\"Cleaned data exported successfully to S3 bucket.\")\n"
   ]
  },
  {
   "cell_type": "markdown",
   "id": "f12c3f10-f8be-4111-af82-27afc1a93fe0",
   "metadata": {},
   "source": [
    "Categorical columns are:  \n",
    "\n",
    "    'grade',           # Risk category\n",
    "    \n",
    "    'emp_length',      # Employment duration\n",
    "    \n",
    "    'home_ownership',  # Residential status\n",
    "    \n",
    "    'verification_status',  # Income verification\n",
    "    \n",
    "    'purpose' "
   ]
  },
  {
   "cell_type": "code",
   "execution_count": 12,
   "id": "3a838f2f-3521-499e-a51e-9d1799363fd1",
   "metadata": {
    "execution": {
     "iopub.execute_input": "2025-03-12T02:01:59.700269Z",
     "iopub.status.busy": "2025-03-12T02:01:59.700010Z",
     "iopub.status.idle": "2025-03-12T02:03:07.509069Z",
     "shell.execute_reply": "2025-03-12T02:03:07.508178Z",
     "shell.execute_reply.started": "2025-03-12T02:01:59.700241Z"
    },
    "tags": []
   },
   "outputs": [
    {
     "data": {
      "application/vnd.jupyter.widget-view+json": {
       "model_id": "895cd6ea7b3d4300aac3d6d593fd6719",
       "version_major": 2,
       "version_minor": 0
      },
      "text/plain": [
       "VBox()"
      ]
     },
     "metadata": {},
     "output_type": "display_data"
    },
    {
     "data": {
      "application/vnd.jupyter.widget-view+json": {
       "model_id": "",
       "version_major": 2,
       "version_minor": 0
      },
      "text/plain": [
       "FloatProgress(value=0.0, bar_style='info', description='Progress:', layout=Layout(height='25px', width='50%'),…"
      ]
     },
     "metadata": {},
     "output_type": "display_data"
    },
    {
     "name": "stdout",
     "output_type": "stream",
     "text": [
      "Unique Values Analysis:\n",
      "\n",
      "GRADE - Unique Values:\n",
      "+-----+------+\n",
      "|grade|count |\n",
      "+-----+------+\n",
      "|B    |254535|\n",
      "|C    |245860|\n",
      "|A    |148202|\n",
      "|D    |139542|\n",
      "|E    |70705 |\n",
      "|F    |23046 |\n",
      "|G    |5489  |\n",
      "+-----+------+\n",
      "\n",
      "Total unique values: 7\n",
      "\n",
      "Percentage Distribution:\n",
      "+-----+------+----------+\n",
      "|grade|count |percentage|\n",
      "+-----+------+----------+\n",
      "|B    |254535|28.68     |\n",
      "|C    |245860|27.71     |\n",
      "|A    |148202|16.70     |\n",
      "|D    |139542|15.73     |\n",
      "|E    |70705 |7.97      |\n",
      "|F    |23046 |2.60      |\n",
      "|G    |5489  |0.62      |\n",
      "+-----+------+----------+\n",
      "\n",
      "\n",
      "EMP_LENGTH - Unique Values:\n",
      "+----------+------+\n",
      "|emp_length|count |\n",
      "+----------+------+\n",
      "|10+ years |291569|\n",
      "|2 years   |78869 |\n",
      "|< 1 year  |70605 |\n",
      "|3 years   |70026 |\n",
      "|1 year    |57095 |\n",
      "|5 years   |55704 |\n",
      "|4 years   |52529 |\n",
      "|n/a       |44825 |\n",
      "|7 years   |44594 |\n",
      "|8 years   |43955 |\n",
      "|6 years   |42950 |\n",
      "|9 years   |34657 |\n",
      "| reactors\"|1     |\n",
      "+----------+------+\n",
      "\n",
      "Total unique values: 13\n",
      "\n",
      "Percentage Distribution:\n",
      "+----------+------+----------+\n",
      "|emp_length|count |percentage|\n",
      "+----------+------+----------+\n",
      "|10+ years |291569|32.86     |\n",
      "|2 years   |78869 |8.89      |\n",
      "|< 1 year  |70605 |7.96      |\n",
      "|3 years   |70026 |7.89      |\n",
      "|1 year    |57095 |6.43      |\n",
      "|5 years   |55704 |6.28      |\n",
      "|4 years   |52529 |5.92      |\n",
      "|n/a       |44825 |5.05      |\n",
      "|7 years   |44594 |5.03      |\n",
      "|8 years   |43955 |4.95      |\n",
      "|6 years   |42950 |4.84      |\n",
      "|9 years   |34657 |3.91      |\n",
      "| reactors\"|1     |0.00      |\n",
      "+----------+------+----------+\n",
      "\n",
      "\n",
      "HOME_OWNERSHIP - Unique Values:\n",
      "+--------------+------+\n",
      "|home_ownership|count |\n",
      "+--------------+------+\n",
      "|MORTGAGE      |443556|\n",
      "|RENT          |356117|\n",
      "|OWN           |87470 |\n",
      "|OTHER         |182   |\n",
      "|NONE          |50    |\n",
      "|ANY           |3     |\n",
      "|2 years       |1     |\n",
      "+--------------+------+\n",
      "\n",
      "Total unique values: 7\n",
      "\n",
      "Percentage Distribution:\n",
      "+--------------+------+----------+\n",
      "|home_ownership|count |percentage|\n",
      "+--------------+------+----------+\n",
      "|MORTGAGE      |443556|49.98     |\n",
      "|RENT          |356117|40.13     |\n",
      "|OWN           |87470 |9.86      |\n",
      "|OTHER         |182   |0.02      |\n",
      "|NONE          |50    |0.01      |\n",
      "|ANY           |3     |0.00      |\n",
      "|2 years       |1     |0.00      |\n",
      "+--------------+------+----------+\n",
      "\n",
      "\n",
      "VERIFICATION_STATUS - Unique Values:\n",
      "+-------------------+------+\n",
      "|verification_status|count |\n",
      "+-------------------+------+\n",
      "|Source Verified    |329557|\n",
      "|Verified           |291071|\n",
      "|Not Verified       |266750|\n",
      "|38000.0            |1     |\n",
      "+-------------------+------+\n",
      "\n",
      "Total unique values: 4\n",
      "\n",
      "Percentage Distribution:\n",
      "+-------------------+------+----------+\n",
      "|verification_status|count |percentage|\n",
      "+-------------------+------+----------+\n",
      "|Source Verified    |329557|37.14     |\n",
      "|Verified           |291071|32.80     |\n",
      "|Not Verified       |266750|30.06     |\n",
      "|38000.0            |1     |0.00      |\n",
      "+-------------------+------+----------+\n",
      "\n",
      "\n",
      "PURPOSE - Unique Values:\n",
      "+----------------------------------------------------------------------------------------------------------------------------------------------------------------------------------------------------------------------------------------------------------------------+------+\n",
      "|purpose                                                                                                                                                                                                                                                               |count |\n",
      "+----------------------------------------------------------------------------------------------------------------------------------------------------------------------------------------------------------------------------------------------------------------------+------+\n",
      "|debt_consolidation                                                                                                                                                                                                                                                    |524129|\n",
      "|credit_card                                                                                                                                                                                                                                                           |206137|\n",
      "|home_improvement                                                                                                                                                                                                                                                      |51812 |\n",
      "|other                                                                                                                                                                                                                                                                 |42867 |\n",
      "|major_purchase                                                                                                                                                                                                                                                        |17261 |\n",
      "|small_business                                                                                                                                                                                                                                                        |10347 |\n",
      "|car                                                                                                                                                                                                                                                                   |8859  |\n",
      "|medical                                                                                                                                                                                                                                                               |8533  |\n",
      "|moving                                                                                                                                                                                                                                                                |5413  |\n",
      "|vacation                                                                                                                                                                                                                                                              |4736  |\n",
      "|house                                                                                                                                                                                                                                                                 |3702  |\n",
      "|wedding                                                                                                                                                                                                                                                               |2343  |\n",
      "|renewable_energy                                                                                                                                                                                                                                                      |575   |\n",
      "|educational                                                                                                                                                                                                                                                           |411   |\n",
      "|NULL                                                                                                                                                                                                                                                                  |1     |\n",
      "| I have eliminated 2 1/2 so far                                                                                                                                                                                                                                       |1     |\n",
      "| my cell is on a family plan at 10 dollars a month                                                                                                                                                                                                                    |1     |\n",
      "| MD\"\"... approx. 4 miles North of Bethesda (an appreciating to stable market) and 6 miles South of Rockville (designated a declining market).  The need to borrow is created by timing.  I estimate that the current value of the divorce assets is approximately $200|1     |\n",
      "| and have never had any credit but credit cards (paid in full each month).  I have purchased my (used) vehicles with cash                                                                                                                                             |1     |\n",
      "| increasingly                                                                                                                                                                                                                                                         |1     |\n",
      "+----------------------------------------------------------------------------------------------------------------------------------------------------------------------------------------------------------------------------------------------------------------------+------+\n",
      "only showing top 20 rows\n",
      "\n",
      "Total unique values: 268\n",
      "\n",
      "Percentage Distribution:\n",
      "+----------------------------------------------------------------------------------------------------------------------------------------------------------------------------------------------------------------------------------------------------------------------+------+----------+\n",
      "|purpose                                                                                                                                                                                                                                                               |count |percentage|\n",
      "+----------------------------------------------------------------------------------------------------------------------------------------------------------------------------------------------------------------------------------------------------------------------+------+----------+\n",
      "|debt_consolidation                                                                                                                                                                                                                                                    |524129|59.06     |\n",
      "|credit_card                                                                                                                                                                                                                                                           |206137|23.23     |\n",
      "|home_improvement                                                                                                                                                                                                                                                      |51812 |5.84      |\n",
      "|other                                                                                                                                                                                                                                                                 |42867 |4.83      |\n",
      "|major_purchase                                                                                                                                                                                                                                                        |17261 |1.95      |\n",
      "|small_business                                                                                                                                                                                                                                                        |10347 |1.17      |\n",
      "|car                                                                                                                                                                                                                                                                   |8859  |1.00      |\n",
      "|medical                                                                                                                                                                                                                                                               |8533  |0.96      |\n",
      "|moving                                                                                                                                                                                                                                                                |5413  |0.61      |\n",
      "|vacation                                                                                                                                                                                                                                                              |4736  |0.53      |\n",
      "|house                                                                                                                                                                                                                                                                 |3702  |0.42      |\n",
      "|wedding                                                                                                                                                                                                                                                               |2343  |0.26      |\n",
      "|renewable_energy                                                                                                                                                                                                                                                      |575   |0.06      |\n",
      "|educational                                                                                                                                                                                                                                                           |411   |0.05      |\n",
      "|NULL                                                                                                                                                                                                                                                                  |1     |0.00      |\n",
      "| I have eliminated 2 1/2 so far                                                                                                                                                                                                                                       |1     |0.00      |\n",
      "| my cell is on a family plan at 10 dollars a month                                                                                                                                                                                                                    |1     |0.00      |\n",
      "| MD\"\"... approx. 4 miles North of Bethesda (an appreciating to stable market) and 6 miles South of Rockville (designated a declining market).  The need to borrow is created by timing.  I estimate that the current value of the divorce assets is approximately $200|1     |0.00      |\n",
      "| and have never had any credit but credit cards (paid in full each month).  I have purchased my (used) vehicles with cash                                                                                                                                             |1     |0.00      |\n",
      "| increasingly                                                                                                                                                                                                                                                         |1     |0.00      |\n",
      "+----------------------------------------------------------------------------------------------------------------------------------------------------------------------------------------------------------------------------------------------------------------------+------+----------+\n",
      "only showing top 20 rows"
     ]
    }
   ],
   "source": [
    "# Analyzing unique values for the categorical columns\n",
    "# Categorical columns to analyze\n",
    "categorical_columns = [\n",
    "    'grade',           # Risk category\n",
    "    'emp_length',      # Employment duration\n",
    "    'home_ownership',  # Residential status\n",
    "    'verification_status',  # Income verification\n",
    "    'purpose'          # Loan purpose\n",
    "]\n",
    "\n",
    "# Function to get unique values for each categorical column\n",
    "def analyze_categorical_columns(df, columns):\n",
    "    print(\"Unique Values Analysis:\")\n",
    "    for column in columns:\n",
    "        print(f\"\\n{column.upper()} - Unique Values:\")\n",
    "        \n",
    "        # Get unique values and their counts\n",
    "        unique_values = df.groupBy(column) \\\n",
    "            .count() \\\n",
    "            .orderBy('count', ascending=False)\n",
    "        \n",
    "        unique_values.show(truncate=False)\n",
    "        \n",
    "        # Calculate total number of unique values\n",
    "        total_unique = unique_values.count()\n",
    "        print(f\"Total unique values: {total_unique}\")\n",
    "        \n",
    "        # Calculate percentage distribution\n",
    "        total_rows = df.count()\n",
    "        print(\"\\nPercentage Distribution:\")\n",
    "        unique_values.withColumn('percentage', \n",
    "            (col('count') / total_rows * 100).cast('decimal(5,2)')\n",
    "        ).show(truncate=False)\n",
    "\n",
    "# Run the analysis\n",
    "analyze_categorical_columns(df_cleaned, categorical_columns)"
   ]
  },
  {
   "cell_type": "code",
   "execution_count": 34,
   "id": "ede90365-c6e5-4e13-8fe4-ae4e02880343",
   "metadata": {
    "execution": {
     "iopub.execute_input": "2025-03-12T00:02:05.702137Z",
     "iopub.status.busy": "2025-03-12T00:02:05.701877Z",
     "iopub.status.idle": "2025-03-12T00:02:05.772484Z",
     "shell.execute_reply": "2025-03-12T00:02:05.771614Z",
     "shell.execute_reply.started": "2025-03-12T00:02:05.702102Z"
    },
    "tags": []
   },
   "outputs": [
    {
     "data": {
      "application/vnd.jupyter.widget-view+json": {
       "model_id": "18f773915d31469585551c652519fa8d",
       "version_major": 2,
       "version_minor": 0
      },
      "text/plain": [
       "VBox()"
      ]
     },
     "metadata": {},
     "output_type": "display_data"
    },
    {
     "data": {
      "application/vnd.jupyter.widget-view+json": {
       "model_id": "",
       "version_major": 2,
       "version_minor": 0
      },
      "text/plain": [
       "FloatProgress(value=0.0, bar_style='info', description='Progress:', layout=Layout(height='25px', width='50%'),…"
      ]
     },
     "metadata": {},
     "output_type": "display_data"
    }
   ],
   "source": [
    "from pyspark.ml.feature import StringIndexer, OneHotEncoder\n",
    "\n",
    "# Encoding for 'Grade' column\n",
    "def encode_grade(df):\n",
    "    # StringIndexer\n",
    "    grade_indexer = StringIndexer(\n",
    "        inputCol='grade', \n",
    "        outputCol='grade_index',\n",
    "        handleInvalid='keep'\n",
    "    )\n",
    "    \n",
    "    # One-Hot Encoder\n",
    "    grade_encoder = OneHotEncoder(\n",
    "        inputCol='grade_index', \n",
    "        outputCol='grade_encoded'\n",
    "    )\n",
    "    \n",
    "    # Fit and transform\n",
    "    indexer_model = grade_indexer.fit(df)\n",
    "    df_indexed = indexer_model.transform(df)\n",
    "    \n",
    "    encoder_model = grade_encoder.fit(df_indexed)\n",
    "    df_final = encoder_model.transform(df_indexed)\n",
    "    \n",
    "    return df_final"
   ]
  },
  {
   "cell_type": "code",
   "execution_count": 35,
   "id": "f8c32f53-ed06-4727-89b9-1e65965d086b",
   "metadata": {
    "execution": {
     "iopub.execute_input": "2025-03-12T00:02:59.347364Z",
     "iopub.status.busy": "2025-03-12T00:02:59.347127Z",
     "iopub.status.idle": "2025-03-12T00:02:59.404892Z",
     "shell.execute_reply": "2025-03-12T00:02:59.404076Z",
     "shell.execute_reply.started": "2025-03-12T00:02:59.347336Z"
    },
    "tags": []
   },
   "outputs": [
    {
     "data": {
      "application/vnd.jupyter.widget-view+json": {
       "model_id": "f95b22369fc14685bda6a086ac2f8c4d",
       "version_major": 2,
       "version_minor": 0
      },
      "text/plain": [
       "VBox()"
      ]
     },
     "metadata": {},
     "output_type": "display_data"
    },
    {
     "data": {
      "application/vnd.jupyter.widget-view+json": {
       "model_id": "",
       "version_major": 2,
       "version_minor": 0
      },
      "text/plain": [
       "FloatProgress(value=0.0, bar_style='info', description='Progress:', layout=Layout(height='25px', width='50%'),…"
      ]
     },
     "metadata": {},
     "output_type": "display_data"
    }
   ],
   "source": [
    "from pyspark.ml.feature import StringIndexer, OneHotEncoder\n",
    "\n",
    "# Encoding for 'emp_length' column\n",
    "def encode_emp_length(df):\n",
    "    # Remove 'reactors\"' row\n",
    "    df_cleaned = df.filter(col('emp_length') != 'reactors\"')\n",
    "    \n",
    "    # StringIndexer\n",
    "    emp_length_indexer = StringIndexer(\n",
    "        inputCol='emp_length', \n",
    "        outputCol='emp_length_index',\n",
    "        handleInvalid='keep'\n",
    "    )\n",
    "    \n",
    "    # One-Hot Encoder\n",
    "    emp_length_encoder = OneHotEncoder(\n",
    "        inputCol='emp_length_index', \n",
    "        outputCol='emp_length_encoded'\n",
    "    )\n",
    "    \n",
    "    # Fit and transform\n",
    "    indexer_model = emp_length_indexer.fit(df_cleaned)\n",
    "    df_indexed = indexer_model.transform(df_cleaned)\n",
    "    \n",
    "    encoder_model = emp_length_encoder.fit(df_indexed)\n",
    "    df_final = encoder_model.transform(df_indexed)\n",
    "    \n",
    "    return df_final"
   ]
  },
  {
   "cell_type": "code",
   "execution_count": 31,
   "id": "4a95c622-fac5-4dde-a050-4b220a0c9ac0",
   "metadata": {
    "execution": {
     "iopub.execute_input": "2025-03-11T23:50:17.741080Z",
     "iopub.status.busy": "2025-03-11T23:50:17.740814Z",
     "iopub.status.idle": "2025-03-11T23:50:17.807310Z",
     "shell.execute_reply": "2025-03-11T23:50:17.803514Z",
     "shell.execute_reply.started": "2025-03-11T23:50:17.741030Z"
    },
    "tags": []
   },
   "outputs": [
    {
     "data": {
      "application/vnd.jupyter.widget-view+json": {
       "model_id": "09cbad4fb269494c89a49a821807cee3",
       "version_major": 2,
       "version_minor": 0
      },
      "text/plain": [
       "VBox()"
      ]
     },
     "metadata": {},
     "output_type": "display_data"
    },
    {
     "data": {
      "application/vnd.jupyter.widget-view+json": {
       "model_id": "",
       "version_major": 2,
       "version_minor": 0
      },
      "text/plain": [
       "FloatProgress(value=0.0, bar_style='info', description='Progress:', layout=Layout(height='25px', width='50%'),…"
      ]
     },
     "metadata": {},
     "output_type": "display_data"
    }
   ],
   "source": [
    "# Encoding for 'home_ownership\n",
    "def encode_home_ownership(df):\n",
    "    # Consolidate rare categories\n",
    "    df_consolidated = df.withColumn('home_ownership_consolidated', \n",
    "        when(col('home_ownership').isin('MORTGAGE', 'RENT', 'OWN'), col('home_ownership'))\n",
    "        .when(col('home_ownership').isin('NONE', 'ANY', '2 years'), 'OTHER')\n",
    "        .otherwise('OTHER')\n",
    "    )\n",
    "    \n",
    "    # StringIndexer\n",
    "    home_ownership_indexer = StringIndexer(\n",
    "        inputCol='home_ownership_consolidated', \n",
    "        outputCol='home_ownership_index',\n",
    "        handleInvalid='keep'\n",
    "    )\n",
    "    \n",
    "    # One-Hot Encoder\n",
    "    home_ownership_encoder = OneHotEncoder(\n",
    "        inputCol='home_ownership_index', \n",
    "        outputCol='home_ownership_encoded'\n",
    "    )\n",
    "    \n",
    "    # Fit and transform\n",
    "    indexer_model = home_ownership_indexer.fit(df_consolidated)\n",
    "    df_indexed = indexer_model.transform(df_consolidated)\n",
    "    \n",
    "    encoder_model = home_ownership_encoder.fit(df_indexed)\n",
    "    df_final = encoder_model.transform(df_indexed)\n",
    "    \n",
    "    return df_final"
   ]
  },
  {
   "cell_type": "code",
   "execution_count": 32,
   "id": "d2960959-6e17-4d09-ac35-ab4022b61131",
   "metadata": {
    "execution": {
     "iopub.execute_input": "2025-03-11T23:50:37.849457Z",
     "iopub.status.busy": "2025-03-11T23:50:37.849205Z",
     "iopub.status.idle": "2025-03-11T23:50:37.916050Z",
     "shell.execute_reply": "2025-03-11T23:50:37.915084Z",
     "shell.execute_reply.started": "2025-03-11T23:50:37.849429Z"
    }
   },
   "outputs": [
    {
     "data": {
      "application/vnd.jupyter.widget-view+json": {
       "model_id": "3f418c63afdb46e2a45bb1efe29ad958",
       "version_major": 2,
       "version_minor": 0
      },
      "text/plain": [
       "VBox()"
      ]
     },
     "metadata": {},
     "output_type": "display_data"
    },
    {
     "data": {
      "application/vnd.jupyter.widget-view+json": {
       "model_id": "",
       "version_major": 2,
       "version_minor": 0
      },
      "text/plain": [
       "FloatProgress(value=0.0, bar_style='info', description='Progress:', layout=Layout(height='25px', width='50%'),…"
      ]
     },
     "metadata": {},
     "output_type": "display_data"
    }
   ],
   "source": [
    "# Encoding for 'verification_status' \n",
    "def encode_verification_status(df):\n",
    "    # Clean and consolidate verification status\n",
    "    df_cleaned = df.withColumn('verification_status_cleaned', \n",
    "        when(col('verification_status').isin('Source Verified', 'Verified', 'Not Verified'), \n",
    "             col('verification_status'))\n",
    "        .when(col('verification_status') == '38000.0', 'Not Verified')\n",
    "        .otherwise('Not Verified')\n",
    "    )\n",
    "    \n",
    "    # StringIndexer\n",
    "    verification_status_indexer = StringIndexer(\n",
    "        inputCol='verification_status_cleaned', \n",
    "        outputCol='verification_status_index',\n",
    "        handleInvalid='keep'\n",
    "    )\n",
    "    \n",
    "    # One-Hot Encoder\n",
    "    verification_status_encoder = OneHotEncoder(\n",
    "        inputCol='verification_status_index', \n",
    "        outputCol='verification_status_encoded'\n",
    "    )\n",
    "    \n",
    "    # Fit and transform\n",
    "    indexer_model = verification_status_indexer.fit(df_cleaned)\n",
    "    df_indexed = indexer_model.transform(df_cleaned)\n",
    "    \n",
    "    encoder_model = verification_status_encoder.fit(df_indexed)\n",
    "    df_final = encoder_model.transform(df_indexed)\n",
    "    \n",
    "    return df_final"
   ]
  },
  {
   "cell_type": "code",
   "execution_count": 36,
   "id": "e9fae8b8-37de-492a-989b-acd9e42a7a8a",
   "metadata": {
    "execution": {
     "iopub.execute_input": "2025-03-12T00:04:55.246993Z",
     "iopub.status.busy": "2025-03-12T00:04:55.246756Z",
     "iopub.status.idle": "2025-03-12T00:04:55.333865Z",
     "shell.execute_reply": "2025-03-12T00:04:55.328184Z",
     "shell.execute_reply.started": "2025-03-12T00:04:55.246964Z"
    },
    "tags": []
   },
   "outputs": [
    {
     "data": {
      "application/vnd.jupyter.widget-view+json": {
       "model_id": "0e367edba1ce4a69ba3e6f930f2bdfa8",
       "version_major": 2,
       "version_minor": 0
      },
      "text/plain": [
       "VBox()"
      ]
     },
     "metadata": {},
     "output_type": "display_data"
    },
    {
     "data": {
      "application/vnd.jupyter.widget-view+json": {
       "model_id": "",
       "version_major": 2,
       "version_minor": 0
      },
      "text/plain": [
       "FloatProgress(value=0.0, bar_style='info', description='Progress:', layout=Layout(height='25px', width='50%'),…"
      ]
     },
     "metadata": {},
     "output_type": "display_data"
    }
   ],
   "source": [
    "# Encoding for 'purpose' \n",
    "def encode_purpose(df):\n",
    "    # Consolidate categories\n",
    "    df_consolidated = df.withColumn('purpose_consolidated', \n",
    "        when(col('purpose').isin(['debt_consolidation', 'credit_card']), col('purpose'))\n",
    "        .when(col('purpose') == 'home_improvement', 'home_improvement')\n",
    "        .otherwise('other')\n",
    "    )\n",
    "    \n",
    "    # StringIndexer\n",
    "    purpose_indexer = StringIndexer(\n",
    "        inputCol='purpose_consolidated', \n",
    "        outputCol='purpose_index',\n",
    "        handleInvalid='keep'\n",
    "    )\n",
    "    \n",
    "    # One-Hot Encoder\n",
    "    purpose_encoder = OneHotEncoder(\n",
    "        inputCol='purpose_index', \n",
    "        outputCol='purpose_encoded'\n",
    "    )\n",
    "    \n",
    "    # Fit and transform\n",
    "    indexer_model = purpose_indexer.fit(df_consolidated)\n",
    "    df_indexed = indexer_model.transform(df_consolidated)\n",
    "    \n",
    "    encoder_model = purpose_encoder.fit(df_indexed)\n",
    "    df_final = encoder_model.transform(df_indexed)\n",
    "    \n",
    "    return df_final"
   ]
  },
  {
   "cell_type": "code",
   "execution_count": 13,
   "id": "64815af5-f81b-40b4-ad54-d7e1b6676e77",
   "metadata": {
    "execution": {
     "iopub.execute_input": "2025-03-12T02:04:06.571380Z",
     "iopub.status.busy": "2025-03-12T02:04:06.571128Z",
     "iopub.status.idle": "2025-03-12T02:04:16.019642Z",
     "shell.execute_reply": "2025-03-12T02:04:16.012255Z",
     "shell.execute_reply.started": "2025-03-12T02:04:06.571353Z"
    },
    "tags": []
   },
   "outputs": [
    {
     "data": {
      "application/vnd.jupyter.widget-view+json": {
       "model_id": "ec808974b53846fdac20abf750f980ee",
       "version_major": 2,
       "version_minor": 0
      },
      "text/plain": [
       "VBox()"
      ]
     },
     "metadata": {},
     "output_type": "display_data"
    },
    {
     "data": {
      "application/vnd.jupyter.widget-view+json": {
       "model_id": "",
       "version_major": 2,
       "version_minor": 0
      },
      "text/plain": [
       "FloatProgress(value=0.0, bar_style='info', description='Progress:', layout=Layout(height='25px', width='50%'),…"
      ]
     },
     "metadata": {},
     "output_type": "display_data"
    },
    {
     "name": "stdout",
     "output_type": "stream",
     "text": [
      "Unique Loan Status Values:\n",
      "+---------------------------------------------------+------+\n",
      "|loan_status                                        |count |\n",
      "+---------------------------------------------------+------+\n",
      "|Current                                            |601778|\n",
      "|Fully Paid                                         |207723|\n",
      "|Charged Off                                        |45248 |\n",
      "|Late (31-120 days)                                 |11591 |\n",
      "|Issued                                             |8460  |\n",
      "|In Grace Period                                    |6253  |\n",
      "|Late (16-30 days)                                  |2357  |\n",
      "|Does not meet the credit policy. Status:Fully Paid |1988  |\n",
      "|Default                                            |1219  |\n",
      "|Does not meet the credit policy. Status:Charged Off|761   |\n",
      "|Oct-2015                                           |1     |\n",
      "+---------------------------------------------------+------+\n",
      "\n",
      "\n",
      "Percentage Distribution:\n",
      "+---------------------------------------------------+------+----------+\n",
      "|loan_status                                        |count |percentage|\n",
      "+---------------------------------------------------+------+----------+\n",
      "|Current                                            |601778|67.82     |\n",
      "|Fully Paid                                         |207723|23.41     |\n",
      "|Charged Off                                        |45248 |5.10      |\n",
      "|Late (31-120 days)                                 |11591 |1.31      |\n",
      "|Issued                                             |8460  |0.95      |\n",
      "|In Grace Period                                    |6253  |0.70      |\n",
      "|Late (16-30 days)                                  |2357  |0.27      |\n",
      "|Does not meet the credit policy. Status:Fully Paid |1988  |0.22      |\n",
      "|Default                                            |1219  |0.14      |\n",
      "|Does not meet the credit policy. Status:Charged Off|761   |0.09      |\n",
      "|Oct-2015                                           |1     |0.00      |\n",
      "+---------------------------------------------------+------+----------+"
     ]
    }
   ],
   "source": [
    "# Check unique 'loan_status' values, which is our target variable\n",
    "def analyze_loan_status(df):\n",
    "    # Get unique values and their counts\n",
    "    loan_status_counts = df.groupBy('loan_status') \\\n",
    "        .count() \\\n",
    "        .orderBy('count', ascending=False)\n",
    "    \n",
    "    print(\"Unique Loan Status Values:\")\n",
    "    loan_status_counts.show(truncate=False)\n",
    "    \n",
    "    # Calculate total rows and percentages\n",
    "    total_rows = df.count()\n",
    "    \n",
    "    print(\"\\nPercentage Distribution:\")\n",
    "    loan_status_counts.withColumn('percentage', \n",
    "        (col('count') / total_rows * 100).cast('decimal(5,2)')\n",
    "    ).show(truncate=False)\n",
    "\n",
    "# Binary Encoding Function\n",
    "def encode_loan_status(df):\n",
    "    df_encoded = df.withColumn('loan_status_binary', \n",
    "        when(col('loan_status') == 'Fully Paid', 0)\n",
    "        .otherwise(1)\n",
    "    )\n",
    "    return df_encoded\n",
    "\n",
    "# Call the analysis function\n",
    "analyze_loan_status(df_cleaned)"
   ]
  },
  {
   "cell_type": "markdown",
   "id": "38eb94fa-075a-42a4-a99d-f95826d0c71e",
   "metadata": {},
   "source": [
    "I will be combining similar default indicators and will be excluding 'Current', 'Issued', and 'In Grace Period' from my dataset so that I can focus on definitive loan outcomes. This will provide me a clearer signal for default prediction. My binary encoding will be 1 = Default/High Risk, 0 = Non-Default/Low Risk. "
   ]
  },
  {
   "cell_type": "code",
   "execution_count": 14,
   "id": "64e68bae-bf09-4795-a177-fe5eae1212c9",
   "metadata": {
    "execution": {
     "iopub.execute_input": "2025-03-12T02:19:27.310113Z",
     "iopub.status.busy": "2025-03-12T02:19:27.309081Z",
     "iopub.status.idle": "2025-03-12T02:20:22.923502Z",
     "shell.execute_reply": "2025-03-12T02:20:22.922582Z",
     "shell.execute_reply.started": "2025-03-12T02:19:27.310058Z"
    },
    "tags": []
   },
   "outputs": [
    {
     "data": {
      "application/vnd.jupyter.widget-view+json": {
       "model_id": "8743af4c40d64f98b1370ec180e16c74",
       "version_major": 2,
       "version_minor": 0
      },
      "text/plain": [
       "VBox()"
      ]
     },
     "metadata": {},
     "output_type": "display_data"
    },
    {
     "data": {
      "application/vnd.jupyter.widget-view+json": {
       "model_id": "",
       "version_major": 2,
       "version_minor": 0
      },
      "text/plain": [
       "FloatProgress(value=0.0, bar_style='info', description='Progress:', layout=Layout(height='25px', width='50%'),…"
      ]
     },
     "metadata": {},
     "output_type": "display_data"
    },
    {
     "name": "stderr",
     "output_type": "stream",
     "text": [
      "An error was encountered:\n",
      "requirement failed: Column grade must be of type numeric but was actually of type string.\n",
      "Traceback (most recent call last):\n",
      "  File \"<stdin>\", line 16, in prepare_final_dataframe\n",
      "  File \"/mnt/yarn/usercache/livy/appcache/application_1741744095678_0001/container_1741744095678_0001_01_000001/pyspark.zip/pyspark/ml/base.py\", line 205, in fit\n",
      "    return self._fit(dataset)\n",
      "  File \"/mnt/yarn/usercache/livy/appcache/application_1741744095678_0001/container_1741744095678_0001_01_000001/pyspark.zip/pyspark/ml/wrapper.py\", line 381, in _fit\n",
      "    java_model = self._fit_java(dataset)\n",
      "  File \"/mnt/yarn/usercache/livy/appcache/application_1741744095678_0001/container_1741744095678_0001_01_000001/pyspark.zip/pyspark/ml/wrapper.py\", line 378, in _fit_java\n",
      "    return self._java_obj.fit(dataset._jdf)\n",
      "  File \"/mnt/yarn/usercache/livy/appcache/application_1741744095678_0001/container_1741744095678_0001_01_000001/py4j-0.10.9.7-src.zip/py4j/java_gateway.py\", line 1322, in __call__\n",
      "    return_value = get_return_value(\n",
      "  File \"/mnt/yarn/usercache/livy/appcache/application_1741744095678_0001/container_1741744095678_0001_01_000001/pyspark.zip/pyspark/errors/exceptions/captured.py\", line 185, in deco\n",
      "    raise converted from None\n",
      "pyspark.errors.exceptions.captured.IllegalArgumentException: requirement failed: Column grade must be of type numeric but was actually of type string.\n",
      "\n"
     ]
    }
   ],
   "source": [
    "# Removing rows where 'loan_status' = 'Current', 'Issued', or 'In Grace Period'\n",
    "# Handling all 5 categorical encodings by turning them into OneHotEncoding\n",
    "\n",
    "\n",
    "from pyspark.sql.functions import col, when\n",
    "from pyspark.ml.feature import StringIndexer, OneHotEncoder\n",
    "\n",
    "def prepare_final_dataframe(df_cleaned):\n",
    "    # 1. Remove rows with specific loan statuses\n",
    "    df_filtered = df_cleaned.filter(\n",
    "        ~col('loan_status').isin('Current', 'Issued', 'In Grace Period')\n",
    "    )\n",
    "    \n",
    "    # 2. Grade Encoding\n",
    "    grade_indexer = StringIndexer(\n",
    "        inputCol='grade', \n",
    "        outputCol='grade_index',\n",
    "        handleInvalid='keep'\n",
    "    )\n",
    "    grade_encoder = OneHotEncoder(\n",
    "        inputCol='grade_index', \n",
    "        outputCol='grade_encoded'\n",
    "    )\n",
    "    grade_indexer_model = grade_indexer.fit(df_filtered)\n",
    "    df_grade = grade_indexer_model.transform(df_filtered)\n",
    "    grade_encoder_model = grade_encoder.fit(df_grade)\n",
    "    df_grade = grade_encoder_model.transform(df_grade)\n",
    "    \n",
    "    # 3. Employment Length Encoding\n",
    "    # Remove 'reactors\"' row\n",
    "    df_emp = df_grade.filter(col('emp_length') != 'reactors\"')\n",
    "    \n",
    "    emp_length_indexer = StringIndexer(\n",
    "        inputCol='emp_length', \n",
    "        outputCol='emp_length_index',\n",
    "        handleInvalid='keep'\n",
    "    )\n",
    "    emp_length_encoder = OneHotEncoder(\n",
    "        inputCol='emp_length_index', \n",
    "        outputCol='emp_length_encoded'\n",
    "    )\n",
    "    emp_length_indexer_model = emp_length_indexer.fit(df_emp)\n",
    "    df_emp = emp_length_indexer_model.transform(df_emp)\n",
    "    emp_length_encoder_model = emp_length_encoder.fit(df_emp)\n",
    "    df_emp = emp_length_encoder_model.transform(df_emp)\n",
    "    \n",
    "    # 4. Home Ownership Encoding\n",
    "    df_home = df_emp.withColumn('home_ownership_consolidated', \n",
    "        when(col('home_ownership').isin('MORTGAGE', 'RENT', 'OWN'), col('home_ownership'))\n",
    "        .when(col('home_ownership').isin('NONE', 'ANY', '2 years'), 'OTHER')\n",
    "        .otherwise('OTHER')\n",
    "    )\n",
    "    \n",
    "    home_ownership_indexer = StringIndexer(\n",
    "        inputCol='home_ownership_consolidated', \n",
    "        outputCol='home_ownership_index',\n",
    "        handleInvalid='keep'\n",
    "    )\n",
    "    home_ownership_encoder = OneHotEncoder(\n",
    "        inputCol='home_ownership_index', \n",
    "        outputCol='home_ownership_encoded'\n",
    "    )\n",
    "    home_ownership_indexer_model = home_ownership_indexer.fit(df_home)\n",
    "    df_home = home_ownership_indexer_model.transform(df_home)\n",
    "    home_ownership_encoder_model = home_ownership_encoder.fit(df_home)\n",
    "    df_home = home_ownership_encoder_model.transform(df_home)\n",
    "    \n",
    "    # 5. Verification Status Encoding\n",
    "    df_verification = df_home.withColumn('verification_status_cleaned', \n",
    "        when(col('verification_status').isin('Source Verified', 'Verified', 'Not Verified'), \n",
    "             col('verification_status'))\n",
    "        .when(col('verification_status') == '38000.0', 'Not Verified')\n",
    "        .otherwise('Not Verified')\n",
    "    )\n",
    "    \n",
    "    verification_status_indexer = StringIndexer(\n",
    "        inputCol='verification_status_cleaned', \n",
    "        outputCol='verification_status_index',\n",
    "        handleInvalid='keep'\n",
    "    )\n",
    "    verification_status_encoder = OneHotEncoder(\n",
    "        inputCol='verification_status_index', \n",
    "        outputCol='verification_status_encoded'\n",
    "    )\n",
    "    verification_status_indexer_model = verification_status_indexer.fit(df_verification)\n",
    "    df_verification = verification_status_indexer_model.transform(df_verification)\n",
    "    verification_status_encoder_model = verification_status_encoder.fit(df_verification)\n",
    "    df_verification = verification_status_encoder_model.transform(df_verification)\n",
    "    \n",
    "    # 6. Purpose Encoding\n",
    "    df_purpose = df_verification.withColumn('purpose_consolidated', \n",
    "        when(col('purpose').isin(['debt_consolidation', 'credit_card']), col('purpose'))\n",
    "        .when(col('purpose') == 'home_improvement', 'home_improvement')\n",
    "        .otherwise('other')\n",
    "    )\n",
    "    \n",
    "    purpose_indexer = StringIndexer(\n",
    "        inputCol='purpose_consolidated', \n",
    "        outputCol='purpose_index',\n",
    "        handleInvalid='keep'\n",
    "    )\n",
    "    purpose_encoder = OneHotEncoder(\n",
    "        inputCol='purpose_index', \n",
    "        outputCol='purpose_encoded'\n",
    "    )\n",
    "    purpose_indexer_model = purpose_indexer.fit(df_purpose)\n",
    "    df_purpose = purpose_indexer_model.transform(df_purpose)\n",
    "    purpose_encoder_model = purpose_encoder.fit(df_purpose)\n",
    "    df_purpose = purpose_encoder_model.transform(df_purpose)\n",
    "    \n",
    "    # 7. Loan Status Encoding\n",
    "    df_final = df_purpose.withColumn('loan_status_binary', \n",
    "        when(col('loan_status').isin(\n",
    "            'Charged Off', \n",
    "            'Late (31-120 days)', \n",
    "            'Late (16-30 days)', \n",
    "            'Default',\n",
    "            'Does not meet the credit policy. Status:Charged Off'\n",
    "        ), 1)  # Default/High Risk\n",
    "        .when(col('loan_status').isin(\n",
    "            'Fully Paid',\n",
    "            'Does not meet the credit policy. Status:Fully Paid'\n",
    "        ), 0)  # Non-Default/Low Risk\n",
    "    )\n",
    "    \n",
    "    return df_final\n",
    "\n",
    "# Execute the processing\n",
    "df_final = prepare_final_dataframe(df_cleaned)"
   ]
  },
  {
   "cell_type": "code",
   "execution_count": 18,
   "id": "19dba478-6d3b-4c7a-8cb5-b9ac0c2b80e0",
   "metadata": {
    "execution": {
     "iopub.execute_input": "2025-03-12T02:27:03.277469Z",
     "iopub.status.busy": "2025-03-12T02:27:03.277225Z",
     "iopub.status.idle": "2025-03-12T02:27:16.679719Z",
     "shell.execute_reply": "2025-03-12T02:27:16.678650Z",
     "shell.execute_reply.started": "2025-03-12T02:27:03.277441Z"
    },
    "tags": []
   },
   "outputs": [
    {
     "data": {
      "application/vnd.jupyter.widget-view+json": {
       "model_id": "9f492ae70ff546259ee90a9df856b32f",
       "version_major": 2,
       "version_minor": 0
      },
      "text/plain": [
       "VBox()"
      ]
     },
     "metadata": {},
     "output_type": "display_data"
    },
    {
     "data": {
      "application/vnd.jupyter.widget-view+json": {
       "model_id": "",
       "version_major": 2,
       "version_minor": 0
      },
      "text/plain": [
       "FloatProgress(value=0.0, bar_style='info', description='Progress:', layout=Layout(height='25px', width='50%'),…"
      ]
     },
     "metadata": {},
     "output_type": "display_data"
    },
    {
     "name": "stdout",
     "output_type": "stream",
     "text": [
      "    grade_index                        grade_encoded  emp_length_index                                                 emp_length_encoded home_ownership_consolidated  home_ownership_index home_ownership_encoded verification_status_cleaned  verification_status_index verification_status_encoded purpose_consolidated  purpose_index       purpose_encoded  loan_status_binary\n",
      "0           0.0  (1.0, 0.0, 0.0, 0.0, 0.0, 0.0, 0.0)               0.0  (1.0, 0.0, 0.0, 0.0, 0.0, 0.0, 0.0, 0.0, 0.0, 0.0, 0.0, 0.0, 0.0)                        RENT                   1.0   (0.0, 1.0, 0.0, 0.0)                    Verified                        0.0             (1.0, 0.0, 0.0)          credit_card            1.0  (0.0, 1.0, 0.0, 0.0)                   0\n",
      "1           1.0  (0.0, 1.0, 0.0, 0.0, 0.0, 0.0, 0.0)               2.0  (0.0, 0.0, 1.0, 0.0, 0.0, 0.0, 0.0, 0.0, 0.0, 0.0, 0.0, 0.0, 0.0)                        RENT                   1.0   (0.0, 1.0, 0.0, 0.0)             Source Verified                        2.0             (0.0, 0.0, 1.0)                other            2.0  (0.0, 0.0, 1.0, 0.0)                   1\n",
      "2           1.0  (0.0, 1.0, 0.0, 0.0, 0.0, 0.0, 0.0)               0.0  (1.0, 0.0, 0.0, 0.0, 0.0, 0.0, 0.0, 0.0, 0.0, 0.0, 0.0, 0.0, 0.0)                        RENT                   1.0   (0.0, 1.0, 0.0, 0.0)                Not Verified                        1.0             (0.0, 1.0, 0.0)                other            2.0  (0.0, 0.0, 1.0, 0.0)                   0\n",
      "3           1.0  (0.0, 1.0, 0.0, 0.0, 0.0, 0.0, 0.0)               0.0  (1.0, 0.0, 0.0, 0.0, 0.0, 0.0, 0.0, 0.0, 0.0, 0.0, 0.0, 0.0, 0.0)                        RENT                   1.0   (0.0, 1.0, 0.0, 0.0)             Source Verified                        2.0             (0.0, 0.0, 1.0)                other            2.0  (0.0, 0.0, 1.0, 0.0)                   0\n",
      "4           3.0  (0.0, 0.0, 0.0, 1.0, 0.0, 0.0, 0.0)               3.0  (0.0, 0.0, 0.0, 1.0, 0.0, 0.0, 0.0, 0.0, 0.0, 0.0, 0.0, 0.0, 0.0)                        RENT                   1.0   (0.0, 1.0, 0.0, 0.0)             Source Verified                        2.0             (0.0, 0.0, 1.0)                other            2.0  (0.0, 0.0, 1.0, 0.0)                   0\n",
      "5           4.0  (0.0, 0.0, 0.0, 0.0, 1.0, 0.0, 0.0)              11.0  (0.0, 0.0, 0.0, 0.0, 0.0, 0.0, 0.0, 0.0, 0.0, 0.0, 0.0, 1.0, 0.0)                        RENT                   1.0   (0.0, 1.0, 0.0, 0.0)             Source Verified                        2.0             (0.0, 0.0, 1.0)                other            2.0  (0.0, 0.0, 1.0, 0.0)                   0\n",
      "6           5.0  (0.0, 0.0, 0.0, 0.0, 0.0, 1.0, 0.0)               6.0  (0.0, 0.0, 0.0, 0.0, 0.0, 0.0, 1.0, 0.0, 0.0, 0.0, 0.0, 0.0, 0.0)                         OWN                   2.0   (0.0, 0.0, 1.0, 0.0)             Source Verified                        2.0             (0.0, 0.0, 1.0)                other            2.0  (0.0, 0.0, 1.0, 0.0)                   1\n",
      "7           0.0  (1.0, 0.0, 0.0, 0.0, 0.0, 0.0, 0.0)               2.0  (0.0, 0.0, 1.0, 0.0, 0.0, 0.0, 0.0, 0.0, 0.0, 0.0, 0.0, 0.0, 0.0)                        RENT                   1.0   (0.0, 1.0, 0.0, 0.0)                    Verified                        0.0             (1.0, 0.0, 0.0)                other            2.0  (0.0, 0.0, 1.0, 0.0)                   1\n",
      "8           1.0  (0.0, 1.0, 0.0, 0.0, 0.0, 0.0, 0.0)               4.0  (0.0, 0.0, 0.0, 0.0, 1.0, 0.0, 0.0, 0.0, 0.0, 0.0, 0.0, 0.0, 0.0)                         OWN                   2.0   (0.0, 0.0, 1.0, 0.0)                Not Verified                        1.0             (0.0, 1.0, 0.0)   debt_consolidation            0.0  (1.0, 0.0, 0.0, 0.0)                   0\n",
      "9           0.0  (1.0, 0.0, 0.0, 0.0, 0.0, 0.0, 0.0)               0.0  (1.0, 0.0, 0.0, 0.0, 0.0, 0.0, 0.0, 0.0, 0.0, 0.0, 0.0, 0.0, 0.0)                         OWN                   2.0   (0.0, 0.0, 1.0, 0.0)             Source Verified                        2.0             (0.0, 0.0, 1.0)   debt_consolidation            0.0  (1.0, 0.0, 0.0, 0.0)                   0\n",
      "10          1.0  (0.0, 1.0, 0.0, 0.0, 0.0, 0.0, 0.0)               2.0  (0.0, 0.0, 1.0, 0.0, 0.0, 0.0, 0.0, 0.0, 0.0, 0.0, 0.0, 0.0, 0.0)                        RENT                   1.0   (0.0, 1.0, 0.0, 0.0)             Source Verified                        2.0             (0.0, 0.0, 1.0)   debt_consolidation            0.0  (1.0, 0.0, 0.0, 0.0)                   1\n",
      "11          0.0  (1.0, 0.0, 0.0, 0.0, 0.0, 0.0, 0.0)               3.0  (0.0, 0.0, 0.0, 1.0, 0.0, 0.0, 0.0, 0.0, 0.0, 0.0, 0.0, 0.0, 0.0)                        RENT                   1.0   (0.0, 1.0, 0.0, 0.0)             Source Verified                        2.0             (0.0, 0.0, 1.0)          credit_card            1.0  (0.0, 1.0, 0.0, 0.0)                   0\n",
      "12          0.0  (1.0, 0.0, 0.0, 0.0, 0.0, 0.0, 0.0)               3.0  (0.0, 0.0, 0.0, 1.0, 0.0, 0.0, 0.0, 0.0, 0.0, 0.0, 0.0, 0.0, 0.0)                        RENT                   1.0   (0.0, 1.0, 0.0, 0.0)             Source Verified                        2.0             (0.0, 0.0, 1.0)                other            2.0  (0.0, 0.0, 1.0, 0.0)                   1\n",
      "13          2.0  (0.0, 0.0, 1.0, 0.0, 0.0, 0.0, 0.0)               2.0  (0.0, 0.0, 1.0, 0.0, 0.0, 0.0, 0.0, 0.0, 0.0, 0.0, 0.0, 0.0, 0.0)                        RENT                   1.0   (0.0, 1.0, 0.0, 0.0)                Not Verified                        1.0             (0.0, 1.0, 0.0)   debt_consolidation            0.0  (1.0, 0.0, 0.0, 0.0)                   0\n",
      "14          1.0  (0.0, 1.0, 0.0, 0.0, 0.0, 0.0, 0.0)               6.0  (0.0, 0.0, 0.0, 0.0, 0.0, 0.0, 1.0, 0.0, 0.0, 0.0, 0.0, 0.0, 0.0)                        RENT                   1.0   (0.0, 1.0, 0.0, 0.0)                Not Verified                        1.0             (0.0, 1.0, 0.0)     home_improvement            3.0  (0.0, 0.0, 0.0, 1.0)                   0\n",
      "15          3.0  (0.0, 0.0, 0.0, 1.0, 0.0, 0.0, 0.0)               0.0  (1.0, 0.0, 0.0, 0.0, 0.0, 0.0, 0.0, 0.0, 0.0, 0.0, 0.0, 0.0, 0.0)                    MORTGAGE                   0.0   (1.0, 0.0, 0.0, 0.0)                Not Verified                        1.0             (0.0, 1.0, 0.0)                other            2.0  (0.0, 0.0, 1.0, 0.0)                   0\n",
      "16          0.0  (1.0, 0.0, 0.0, 0.0, 0.0, 0.0, 0.0)               5.0  (0.0, 0.0, 0.0, 0.0, 0.0, 1.0, 0.0, 0.0, 0.0, 0.0, 0.0, 0.0, 0.0)                    MORTGAGE                   0.0   (1.0, 0.0, 0.0, 0.0)                    Verified                        0.0             (1.0, 0.0, 0.0)                other            2.0  (0.0, 0.0, 1.0, 0.0)                   0\n",
      "17          3.0  (0.0, 0.0, 0.0, 1.0, 0.0, 0.0, 0.0)               7.0  (0.0, 0.0, 0.0, 0.0, 0.0, 0.0, 0.0, 1.0, 0.0, 0.0, 0.0, 0.0, 0.0)                        RENT                   1.0   (0.0, 1.0, 0.0, 0.0)                Not Verified                        1.0             (0.0, 1.0, 0.0)   debt_consolidation            0.0  (1.0, 0.0, 0.0, 0.0)                   0\n",
      "18          1.0  (0.0, 1.0, 0.0, 0.0, 0.0, 0.0, 0.0)               3.0  (0.0, 0.0, 0.0, 1.0, 0.0, 0.0, 0.0, 0.0, 0.0, 0.0, 0.0, 0.0, 0.0)                        RENT                   1.0   (0.0, 1.0, 0.0, 0.0)                    Verified                        0.0             (1.0, 0.0, 0.0)   debt_consolidation            0.0  (1.0, 0.0, 0.0, 0.0)                   0\n",
      "19          0.0  (1.0, 0.0, 0.0, 0.0, 0.0, 0.0, 0.0)               0.0  (1.0, 0.0, 0.0, 0.0, 0.0, 0.0, 0.0, 0.0, 0.0, 0.0, 0.0, 0.0, 0.0)                        RENT                   1.0   (0.0, 1.0, 0.0, 0.0)                    Verified                        0.0             (1.0, 0.0, 0.0)   debt_consolidation            0.0  (1.0, 0.0, 0.0, 0.0)                   1"
     ]
    }
   ],
   "source": [
    "# Convert to Pandas DataFrame\n",
    "columns_to_show = [\n",
    "    'grade_index', \n",
    "    'grade_encoded', \n",
    "    'emp_length_index', \n",
    "    'emp_length_encoded', \n",
    "    'home_ownership_consolidated', \n",
    "    'home_ownership_index', \n",
    "    'home_ownership_encoded', \n",
    "    'verification_status_cleaned', \n",
    "    'verification_status_index', \n",
    "    'verification_status_encoded', \n",
    "    'purpose_consolidated', \n",
    "    'purpose_index', \n",
    "    'purpose_encoded', \n",
    "    'loan_status_binary'\n",
    "]\n",
    "\n",
    "# Convert to Pandas DataFrame\n",
    "pandas_df = df_final.select(columns_to_show).limit(20).toPandas()\n",
    "\n",
    "# Set display options for better readability\n",
    "import pandas as pd\n",
    "pd.set_option('display.max_columns', None)\n",
    "pd.set_option('display.width', 1000)\n",
    "pd.set_option('display.max_colwidth', None)\n",
    "\n",
    "# Display the DataFrame\n",
    "print(pandas_df)"
   ]
  },
  {
   "cell_type": "code",
   "execution_count": 26,
   "id": "ffa029e6-a03e-4daa-b2c7-bc64b3133aba",
   "metadata": {
    "execution": {
     "iopub.execute_input": "2025-03-12T02:48:40.784846Z",
     "iopub.status.busy": "2025-03-12T02:48:40.784250Z",
     "iopub.status.idle": "2025-03-12T02:48:40.852960Z",
     "shell.execute_reply": "2025-03-12T02:48:40.847440Z",
     "shell.execute_reply.started": "2025-03-12T02:48:40.784469Z"
    },
    "tags": []
   },
   "outputs": [
    {
     "data": {
      "application/vnd.jupyter.widget-view+json": {
       "model_id": "8bf62c91095b4785af7e1ecad7f56548",
       "version_major": 2,
       "version_minor": 0
      },
      "text/plain": [
       "VBox()"
      ]
     },
     "metadata": {},
     "output_type": "display_data"
    },
    {
     "data": {
      "application/vnd.jupyter.widget-view+json": {
       "model_id": "",
       "version_major": 2,
       "version_minor": 0
      },
      "text/plain": [
       "FloatProgress(value=0.0, bar_style='info', description='Progress:', layout=Layout(height='25px', width='50%'),…"
      ]
     },
     "metadata": {},
     "output_type": "display_data"
    }
   ],
   "source": [
    "# remove all columns we used as intermediate steps to OneHotEncode for our categorical variables to keep only the encoded and original columns\n",
    "columns_to_drop = ['grade','grade_index', 'emp_length_index', 'home_ownership','home_ownership_index', 'verification_status_index', 'purpose_index', 'home_ownership_consolidated','verification_status_cleaned', 'purpose_consolidated', 'verification_status','purpose','emp_length','loan_status']\n",
    "df_final = df_final.drop(*columns_to_drop)\n"
   ]
  },
  {
   "cell_type": "code",
   "execution_count": 27,
   "id": "8861434f-8d93-4f3e-b966-189e8ef1752a",
   "metadata": {
    "execution": {
     "iopub.execute_input": "2025-03-12T02:48:42.672506Z",
     "iopub.status.busy": "2025-03-12T02:48:42.671964Z",
     "iopub.status.idle": "2025-03-12T02:48:42.747419Z",
     "shell.execute_reply": "2025-03-12T02:48:42.746488Z",
     "shell.execute_reply.started": "2025-03-12T02:48:42.672471Z"
    },
    "tags": []
   },
   "outputs": [
    {
     "data": {
      "application/vnd.jupyter.widget-view+json": {
       "model_id": "6600e09c9ef24304a3cb7f9ef7ee8137",
       "version_major": 2,
       "version_minor": 0
      },
      "text/plain": [
       "VBox()"
      ]
     },
     "metadata": {},
     "output_type": "display_data"
    },
    {
     "data": {
      "application/vnd.jupyter.widget-view+json": {
       "model_id": "",
       "version_major": 2,
       "version_minor": 0
      },
      "text/plain": [
       "FloatProgress(value=0.0, bar_style='info', description='Progress:', layout=Layout(height='25px', width='50%'),…"
      ]
     },
     "metadata": {},
     "output_type": "display_data"
    },
    {
     "name": "stdout",
     "output_type": "stream",
     "text": [
      "['loan_amnt', 'funded_amnt', 'funded_amnt_inv', 'term', 'int_rate', 'installment', 'annual_inc', 'dti', 'delinq_2yrs', 'earliest_cr_line', 'inq_last_6mths', 'open_acc', 'pub_rec', 'revol_bal', 'revol_util', 'total_acc', 'grade_encoded', 'emp_length_encoded', 'home_ownership_encoded', 'verification_status_encoded', 'purpose_encoded', 'loan_status_binary']"
     ]
    }
   ],
   "source": [
    "df_final.columns"
   ]
  },
  {
   "cell_type": "code",
   "execution_count": 28,
   "id": "c144cdfc-8cf3-41e9-aad9-432f179e5dee",
   "metadata": {
    "execution": {
     "iopub.execute_input": "2025-03-12T02:51:14.790906Z",
     "iopub.status.busy": "2025-03-12T02:51:14.790658Z",
     "iopub.status.idle": "2025-03-12T02:51:52.248652Z",
     "shell.execute_reply": "2025-03-12T02:51:52.247829Z",
     "shell.execute_reply.started": "2025-03-12T02:51:14.790877Z"
    }
   },
   "outputs": [
    {
     "data": {
      "application/vnd.jupyter.widget-view+json": {
       "model_id": "3cf1cf9a4c0e4430bb370bf0f5fdccec",
       "version_major": 2,
       "version_minor": 0
      },
      "text/plain": [
       "VBox()"
      ]
     },
     "metadata": {},
     "output_type": "display_data"
    },
    {
     "data": {
      "application/vnd.jupyter.widget-view+json": {
       "model_id": "",
       "version_major": 2,
       "version_minor": 0
      },
      "text/plain": [
       "FloatProgress(value=0.0, bar_style='info', description='Progress:', layout=Layout(height='25px', width='50%'),…"
      ]
     },
     "metadata": {},
     "output_type": "display_data"
    },
    {
     "name": "stdout",
     "output_type": "stream",
     "text": [
      "\n",
      "Distribution for 'term':\n",
      "+----------+------+-----------------+\n",
      "|term      |count |percentage       |\n",
      "+----------+------+-----------------+\n",
      "| 36 months|208320|76.90263134579605|\n",
      "| 60 months|62568 |23.09736865420395|\n",
      "+----------+------+-----------------+\n",
      "\n",
      "\n",
      "Distribution for 'earliest_cr_line':\n",
      "+----------------+-----+------------------+\n",
      "|earliest_cr_line|count|percentage        |\n",
      "+----------------+-----+------------------+\n",
      "|Oct-2000        |2235 |0.8250642331886241|\n",
      "|Oct-2001        |2094 |0.773013201027731 |\n",
      "|Oct-1999        |2077 |0.766737544667907 |\n",
      "|Nov-2000        |2051 |0.7571394819999409|\n",
      "|Aug-2000        |2036 |0.7516021381530374|\n",
      "|Nov-1999        |2009 |0.741634919228611 |\n",
      "|Aug-2001        |1915 |0.706934231121349 |\n",
      "|Sep-2000        |1871 |0.6906913558370987|\n",
      "|Dec-2000        |1855 |0.684784855733735 |\n",
      "|Sep-2001        |1827 |0.6744484805528485|\n",
      "|Oct-2002        |1816 |0.6703877617317858|\n",
      "|Dec-1998        |1790 |0.6607896990638198|\n",
      "|Dec-1999        |1790 |0.6607896990638198|\n",
      "|Aug-1999        |1766 |0.6519299489087741|\n",
      "|Sep-1999        |1761 |0.6500841676264729|\n",
      "|Sep-2002        |1753 |0.647130917574791 |\n",
      "|Jan-2001        |1727 |0.637532854906825 |\n",
      "|Nov-1998        |1725 |0.6367945423939045|\n",
      "|Oct-1998        |1714 |0.6327338235728419|\n",
      "|Jul-2000        |1701 |0.6279347922388588|\n",
      "+----------------+-----+------------------+\n",
      "only showing top 20 rows"
     ]
    }
   ],
   "source": [
    "# need to deal with 'term' and 'earliest_cr_line'\n",
    "# let us take a look at their unique values\n",
    "from pyspark.sql.functions import col, count, countDistinct\n",
    "\n",
    "# Function to calculate percentage distribution\n",
    "def show_value_distribution(df, column):\n",
    "    total_rows = df.count()\n",
    "    \n",
    "    distribution = df.groupBy(column) \\\n",
    "        .agg(\n",
    "            count(column).alias('count'), \n",
    "            (count(column) / total_rows * 100).alias('percentage')\n",
    "        ) \\\n",
    "        .orderBy('count', ascending=False)\n",
    "    \n",
    "    print(f\"\\nDistribution for '{column}':\")\n",
    "    distribution.show(truncate=False)\n",
    "\n",
    "# Show distribution for 'term'\n",
    "show_value_distribution(df_final, 'term')\n",
    "\n",
    "# Show distribution for 'earliest_cr_line'\n",
    "show_value_distribution(df_final, 'earliest_cr_line')\n"
   ]
  },
  {
   "cell_type": "code",
   "execution_count": 33,
   "id": "b41ffb62-6de6-4778-ae41-203bdf8b3e73",
   "metadata": {
    "execution": {
     "iopub.execute_input": "2025-03-12T03:11:03.577650Z",
     "iopub.status.busy": "2025-03-12T03:11:03.577414Z",
     "iopub.status.idle": "2025-03-12T03:11:03.647891Z",
     "shell.execute_reply": "2025-03-12T03:11:03.644057Z",
     "shell.execute_reply.started": "2025-03-12T03:11:03.577623Z"
    },
    "tags": []
   },
   "outputs": [
    {
     "data": {
      "application/vnd.jupyter.widget-view+json": {
       "model_id": "6dff23fc0baa4dbdb926c39254ebd360",
       "version_major": 2,
       "version_minor": 0
      },
      "text/plain": [
       "VBox()"
      ]
     },
     "metadata": {},
     "output_type": "display_data"
    },
    {
     "data": {
      "application/vnd.jupyter.widget-view+json": {
       "model_id": "",
       "version_major": 2,
       "version_minor": 0
      },
      "text/plain": [
       "FloatProgress(value=0.0, bar_style='info', description='Progress:', layout=Layout(height='25px', width='50%'),…"
      ]
     },
     "metadata": {},
     "output_type": "display_data"
    }
   ],
   "source": [
    "from pyspark.sql.functions import regexp_replace, col\n",
    "\n",
    "# Convert term to numeric\n",
    "df_final = df_final.withColumn('term_numeric', \n",
    "    regexp_replace(col('term'), ' months', '').cast('int')\n",
    ")"
   ]
  },
  {
   "cell_type": "code",
   "execution_count": 34,
   "id": "c75cf82a-5ed0-472d-9483-59431f6a1e1f",
   "metadata": {
    "execution": {
     "iopub.execute_input": "2025-03-12T03:11:06.273714Z",
     "iopub.status.busy": "2025-03-12T03:11:06.273482Z",
     "iopub.status.idle": "2025-03-12T03:11:06.352835Z",
     "shell.execute_reply": "2025-03-12T03:11:06.352083Z",
     "shell.execute_reply.started": "2025-03-12T03:11:06.273688Z"
    },
    "tags": []
   },
   "outputs": [
    {
     "data": {
      "application/vnd.jupyter.widget-view+json": {
       "model_id": "99d31533f0ab46009072507c16614598",
       "version_major": 2,
       "version_minor": 0
      },
      "text/plain": [
       "VBox()"
      ]
     },
     "metadata": {},
     "output_type": "display_data"
    },
    {
     "data": {
      "application/vnd.jupyter.widget-view+json": {
       "model_id": "",
       "version_major": 2,
       "version_minor": 0
      },
      "text/plain": [
       "FloatProgress(value=0.0, bar_style='info', description='Progress:', layout=Layout(height='25px', width='50%'),…"
      ]
     },
     "metadata": {},
     "output_type": "display_data"
    },
    {
     "name": "stdout",
     "output_type": "stream",
     "text": [
      "['loan_amnt', 'funded_amnt', 'funded_amnt_inv', 'term', 'int_rate', 'installment', 'annual_inc', 'dti', 'delinq_2yrs', 'earliest_cr_line', 'inq_last_6mths', 'open_acc', 'pub_rec', 'revol_bal', 'revol_util', 'total_acc', 'grade_encoded', 'emp_length_encoded', 'home_ownership_encoded', 'verification_status_encoded', 'purpose_encoded', 'loan_status_binary', 'term_numeric', 'term_encoded']"
     ]
    }
   ],
   "source": [
    "df_final.columns"
   ]
  },
  {
   "cell_type": "code",
   "execution_count": 35,
   "id": "f92c418c-208f-433f-93d9-6311511f58d6",
   "metadata": {
    "execution": {
     "iopub.execute_input": "2025-03-12T03:12:48.942229Z",
     "iopub.status.busy": "2025-03-12T03:12:48.941983Z",
     "iopub.status.idle": "2025-03-12T03:12:49.026603Z",
     "shell.execute_reply": "2025-03-12T03:12:49.025914Z",
     "shell.execute_reply.started": "2025-03-12T03:12:48.942200Z"
    },
    "tags": []
   },
   "outputs": [
    {
     "data": {
      "application/vnd.jupyter.widget-view+json": {
       "model_id": "59d21eab702941bc9d4dc4c21a7467e9",
       "version_major": 2,
       "version_minor": 0
      },
      "text/plain": [
       "VBox()"
      ]
     },
     "metadata": {},
     "output_type": "display_data"
    },
    {
     "data": {
      "application/vnd.jupyter.widget-view+json": {
       "model_id": "",
       "version_major": 2,
       "version_minor": 0
      },
      "text/plain": [
       "FloatProgress(value=0.0, bar_style='info', description='Progress:', layout=Layout(height='25px', width='50%'),…"
      ]
     },
     "metadata": {},
     "output_type": "display_data"
    }
   ],
   "source": [
    "# remove term and term_encoded\n",
    "columns_to_drop = ['term', 'term_encoded']\n",
    "df_final = df_final.drop(*columns_to_drop)\n"
   ]
  },
  {
   "cell_type": "code",
   "execution_count": 36,
   "id": "b0e419ac-4f82-40a0-86ab-de635a04769d",
   "metadata": {
    "execution": {
     "iopub.execute_input": "2025-03-12T03:13:02.255557Z",
     "iopub.status.busy": "2025-03-12T03:13:02.255331Z",
     "iopub.status.idle": "2025-03-12T03:13:02.322131Z",
     "shell.execute_reply": "2025-03-12T03:13:02.320932Z",
     "shell.execute_reply.started": "2025-03-12T03:13:02.255531Z"
    }
   },
   "outputs": [
    {
     "data": {
      "application/vnd.jupyter.widget-view+json": {
       "model_id": "e25f96de6ea74c00b10a13354d0c044d",
       "version_major": 2,
       "version_minor": 0
      },
      "text/plain": [
       "VBox()"
      ]
     },
     "metadata": {},
     "output_type": "display_data"
    },
    {
     "data": {
      "application/vnd.jupyter.widget-view+json": {
       "model_id": "",
       "version_major": 2,
       "version_minor": 0
      },
      "text/plain": [
       "FloatProgress(value=0.0, bar_style='info', description='Progress:', layout=Layout(height='25px', width='50%'),…"
      ]
     },
     "metadata": {},
     "output_type": "display_data"
    },
    {
     "name": "stdout",
     "output_type": "stream",
     "text": [
      "['loan_amnt', 'funded_amnt', 'funded_amnt_inv', 'int_rate', 'installment', 'annual_inc', 'dti', 'delinq_2yrs', 'earliest_cr_line', 'inq_last_6mths', 'open_acc', 'pub_rec', 'revol_bal', 'revol_util', 'total_acc', 'grade_encoded', 'emp_length_encoded', 'home_ownership_encoded', 'verification_status_encoded', 'purpose_encoded', 'loan_status_binary', 'term_numeric']"
     ]
    }
   ],
   "source": [
    "df_final.columns"
   ]
  },
  {
   "cell_type": "code",
   "execution_count": 37,
   "id": "dd949dae-2f17-4f42-83ce-ed7ef2e8160f",
   "metadata": {
    "execution": {
     "iopub.execute_input": "2025-03-12T03:14:31.967782Z",
     "iopub.status.busy": "2025-03-12T03:14:31.967544Z",
     "iopub.status.idle": "2025-03-12T03:14:57.346350Z",
     "shell.execute_reply": "2025-03-12T03:14:57.345662Z",
     "shell.execute_reply.started": "2025-03-12T03:14:31.967754Z"
    }
   },
   "outputs": [
    {
     "data": {
      "application/vnd.jupyter.widget-view+json": {
       "model_id": "79fab01cc7124c2786094651e5639cb9",
       "version_major": 2,
       "version_minor": 0
      },
      "text/plain": [
       "VBox()"
      ]
     },
     "metadata": {},
     "output_type": "display_data"
    },
    {
     "data": {
      "application/vnd.jupyter.widget-view+json": {
       "model_id": "",
       "version_major": 2,
       "version_minor": 0
      },
      "text/plain": [
       "FloatProgress(value=0.0, bar_style='info', description='Progress:', layout=Layout(height='25px', width='50%'),…"
      ]
     },
     "metadata": {},
     "output_type": "display_data"
    },
    {
     "name": "stdout",
     "output_type": "stream",
     "text": [
      "Unique Values of term_numeric:\n",
      "+------------+------+\n",
      "|term_numeric| count|\n",
      "+------------+------+\n",
      "|          36|208320|\n",
      "|          60| 62568|\n",
      "+------------+------+"
     ]
    }
   ],
   "source": [
    "# Show unique values of 'term' and their counts\n",
    "print(\"Unique Values of term_numeric:\")\n",
    "df_final.groupBy('term_numeric') \\\n",
    "    .count() \\\n",
    "    .orderBy('count', ascending=False) \\\n",
    "    .show()"
   ]
  },
  {
   "cell_type": "code",
   "execution_count": 38,
   "id": "85b0607d-bf98-4c97-8a44-77751b34fdac",
   "metadata": {
    "execution": {
     "iopub.execute_input": "2025-03-12T03:16:18.716150Z",
     "iopub.status.busy": "2025-03-12T03:16:18.715909Z",
     "iopub.status.idle": "2025-03-12T03:17:06.204853Z",
     "shell.execute_reply": "2025-03-12T03:17:06.203893Z",
     "shell.execute_reply.started": "2025-03-12T03:16:18.716122Z"
    }
   },
   "outputs": [
    {
     "data": {
      "application/vnd.jupyter.widget-view+json": {
       "model_id": "d22f8c4b15784235b48344b9b94fa4f3",
       "version_major": 2,
       "version_minor": 0
      },
      "text/plain": [
       "VBox()"
      ]
     },
     "metadata": {},
     "output_type": "display_data"
    },
    {
     "data": {
      "application/vnd.jupyter.widget-view+json": {
       "model_id": "",
       "version_major": 2,
       "version_minor": 0
      },
      "text/plain": [
       "FloatProgress(value=0.0, bar_style='info', description='Progress:', layout=Layout(height='25px', width='50%'),…"
      ]
     },
     "metadata": {},
     "output_type": "display_data"
    },
    {
     "name": "stdout",
     "output_type": "stream",
     "text": [
      "Unique Values of earliest_cr_line:\n",
      "+-------------------+\n",
      "|earliest_cr_line   |\n",
      "+-------------------+\n",
      "|NULL               |\n",
      "|1.0                |\n",
      "|Jun-1985           |\n",
      "|Apr-1988           |\n",
      "|Sep-2003           |\n",
      "|Nov-2002           |\n",
      "|Dec-1966           |\n",
      "|Jul-2009           |\n",
      "|Sep-1973           |\n",
      "|660xx              |\n",
      "|Oct-1999           |\n",
      "|May-1970           |\n",
      "|480xx              |\n",
      "|Sep-2008           |\n",
      "|Nov-2008           |\n",
      "|Jul-1970           |\n",
      "|Nov-1977           |\n",
      "|Jan-1994           |\n",
      "|Small Business Loan|\n",
      "|Jul-1999           |\n",
      "+-------------------+\n",
      "only showing top 20 rows\n",
      "\n",
      "\n",
      "Count of Unique Values:\n",
      "+----------------+-----+\n",
      "|earliest_cr_line|count|\n",
      "+----------------+-----+\n",
      "|Oct-2000        |2235 |\n",
      "|Oct-2001        |2094 |\n",
      "|Oct-1999        |2077 |\n",
      "|Nov-2000        |2051 |\n",
      "|Aug-2000        |2036 |\n",
      "|Nov-1999        |2009 |\n",
      "|Aug-2001        |1915 |\n",
      "|Sep-2000        |1871 |\n",
      "|Dec-2000        |1855 |\n",
      "|Sep-2001        |1827 |\n",
      "|Oct-2002        |1816 |\n",
      "|Dec-1998        |1790 |\n",
      "|Dec-1999        |1790 |\n",
      "|Aug-1999        |1766 |\n",
      "|Sep-1999        |1761 |\n",
      "|Sep-2002        |1753 |\n",
      "|Jan-2001        |1727 |\n",
      "|Nov-1998        |1725 |\n",
      "|Oct-1998        |1714 |\n",
      "|Jul-2000        |1701 |\n",
      "+----------------+-----+\n",
      "only showing top 20 rows\n",
      "\n",
      "\n",
      "Percentage Distribution:\n",
      "+----------------+-----+------------------+\n",
      "|earliest_cr_line|count|percentage        |\n",
      "+----------------+-----+------------------+\n",
      "|Oct-2000        |2235 |0.8250642331886241|\n",
      "|Oct-2001        |2094 |0.773013201027731 |\n",
      "|Oct-1999        |2077 |0.766737544667907 |\n",
      "|Nov-2000        |2051 |0.7571394819999409|\n",
      "|Aug-2000        |2036 |0.7516021381530374|\n",
      "|Nov-1999        |2009 |0.741634919228611 |\n",
      "|Aug-2001        |1915 |0.706934231121349 |\n",
      "|Sep-2000        |1871 |0.6906913558370987|\n",
      "|Dec-2000        |1855 |0.684784855733735 |\n",
      "|Sep-2001        |1827 |0.6744484805528485|\n",
      "|Oct-2002        |1816 |0.6703877617317858|\n",
      "|Dec-1998        |1790 |0.6607896990638198|\n",
      "|Dec-1999        |1790 |0.6607896990638198|\n",
      "|Aug-1999        |1766 |0.6519299489087741|\n",
      "|Sep-1999        |1761 |0.6500841676264729|\n",
      "|Sep-2002        |1753 |0.647130917574791 |\n",
      "|Jan-2001        |1727 |0.637532854906825 |\n",
      "|Nov-1998        |1725 |0.6367945423939045|\n",
      "|Oct-1998        |1714 |0.6327338235728419|\n",
      "|Jul-2000        |1701 |0.6279347922388588|\n",
      "+----------------+-----+------------------+\n",
      "only showing top 20 rows"
     ]
    }
   ],
   "source": [
    "# Show unique values for 'earliest_cr_line'\n",
    "# Show unique values\n",
    "print(\"Unique Values of earliest_cr_line:\")\n",
    "df_final.select('earliest_cr_line').distinct().show(truncate=False)\n",
    "\n",
    "# Show count of unique values\n",
    "print(\"\\nCount of Unique Values:\")\n",
    "df_final.groupBy('earliest_cr_line') \\\n",
    "    .count() \\\n",
    "    .orderBy('count', ascending=False) \\\n",
    "    .show(truncate=False)\n",
    "\n",
    "# Calculate percentage distribution\n",
    "total_rows = df_final.count()\n",
    "\n",
    "print(\"\\nPercentage Distribution:\")\n",
    "df_final.groupBy('earliest_cr_line') \\\n",
    "    .agg(\n",
    "        count('earliest_cr_line').alias('count'),\n",
    "        (count('earliest_cr_line') / total_rows * 100).alias('percentage')\n",
    "    ) \\\n",
    "    .orderBy('count', ascending=False) \\\n",
    "    .show(truncate=False)"
   ]
  },
  {
   "cell_type": "code",
   "execution_count": 41,
   "id": "22f7bd3c-46f2-485c-b903-b3f192d4c8aa",
   "metadata": {
    "execution": {
     "iopub.execute_input": "2025-03-12T03:30:08.991376Z",
     "iopub.status.busy": "2025-03-12T03:30:08.991144Z",
     "iopub.status.idle": "2025-03-12T03:30:09.260891Z",
     "shell.execute_reply": "2025-03-12T03:30:09.259974Z",
     "shell.execute_reply.started": "2025-03-12T03:30:08.991351Z"
    },
    "tags": []
   },
   "outputs": [
    {
     "data": {
      "application/vnd.jupyter.widget-view+json": {
       "model_id": "eb492d97962249e29343b281596f2539",
       "version_major": 2,
       "version_minor": 0
      },
      "text/plain": [
       "VBox()"
      ]
     },
     "metadata": {},
     "output_type": "display_data"
    },
    {
     "data": {
      "application/vnd.jupyter.widget-view+json": {
       "model_id": "",
       "version_major": 2,
       "version_minor": 0
      },
      "text/plain": [
       "FloatProgress(value=0.0, bar_style='info', description='Progress:', layout=Layout(height='25px', width='50%'),…"
      ]
     },
     "metadata": {},
     "output_type": "display_data"
    }
   ],
   "source": [
    "# converting to numeric feature for earliest_cr_line\n",
    "\n",
    "from pyspark.sql.functions import col, when, regexp_replace, to_date, datediff, lit\n",
    "\n",
    "df_final = df_final.withColumn('earliest_cr_line_cleaned', \n",
    "    when(col('earliest_cr_line').rlike('^[A-Za-z]{3}-\\\\d{4}$'), \n",
    "         to_date(col('earliest_cr_line'), 'MMM-yyyy'))\n",
    "    .when(col('earliest_cr_line') == 'NULL', None)\n",
    "    .when(col('earliest_cr_line') == '1.0', None)\n",
    "    .when(col('earliest_cr_line').rlike('^\\\\d+xx$'), None)\n",
    "    .when(col('earliest_cr_line') == 'Small Business Loan', None)\n",
    "    .otherwise(to_date(col('earliest_cr_line'), 'MMM-yyyy'))\n",
    ")\n",
    "\n",
    "# Calculate credit history length in years using a fixed reference date\n",
    "reference_date = lit('2025-01-01')\n",
    "\n",
    "df_final = df_final.withColumn('credit_history_length', \n",
    "    when(col('earliest_cr_line_cleaned').isNotNull(), \n",
    "         datediff(reference_date, col('earliest_cr_line_cleaned')) / 365.25)\n",
    "    .otherwise(None)\n",
    ")\n",
    "\n",
    "# Optional: Remove rows with invalid credit history if needed\n",
    "df_final = df_final.filter(col('credit_history_length').isNotNull())"
   ]
  },
  {
   "cell_type": "code",
   "execution_count": 42,
   "id": "8cf30042-2d79-40cc-8a50-cad5d63e25c8",
   "metadata": {
    "execution": {
     "iopub.execute_input": "2025-03-12T03:30:12.636829Z",
     "iopub.status.busy": "2025-03-12T03:30:12.636591Z",
     "iopub.status.idle": "2025-03-12T03:31:10.120060Z",
     "shell.execute_reply": "2025-03-12T03:31:10.119145Z",
     "shell.execute_reply.started": "2025-03-12T03:30:12.636801Z"
    },
    "tags": []
   },
   "outputs": [
    {
     "data": {
      "application/vnd.jupyter.widget-view+json": {
       "model_id": "40eaeaefd7df4cc5a763c47de59aea7e",
       "version_major": 2,
       "version_minor": 0
      },
      "text/plain": [
       "VBox()"
      ]
     },
     "metadata": {},
     "output_type": "display_data"
    },
    {
     "data": {
      "application/vnd.jupyter.widget-view+json": {
       "model_id": "",
       "version_major": 2,
       "version_minor": 0
      },
      "text/plain": [
       "FloatProgress(value=0.0, bar_style='info', description='Progress:', layout=Layout(height='25px', width='50%'),…"
      ]
     },
     "metadata": {},
     "output_type": "display_data"
    },
    {
     "name": "stdout",
     "output_type": "stream",
     "text": [
      "Unique Values of earliest_cr_line_cleaned:\n",
      "+------------------------+\n",
      "|earliest_cr_line_cleaned|\n",
      "+------------------------+\n",
      "|1999-02-01              |\n",
      "|1995-12-01              |\n",
      "|1961-11-01              |\n",
      "|1978-11-01              |\n",
      "|1970-09-01              |\n",
      "|2006-12-01              |\n",
      "|2010-12-01              |\n",
      "|2004-11-01              |\n",
      "|1969-07-01              |\n",
      "|2007-08-01              |\n",
      "|2000-09-01              |\n",
      "|1960-12-01              |\n",
      "|1997-07-01              |\n",
      "|2000-08-01              |\n",
      "|1971-08-01              |\n",
      "|2004-04-01              |\n",
      "|2006-10-01              |\n",
      "|1976-11-01              |\n",
      "|1968-08-01              |\n",
      "|1994-03-01              |\n",
      "+------------------------+\n",
      "only showing top 20 rows\n",
      "\n",
      "\n",
      "Unique Values of credit_history_length:\n",
      "+---------------------+\n",
      "|credit_history_length|\n",
      "+---------------------+\n",
      "|12.251882272416154   |\n",
      "|12.41889117043121    |\n",
      "|12.503764544832306   |\n",
      "|12.58590006844627    |\n",
      "|12.670773442847365   |\n",
      "|12.752908966461328   |\n",
      "|12.837782340862423   |\n",
      "|12.917180013689254   |\n",
      "|13.00205338809035    |\n",
      "|13.086926762491444   |\n",
      "|13.169062286105408   |\n",
      "|13.253935660506503   |\n",
      "|13.336071184120465   |\n",
      "|13.42094455852156    |\n",
      "|13.505817932922655   |\n",
      "|13.587953456536619   |\n",
      "|13.672826830937714   |\n",
      "|13.754962354551678   |\n",
      "|13.839835728952773   |\n",
      "|13.91649555099247    |\n",
      "+---------------------+\n",
      "only showing top 20 rows\n",
      "\n",
      "\n",
      "Statistical Summary of credit_history_length:\n",
      "+-------+---------------------+\n",
      "|summary|credit_history_length|\n",
      "+-------+---------------------+\n",
      "|  count|               270606|\n",
      "|   mean|    26.86478016842848|\n",
      "| stddev|    7.006334414818516|\n",
      "|    min|   12.251882272416154|\n",
      "|    25%|   22.168377823408623|\n",
      "|    50%|   25.505817932922657|\n",
      "|    75%|   30.253251197809718|\n",
      "|    max|    79.00068446269678|\n",
      "+-------+---------------------+\n",
      "\n",
      "\n",
      "Distribution of credit_history_length:\n",
      "+---------------------------------------------------------------------------------------------------------------------------------------------------------------------------------------------------------------------------------------------------+------+\n",
      "|CASE WHEN (credit_history_length < 5) THEN 0-5 years WHEN ((credit_history_length >= 5) AND (credit_history_length < 10)) THEN 5-10 years WHEN ((credit_history_length >= 10) AND (credit_history_length < 15)) THEN 10-15 years ELSE 15+ years END| count|\n",
      "+---------------------------------------------------------------------------------------------------------------------------------------------------------------------------------------------------------------------------------------------------+------+\n",
      "|                                                                                                                                                                                                                                          15+ years|268500|\n",
      "|                                                                                                                                                                                                                                        10-15 years|  2106|\n",
      "+---------------------------------------------------------------------------------------------------------------------------------------------------------------------------------------------------------------------------------------------------+------+"
     ]
    }
   ],
   "source": [
    "# Show unique values of earliest_cr_line_cleaned\n",
    "print(\"Unique Values of earliest_cr_line_cleaned:\")\n",
    "df_final.select('earliest_cr_line_cleaned').distinct().show(truncate=False)\n",
    "\n",
    "# Show unique values of credit_history_length\n",
    "print(\"\\nUnique Values of credit_history_length:\")\n",
    "df_final.select('credit_history_length').distinct().orderBy('credit_history_length').show(truncate=False)\n",
    "\n",
    "# Statistical summary of credit_history_length\n",
    "print(\"\\nStatistical Summary of credit_history_length:\")\n",
    "df_final.select('credit_history_length').summary().show()\n",
    "\n",
    "# Distribution of credit_history_length\n",
    "print(\"\\nDistribution of credit_history_length:\")\n",
    "df_final.groupBy(\n",
    "    when((col('credit_history_length') < 5), \"0-5 years\")\n",
    "    .when((col('credit_history_length') >= 5) & (col('credit_history_length') < 10), \"5-10 years\")\n",
    "    .when((col('credit_history_length') >= 10) & (col('credit_history_length') < 15), \"10-15 years\")\n",
    "    .otherwise(\"15+ years\")\n",
    ").count().orderBy('count', ascending=False).show()"
   ]
  },
  {
   "cell_type": "code",
   "execution_count": 43,
   "id": "53123746-9ffc-4c7f-8925-3b4956dfe32d",
   "metadata": {
    "execution": {
     "iopub.execute_input": "2025-03-12T03:31:54.861350Z",
     "iopub.status.busy": "2025-03-12T03:31:54.861110Z",
     "iopub.status.idle": "2025-03-12T03:31:54.934430Z",
     "shell.execute_reply": "2025-03-12T03:31:54.933654Z",
     "shell.execute_reply.started": "2025-03-12T03:31:54.861322Z"
    }
   },
   "outputs": [
    {
     "data": {
      "application/vnd.jupyter.widget-view+json": {
       "model_id": "b6bac07b461044168c3cc5126302f450",
       "version_major": 2,
       "version_minor": 0
      },
      "text/plain": [
       "VBox()"
      ]
     },
     "metadata": {},
     "output_type": "display_data"
    },
    {
     "data": {
      "application/vnd.jupyter.widget-view+json": {
       "model_id": "",
       "version_major": 2,
       "version_minor": 0
      },
      "text/plain": [
       "FloatProgress(value=0.0, bar_style='info', description='Progress:', layout=Layout(height='25px', width='50%'),…"
      ]
     },
     "metadata": {},
     "output_type": "display_data"
    },
    {
     "name": "stdout",
     "output_type": "stream",
     "text": [
      "['loan_amnt', 'funded_amnt', 'funded_amnt_inv', 'int_rate', 'installment', 'annual_inc', 'dti', 'delinq_2yrs', 'earliest_cr_line', 'inq_last_6mths', 'open_acc', 'pub_rec', 'revol_bal', 'revol_util', 'total_acc', 'grade_encoded', 'emp_length_encoded', 'home_ownership_encoded', 'verification_status_encoded', 'purpose_encoded', 'loan_status_binary', 'term_numeric', 'earliest_cr_line_cleaned', 'credit_history_length']"
     ]
    }
   ],
   "source": [
    "# we are going to go with using 'credit_history_length' for measurement, instead of 'earliest_cr_line_cleaned' as it is more interpretable and directly represent's the borrower's credit experience. Dates are also harder for models to process\n",
    "# Let us drop the column 'earliest_cr_line_cleaned'\n",
    "\n",
    "df_final.columns"
   ]
  },
  {
   "cell_type": "code",
   "execution_count": 44,
   "id": "a68bd4dd-a0f9-4c67-9990-2786771f6343",
   "metadata": {
    "execution": {
     "iopub.execute_input": "2025-03-12T03:32:51.025087Z",
     "iopub.status.busy": "2025-03-12T03:32:51.024846Z",
     "iopub.status.idle": "2025-03-12T03:32:51.096021Z",
     "shell.execute_reply": "2025-03-12T03:32:51.095105Z",
     "shell.execute_reply.started": "2025-03-12T03:32:51.025053Z"
    }
   },
   "outputs": [
    {
     "data": {
      "application/vnd.jupyter.widget-view+json": {
       "model_id": "8aeb9894aafb4ea9a692fe3a09b33c5c",
       "version_major": 2,
       "version_minor": 0
      },
      "text/plain": [
       "VBox()"
      ]
     },
     "metadata": {},
     "output_type": "display_data"
    },
    {
     "data": {
      "application/vnd.jupyter.widget-view+json": {
       "model_id": "",
       "version_major": 2,
       "version_minor": 0
      },
      "text/plain": [
       "FloatProgress(value=0.0, bar_style='info', description='Progress:', layout=Layout(height='25px', width='50%'),…"
      ]
     },
     "metadata": {},
     "output_type": "display_data"
    }
   ],
   "source": [
    "# Let us drop the column 'earliest_cr_line_cleaned' and 'earliest_cr_line'\n",
    "columns_to_drop = ['earliest_cr_line_cleaned', 'earliest_cr_line']\n",
    "\n",
    "df_final = df_final.drop(*columns_to_drop)"
   ]
  },
  {
   "cell_type": "code",
   "execution_count": 45,
   "id": "2e0f1ecf-adbe-47a5-b025-d2a17c25557d",
   "metadata": {
    "execution": {
     "iopub.execute_input": "2025-03-12T03:33:08.605144Z",
     "iopub.status.busy": "2025-03-12T03:33:08.604889Z",
     "iopub.status.idle": "2025-03-12T03:33:08.680221Z",
     "shell.execute_reply": "2025-03-12T03:33:08.677234Z",
     "shell.execute_reply.started": "2025-03-12T03:33:08.605119Z"
    }
   },
   "outputs": [
    {
     "data": {
      "application/vnd.jupyter.widget-view+json": {
       "model_id": "e261d7390883428d8453a57a6ae8ee9c",
       "version_major": 2,
       "version_minor": 0
      },
      "text/plain": [
       "VBox()"
      ]
     },
     "metadata": {},
     "output_type": "display_data"
    },
    {
     "data": {
      "application/vnd.jupyter.widget-view+json": {
       "model_id": "",
       "version_major": 2,
       "version_minor": 0
      },
      "text/plain": [
       "FloatProgress(value=0.0, bar_style='info', description='Progress:', layout=Layout(height='25px', width='50%'),…"
      ]
     },
     "metadata": {},
     "output_type": "display_data"
    },
    {
     "name": "stdout",
     "output_type": "stream",
     "text": [
      "['loan_amnt', 'funded_amnt', 'funded_amnt_inv', 'int_rate', 'installment', 'annual_inc', 'dti', 'delinq_2yrs', 'inq_last_6mths', 'open_acc', 'pub_rec', 'revol_bal', 'revol_util', 'total_acc', 'grade_encoded', 'emp_length_encoded', 'home_ownership_encoded', 'verification_status_encoded', 'purpose_encoded', 'loan_status_binary', 'term_numeric', 'credit_history_length']"
     ]
    }
   ],
   "source": [
    "df_final.columns"
   ]
  },
  {
   "cell_type": "code",
   "execution_count": 46,
   "id": "2d58e740-440a-484c-9c54-101490a5fd68",
   "metadata": {
    "execution": {
     "iopub.execute_input": "2025-03-12T03:34:52.229656Z",
     "iopub.status.busy": "2025-03-12T03:34:52.229381Z",
     "iopub.status.idle": "2025-03-12T03:40:55.269262Z",
     "shell.execute_reply": "2025-03-12T03:40:55.267024Z",
     "shell.execute_reply.started": "2025-03-12T03:34:52.229628Z"
    }
   },
   "outputs": [
    {
     "data": {
      "application/vnd.jupyter.widget-view+json": {
       "model_id": "a71f38cf6ed5418e8ef8c9e69cb29860",
       "version_major": 2,
       "version_minor": 0
      },
      "text/plain": [
       "VBox()"
      ]
     },
     "metadata": {},
     "output_type": "display_data"
    },
    {
     "data": {
      "application/vnd.jupyter.widget-view+json": {
       "model_id": "",
       "version_major": 2,
       "version_minor": 0
      },
      "text/plain": [
       "FloatProgress(value=0.0, bar_style='info', description='Progress:', layout=Layout(height='25px', width='50%'),…"
      ]
     },
     "metadata": {},
     "output_type": "display_data"
    },
    {
     "name": "stdout",
     "output_type": "stream",
     "text": [
      "\n",
      "--- Analysis for loan_amnt ---\n",
      "\n",
      "Unique Values:\n",
      "+---------+\n",
      "|loan_amnt|\n",
      "+---------+\n",
      "|10625.0  |\n",
      "|21500.0  |\n",
      "|10375.0  |\n",
      "|11925.0  |\n",
      "|16550.0  |\n",
      "|24150.0  |\n",
      "|15100.0  |\n",
      "|22525.0  |\n",
      "|21000.0  |\n",
      "|23200.0  |\n",
      "+---------+\n",
      "only showing top 10 rows\n",
      "\n",
      "\n",
      "Statistical Summary:\n",
      "+-------+------------------+\n",
      "|summary|         loan_amnt|\n",
      "+-------+------------------+\n",
      "|  count|            270606|\n",
      "|   mean|13631.445163817505|\n",
      "| stddev| 8165.519755677505|\n",
      "|    min|             500.0|\n",
      "|    25%|            7400.0|\n",
      "|    50%|           12000.0|\n",
      "|    75%|           18500.0|\n",
      "|    max|           35000.0|\n",
      "+-------+------------------+\n",
      "\n",
      "\n",
      "--- Analysis for funded_amnt ---\n",
      "\n",
      "Unique Values:\n",
      "+-----------+\n",
      "|funded_amnt|\n",
      "+-----------+\n",
      "|10625.0    |\n",
      "|21500.0    |\n",
      "|10375.0    |\n",
      "|11925.0    |\n",
      "|15100.0    |\n",
      "|16550.0    |\n",
      "|24150.0    |\n",
      "|22525.0    |\n",
      "|30525.0    |\n",
      "|21000.0    |\n",
      "+-----------+\n",
      "only showing top 10 rows\n",
      "\n",
      "\n",
      "Statistical Summary:\n",
      "+-------+------------------+\n",
      "|summary|       funded_amnt|\n",
      "+-------+------------------+\n",
      "|  count|            270606|\n",
      "|   mean|13591.651145946505|\n",
      "| stddev| 8144.941222420275|\n",
      "|    min|             500.0|\n",
      "|    25%|            7325.0|\n",
      "|    50%|           12000.0|\n",
      "|    75%|           18300.0|\n",
      "|    max|           35000.0|\n",
      "+-------+------------------+\n",
      "\n",
      "\n",
      "--- Analysis for funded_amnt_inv ---\n",
      "\n",
      "Unique Values:\n",
      "+---------------+\n",
      "|funded_amnt_inv|\n",
      "+---------------+\n",
      "|10625.0        |\n",
      "|14869.5467893  |\n",
      "|9609.85260642  |\n",
      "|17745.5974248  |\n",
      "|14992.848377   |\n",
      "|17324.3683405  |\n",
      "|14219.598875   |\n",
      "|11989.7714935  |\n",
      "|6731.76        |\n",
      "|21500.0        |\n",
      "+---------------+\n",
      "only showing top 10 rows\n",
      "\n",
      "\n",
      "Statistical Summary:\n",
      "+-------+-----------------+\n",
      "|summary|  funded_amnt_inv|\n",
      "+-------+-----------------+\n",
      "|  count|           270606|\n",
      "|   mean|13479.64255229448|\n",
      "| stddev|8178.716131718211|\n",
      "|    min|              0.0|\n",
      "|    25%|           7200.0|\n",
      "|    50%|          12000.0|\n",
      "|    75%|          18175.0|\n",
      "|    max|          35000.0|\n",
      "+-------+-----------------+\n",
      "\n",
      "\n",
      "--- Analysis for int_rate ---\n",
      "\n",
      "Unique Values:\n",
      "+--------+\n",
      "|int_rate|\n",
      "+--------+\n",
      "|14.75   |\n",
      "|18.91   |\n",
      "|7.42    |\n",
      "|21.49   |\n",
      "|20.53   |\n",
      "|9.51    |\n",
      "|16.91   |\n",
      "|17.06   |\n",
      "|18.17   |\n",
      "|18.79   |\n",
      "+--------+\n",
      "only showing top 10 rows\n",
      "\n",
      "\n",
      "Statistical Summary:\n",
      "+-------+------------------+\n",
      "|summary|          int_rate|\n",
      "+-------+------------------+\n",
      "|  count|            270606|\n",
      "|   mean|13.893764476769658|\n",
      "| stddev| 4.414562304573203|\n",
      "|    min|              5.32|\n",
      "|    25%|             10.99|\n",
      "|    50%|             13.67|\n",
      "|    75%|             16.78|\n",
      "|    max|             28.99|\n",
      "+-------+------------------+\n",
      "\n",
      "\n",
      "--- Analysis for installment ---\n",
      "\n",
      "Unique Values:\n",
      "+-----------+\n",
      "|installment|\n",
      "+-----------+\n",
      "|155.72     |\n",
      "|175.69     |\n",
      "|206.4      |\n",
      "|834.5      |\n",
      "|149.34     |\n",
      "|364.68     |\n",
      "|395.43     |\n",
      "|75.29      |\n",
      "|201.03     |\n",
      "|106.01     |\n",
      "+-----------+\n",
      "only showing top 10 rows\n",
      "\n",
      "\n",
      "Statistical Summary:\n",
      "+-------+------------------+\n",
      "|summary|       installment|\n",
      "+-------+------------------+\n",
      "|  count|            270606|\n",
      "|   mean|419.62326777676145|\n",
      "| stddev| 245.5834298879201|\n",
      "|    min|             15.67|\n",
      "|    25%|            241.12|\n",
      "|    50%|            366.37|\n",
      "|    75%|            548.85|\n",
      "|    max|           1424.57|\n",
      "+-------+------------------+\n",
      "\n",
      "\n",
      "--- Analysis for annual_inc ---\n",
      "\n",
      "Unique Values:\n",
      "+----------+\n",
      "|annual_inc|\n",
      "+----------+\n",
      "|129900.0  |\n",
      "|49400.0   |\n",
      "|96384.0   |\n",
      "|86300.0   |\n",
      "|194000.0  |\n",
      "|40260.0   |\n",
      "|69821.0   |\n",
      "|52156.0   |\n",
      "|130539.0  |\n",
      "|22088.0   |\n",
      "+----------+\n",
      "only showing top 10 rows\n",
      "\n",
      "\n",
      "Statistical Summary:\n",
      "+-------+------------------+\n",
      "|summary|        annual_inc|\n",
      "+-------+------------------+\n",
      "|  count|            270606|\n",
      "|   mean| 72397.01505391591|\n",
      "| stddev|58341.315527476116|\n",
      "|    min|           10000.0|\n",
      "|    25%|           45000.0|\n",
      "|    50%|           62000.0|\n",
      "|    75%|           87000.0|\n",
      "|    max|           99999.0|\n",
      "+-------+------------------+\n",
      "\n",
      "\n",
      "--- Analysis for dti ---\n",
      "\n",
      "Unique Values:\n",
      "+-----+\n",
      "|dti  |\n",
      "+-----+\n",
      "|13.87|\n",
      "|19.06|\n",
      "|17.42|\n",
      "|26.63|\n",
      "|34.63|\n",
      "|1.0  |\n",
      "|15.49|\n",
      "|15.41|\n",
      "|19.93|\n",
      "|8.58 |\n",
      "+-----+\n",
      "only showing top 10 rows\n",
      "\n",
      "\n",
      "Statistical Summary:\n",
      "+-------+----------------+\n",
      "|summary|             dti|\n",
      "+-------+----------------+\n",
      "|  count|          270606|\n",
      "|   mean| 16.703541532708|\n",
      "| stddev|7.86041993496924|\n",
      "|    min|             0.0|\n",
      "|    25%|           10.86|\n",
      "|    50%|           16.36|\n",
      "|    75%|           22.19|\n",
      "|    max|            9.99|\n",
      "+-------+----------------+\n",
      "\n",
      "\n",
      "--- Analysis for delinq_2yrs ---\n",
      "\n",
      "Unique Values:\n",
      "+-----------+\n",
      "|delinq_2yrs|\n",
      "+-----------+\n",
      "|1.0        |\n",
      "|0.0        |\n",
      "|12.0       |\n",
      "|6.0        |\n",
      "|4.0        |\n",
      "|11.0       |\n",
      "|2.0        |\n",
      "|17.0       |\n",
      "|9.0        |\n",
      "|10.0       |\n",
      "+-----------+\n",
      "only showing top 10 rows\n",
      "\n",
      "\n",
      "Statistical Summary:\n",
      "+-------+------------------+\n",
      "|summary|       delinq_2yrs|\n",
      "+-------+------------------+\n",
      "|  count|            270606|\n",
      "|   mean|0.2586638877186759|\n",
      "| stddev|0.7600270211233895|\n",
      "|    min|               0.0|\n",
      "|    25%|               0.0|\n",
      "|    50%|               0.0|\n",
      "|    75%|               0.0|\n",
      "|    max|               9.0|\n",
      "+-------+------------------+\n",
      "\n",
      "\n",
      "--- Analysis for inq_last_6mths ---\n",
      "\n",
      "Unique Values:\n",
      "+--------------+\n",
      "|inq_last_6mths|\n",
      "+--------------+\n",
      "|1.0           |\n",
      "|0.0           |\n",
      "|19.0          |\n",
      "|12.0          |\n",
      "|6.0           |\n",
      "|32.0          |\n",
      "|4.0           |\n",
      "|24.0          |\n",
      "|33.0          |\n",
      "|25.0          |\n",
      "+--------------+\n",
      "only showing top 10 rows\n",
      "\n",
      "\n",
      "Statistical Summary:\n",
      "+-------+------------------+\n",
      "|summary|    inq_last_6mths|\n",
      "+-------+------------------+\n",
      "|  count|            270606|\n",
      "|   mean|0.8855605566764965|\n",
      "| stddev|1.1540464818826424|\n",
      "|    min|               0.0|\n",
      "|    25%|               0.0|\n",
      "|    50%|               1.0|\n",
      "|    75%|               1.0|\n",
      "|    max|               9.0|\n",
      "+-------+------------------+\n",
      "\n",
      "\n",
      "--- Analysis for open_acc ---\n",
      "\n",
      "Unique Values:\n",
      "+--------+\n",
      "|open_acc|\n",
      "+--------+\n",
      "|1.0     |\n",
      "|38.0    |\n",
      "|0.0     |\n",
      "|48.0    |\n",
      "|19.0    |\n",
      "|49.0    |\n",
      "|47.0    |\n",
      "|44.0    |\n",
      "|12.0    |\n",
      "|6.0     |\n",
      "+--------+\n",
      "only showing top 10 rows\n",
      "\n",
      "\n",
      "Statistical Summary:\n",
      "+-------+------------------+\n",
      "|summary|          open_acc|\n",
      "+-------+------------------+\n",
      "|  count|            270606|\n",
      "|   mean|10.977472783308574|\n",
      "| stddev| 4.928987668517744|\n",
      "|    min|               0.0|\n",
      "|    25%|               7.0|\n",
      "|    50%|              10.0|\n",
      "|    75%|              14.0|\n",
      "|    max|               9.0|\n",
      "+-------+------------------+\n",
      "\n",
      "\n",
      "--- Analysis for pub_rec ---\n",
      "\n",
      "Unique Values:\n",
      "+-------+\n",
      "|pub_rec|\n",
      "+-------+\n",
      "|1.0    |\n",
      "|0.0    |\n",
      "|6.0    |\n",
      "|4.0    |\n",
      "|2.0    |\n",
      "|9.0    |\n",
      "|10.0   |\n",
      "|7.0    |\n",
      "|8.0    |\n",
      "|5.0    |\n",
      "+-------+\n",
      "only showing top 10 rows\n",
      "\n",
      "\n",
      "Statistical Summary:\n",
      "+-------+-------------------+\n",
      "|summary|            pub_rec|\n",
      "+-------+-------------------+\n",
      "|  count|             270606|\n",
      "|   mean|0.14728424351270852|\n",
      "| stddev|0.44469796924150445|\n",
      "|    min|                0.0|\n",
      "|    25%|                0.0|\n",
      "|    50%|                0.0|\n",
      "|    75%|                0.0|\n",
      "|    max|                9.0|\n",
      "+-------+-------------------+\n",
      "\n",
      "\n",
      "--- Analysis for revol_bal ---\n",
      "\n",
      "Unique Values:\n",
      "+---------+\n",
      "|revol_bal|\n",
      "+---------+\n",
      "|15891.0  |\n",
      "|40016.0  |\n",
      "|8093.0   |\n",
      "|39276.0  |\n",
      "|4856.0   |\n",
      "|6637.0   |\n",
      "|4174.0   |\n",
      "|17966.0  |\n",
      "|1047.0   |\n",
      "|19768.0  |\n",
      "+---------+\n",
      "only showing top 10 rows\n",
      "\n",
      "\n",
      "Statistical Summary:\n",
      "+-------+------------------+\n",
      "|summary|         revol_bal|\n",
      "+-------+------------------+\n",
      "|  count|            270606|\n",
      "|   mean|15310.182811911043|\n",
      "| stddev| 19751.51830026152|\n",
      "|    min|               0.0|\n",
      "|    25%|            5847.0|\n",
      "|    50%|           10921.0|\n",
      "|    75%|           19084.0|\n",
      "|    max|            9999.0|\n",
      "+-------+------------------+\n",
      "\n",
      "\n",
      "--- Analysis for revol_util ---\n",
      "\n",
      "Unique Values:\n",
      "+----------+\n",
      "|revol_util|\n",
      "+----------+\n",
      "|NULL      |\n",
      "|73.7      |\n",
      "|1.0       |\n",
      "|8.58      |\n",
      "|29.4      |\n",
      "|14.2      |\n",
      "|87.2      |\n",
      "|40.1      |\n",
      "|101.4     |\n",
      "|22.4      |\n",
      "+----------+\n",
      "only showing top 10 rows\n",
      "\n",
      "\n",
      "Statistical Summary:\n",
      "+-------+------------------+\n",
      "|summary|        revol_util|\n",
      "+-------+------------------+\n",
      "|  count|            270385|\n",
      "|   mean| 54.53019627568117|\n",
      "| stddev|24.762991753840744|\n",
      "|    min|               0.0|\n",
      "|    25%|              36.5|\n",
      "|    50%|              56.0|\n",
      "|    75%|              74.1|\n",
      "|    max|              99.9|\n",
      "+-------+------------------+\n",
      "\n",
      "\n",
      "--- Analysis for total_acc ---\n",
      "\n",
      "Unique Values:\n",
      "+---------+\n",
      "|total_acc|\n",
      "+---------+\n",
      "|1.0      |\n",
      "|75.0     |\n",
      "|38.0     |\n",
      "|66.0     |\n",
      "|63.0     |\n",
      "|59.0     |\n",
      "|48.0     |\n",
      "|19.0     |\n",
      "|81.0     |\n",
      "|60.0     |\n",
      "+---------+\n",
      "only showing top 10 rows\n",
      "\n",
      "\n",
      "Statistical Summary:\n",
      "+-------+------------------+\n",
      "|summary|         total_acc|\n",
      "+-------+------------------+\n",
      "|  count|            270606|\n",
      "|   mean|25.026680857039384|\n",
      "| stddev| 11.79500623304271|\n",
      "|    min|               1.0|\n",
      "|    25%|              16.0|\n",
      "|    50%|              23.0|\n",
      "|    75%|              32.0|\n",
      "|    max|              99.0|\n",
      "+-------+------------------+\n",
      "\n",
      "\n",
      "--- Analysis for grade_encoded ---\n",
      "\n",
      "Unique Values:\n",
      "+-------------+\n",
      "|grade_encoded|\n",
      "+-------------+\n",
      "|(7,[6],[1.0])|\n",
      "|(7,[1],[1.0])|\n",
      "|(7,[2],[1.0])|\n",
      "|(7,[0],[1.0])|\n",
      "|(7,[4],[1.0])|\n",
      "|(7,[5],[1.0])|\n",
      "|(7,[3],[1.0])|\n",
      "+-------------+\n",
      "\n",
      "\n",
      "Statistical Summary:\n",
      "+-------+\n",
      "|summary|\n",
      "+-------+\n",
      "|  count|\n",
      "|   mean|\n",
      "| stddev|\n",
      "|    min|\n",
      "|    25%|\n",
      "|    50%|\n",
      "|    75%|\n",
      "|    max|\n",
      "+-------+\n",
      "\n",
      "\n",
      "Value Distribution:\n",
      "+-------------+-----+\n",
      "|grade_encoded|count|\n",
      "+-------------+-----+\n",
      "|(7,[0],[1.0])|78937|\n",
      "|(7,[1],[1.0])|70268|\n",
      "|(7,[2],[1.0])|44930|\n",
      "|(7,[3],[1.0])|43010|\n",
      "|(7,[4],[1.0])|22122|\n",
      "|(7,[5],[1.0])| 8901|\n",
      "|(7,[6],[1.0])| 2438|\n",
      "+-------------+-----+\n",
      "\n",
      "\n",
      "--- Analysis for emp_length_encoded ---\n",
      "\n",
      "Unique Values:\n",
      "+------------------+\n",
      "|emp_length_encoded|\n",
      "+------------------+\n",
      "|(13,[1],[1.0])    |\n",
      "|(13,[4],[1.0])    |\n",
      "|(13,[7],[1.0])    |\n",
      "|(13,[5],[1.0])    |\n",
      "|(13,[9],[1.0])    |\n",
      "|(13,[10],[1.0])   |\n",
      "|(13,[0],[1.0])    |\n",
      "|(13,[3],[1.0])    |\n",
      "|(13,[8],[1.0])    |\n",
      "|(13,[2],[1.0])    |\n",
      "+------------------+\n",
      "only showing top 10 rows\n",
      "\n",
      "\n",
      "Statistical Summary:\n",
      "+-------+\n",
      "|summary|\n",
      "+-------+\n",
      "|  count|\n",
      "|   mean|\n",
      "| stddev|\n",
      "|    min|\n",
      "|    25%|\n",
      "|    50%|\n",
      "|    75%|\n",
      "|    max|\n",
      "+-------+\n",
      "\n",
      "\n",
      "Value Distribution:\n",
      "+------------------+-----+\n",
      "|emp_length_encoded|count|\n",
      "+------------------+-----+\n",
      "|    (13,[0],[1.0])|81900|\n",
      "|    (13,[1],[1.0])|25229|\n",
      "|    (13,[2],[1.0])|22627|\n",
      "|    (13,[3],[1.0])|21840|\n",
      "|    (13,[4],[1.0])|19134|\n",
      "|    (13,[5],[1.0])|18188|\n",
      "|    (13,[6],[1.0])|17265|\n",
      "|    (13,[7],[1.0])|15664|\n",
      "|    (13,[8],[1.0])|14956|\n",
      "|    (13,[9],[1.0])|12689|\n",
      "|   (13,[10],[1.0])|10860|\n",
      "|   (13,[11],[1.0])|10254|\n",
      "+------------------+-----+\n",
      "\n",
      "\n",
      "--- Analysis for home_ownership_encoded ---\n",
      "\n",
      "Unique Values:\n",
      "+----------------------+\n",
      "|home_ownership_encoded|\n",
      "+----------------------+\n",
      "|(4,[3],[1.0])         |\n",
      "|(4,[2],[1.0])         |\n",
      "|(4,[0],[1.0])         |\n",
      "|(4,[1],[1.0])         |\n",
      "+----------------------+\n",
      "\n",
      "\n",
      "Statistical Summary:\n",
      "+-------+\n",
      "|summary|\n",
      "+-------+\n",
      "|  count|\n",
      "|   mean|\n",
      "| stddev|\n",
      "|    min|\n",
      "|    25%|\n",
      "|    50%|\n",
      "|    75%|\n",
      "|    max|\n",
      "+-------+\n",
      "\n",
      "\n",
      "Value Distribution:\n",
      "+----------------------+------+\n",
      "|home_ownership_encoded| count|\n",
      "+----------------------+------+\n",
      "|         (4,[0],[1.0])|132611|\n",
      "|         (4,[1],[1.0])|114040|\n",
      "|         (4,[2],[1.0])| 23732|\n",
      "|         (4,[3],[1.0])|   223|\n",
      "+----------------------+------+\n",
      "\n",
      "\n",
      "--- Analysis for verification_status_encoded ---\n",
      "\n",
      "Unique Values:\n",
      "+---------------------------+\n",
      "|verification_status_encoded|\n",
      "+---------------------------+\n",
      "|(3,[2],[1.0])              |\n",
      "|(3,[1],[1.0])              |\n",
      "|(3,[0],[1.0])              |\n",
      "+---------------------------+\n",
      "\n",
      "\n",
      "Statistical Summary:\n",
      "+-------+\n",
      "|summary|\n",
      "+-------+\n",
      "|  count|\n",
      "|   mean|\n",
      "| stddev|\n",
      "|    min|\n",
      "|    25%|\n",
      "|    50%|\n",
      "|    75%|\n",
      "|    max|\n",
      "+-------+\n",
      "\n",
      "\n",
      "Value Distribution:\n",
      "+---------------------------+-----+\n",
      "|verification_status_encoded|count|\n",
      "+---------------------------+-----+\n",
      "|              (3,[0],[1.0])|99161|\n",
      "|              (3,[1],[1.0])|90978|\n",
      "|              (3,[2],[1.0])|80467|\n",
      "+---------------------------+-----+\n",
      "\n",
      "\n",
      "--- Analysis for purpose_encoded ---\n",
      "\n",
      "Unique Values:\n",
      "+---------------+\n",
      "|purpose_encoded|\n",
      "+---------------+\n",
      "|(4,[3],[1.0])  |\n",
      "|(4,[2],[1.0])  |\n",
      "|(4,[0],[1.0])  |\n",
      "|(4,[1],[1.0])  |\n",
      "+---------------+\n",
      "\n",
      "\n",
      "Statistical Summary:\n",
      "+-------+\n",
      "|summary|\n",
      "+-------+\n",
      "|  count|\n",
      "|   mean|\n",
      "| stddev|\n",
      "|    min|\n",
      "|    25%|\n",
      "|    50%|\n",
      "|    75%|\n",
      "|    max|\n",
      "+-------+\n",
      "\n",
      "\n",
      "Value Distribution:\n",
      "+---------------+------+\n",
      "|purpose_encoded| count|\n",
      "+---------------+------+\n",
      "|  (4,[0],[1.0])|159095|\n",
      "|  (4,[1],[1.0])| 53081|\n",
      "|  (4,[2],[1.0])| 42458|\n",
      "|  (4,[3],[1.0])| 15972|\n",
      "+---------------+------+\n",
      "\n",
      "\n",
      "--- Analysis for loan_status_binary ---\n",
      "\n",
      "Unique Values:\n",
      "+------------------+\n",
      "|loan_status_binary|\n",
      "+------------------+\n",
      "|1                 |\n",
      "|0                 |\n",
      "+------------------+\n",
      "\n",
      "\n",
      "Statistical Summary:\n",
      "+-------+------------------+\n",
      "|summary|loan_status_binary|\n",
      "+-------+------------------+\n",
      "|  count|            270606|\n",
      "|   mean|0.2259003865398402|\n",
      "| stddev|0.4181746622135763|\n",
      "|    min|                 0|\n",
      "|    25%|                 0|\n",
      "|    50%|                 0|\n",
      "|    75%|                 0|\n",
      "|    max|                 1|\n",
      "+-------+------------------+\n",
      "\n",
      "\n",
      "Value Distribution:\n",
      "+------------------+------+\n",
      "|loan_status_binary| count|\n",
      "+------------------+------+\n",
      "|                 0|209476|\n",
      "|                 1| 61130|\n",
      "+------------------+------+\n",
      "\n",
      "\n",
      "--- Analysis for term_numeric ---\n",
      "\n",
      "Unique Values:\n",
      "+------------+\n",
      "|term_numeric|\n",
      "+------------+\n",
      "|60          |\n",
      "|36          |\n",
      "+------------+\n",
      "\n",
      "\n",
      "Statistical Summary:\n",
      "+-------+------------------+\n",
      "|summary|      term_numeric|\n",
      "+-------+------------------+\n",
      "|  count|            270606|\n",
      "|   mean| 41.54781490432585|\n",
      "| stddev|10.117790558668224|\n",
      "|    min|                36|\n",
      "|    25%|                36|\n",
      "|    50%|                36|\n",
      "|    75%|                36|\n",
      "|    max|                60|\n",
      "+-------+------------------+\n",
      "\n",
      "\n",
      "--- Analysis for credit_history_length ---\n",
      "\n",
      "Unique Values:\n",
      "+---------------------+\n",
      "|credit_history_length|\n",
      "+---------------------+\n",
      "|61.83983572895277    |\n",
      "|19.753593429158112   |\n",
      "|24.670773442847366   |\n",
      "|56.58590006844627    |\n",
      "|41.086926762491444   |\n",
      "|16.670773442847366   |\n",
      "|39.671457905544145   |\n",
      "|43.3347022587269     |\n",
      "|39.58658453114305    |\n",
      "|33.672826830937716   |\n",
      "+---------------------+\n",
      "only showing top 10 rows\n",
      "\n",
      "\n",
      "Statistical Summary:\n",
      "+-------+---------------------+\n",
      "|summary|credit_history_length|\n",
      "+-------+---------------------+\n",
      "|  count|               270606|\n",
      "|   mean|    26.86478016842848|\n",
      "| stddev|    7.006334414818516|\n",
      "|    min|   12.251882272416154|\n",
      "|    25%|   22.168377823408623|\n",
      "|    50%|   25.505817932922657|\n",
      "|    75%|   30.253251197809718|\n",
      "|    max|    79.00068446269678|\n",
      "+-------+---------------------+"
     ]
    }
   ],
   "source": [
    "# Analyze unique values of columns in df_final\n",
    "columns_to_analyze = [\n",
    "    'loan_amnt', 'funded_amnt', 'funded_amnt_inv', 'int_rate', 'installment', \n",
    "    'annual_inc', 'dti', 'delinq_2yrs', 'inq_last_6mths', 'open_acc', 'pub_rec', \n",
    "    'revol_bal', 'revol_util', 'total_acc', 'grade_encoded', 'emp_length_encoded', \n",
    "    'home_ownership_encoded', 'verification_status_encoded', 'purpose_encoded', \n",
    "    'loan_status_binary', 'term_numeric', 'credit_history_length'\n",
    "]\n",
    "\n",
    "# Function to show unique values and basic statistics\n",
    "def analyze_column(df, column):\n",
    "    print(f\"\\n--- Analysis for {column} ---\")\n",
    "    \n",
    "    # Unique values\n",
    "    print(\"\\nUnique Values:\")\n",
    "    df.select(column).distinct().show(10, truncate=False)\n",
    "    \n",
    "    # Statistical summary for numeric columns\n",
    "    try:\n",
    "        print(\"\\nStatistical Summary:\")\n",
    "        df.select(column).summary().show()\n",
    "    except Exception as e:\n",
    "        print(f\"Could not generate summary: {e}\")\n",
    "    \n",
    "    # Distribution for encoded/categorical columns\n",
    "    if column.endswith('encoded') or column == 'loan_status_binary':\n",
    "        print(\"\\nValue Distribution:\")\n",
    "        df.groupBy(column).count().orderBy('count', ascending=False).show()\n",
    "\n",
    "# Analyze each column\n",
    "for column in columns_to_analyze:\n",
    "    analyze_column(df_final, column)"
   ]
  },
  {
   "cell_type": "code",
   "execution_count": 47,
   "id": "60b59655-af38-4285-9bf9-c807b426423c",
   "metadata": {
    "execution": {
     "iopub.execute_input": "2025-03-12T03:52:54.882757Z",
     "iopub.status.busy": "2025-03-12T03:52:54.882502Z",
     "iopub.status.idle": "2025-03-12T03:53:34.306236Z",
     "shell.execute_reply": "2025-03-12T03:53:34.305337Z",
     "shell.execute_reply.started": "2025-03-12T03:52:54.882729Z"
    }
   },
   "outputs": [
    {
     "data": {
      "application/vnd.jupyter.widget-view+json": {
       "model_id": "b4eed40f3f35420aa07dc8c69ad5020c",
       "version_major": 2,
       "version_minor": 0
      },
      "text/plain": [
       "VBox()"
      ]
     },
     "metadata": {},
     "output_type": "display_data"
    },
    {
     "data": {
      "application/vnd.jupyter.widget-view+json": {
       "model_id": "",
       "version_major": 2,
       "version_minor": 0
      },
      "text/plain": [
       "FloatProgress(value=0.0, bar_style='info', description='Progress:', layout=Layout(height='25px', width='50%'),…"
      ]
     },
     "metadata": {},
     "output_type": "display_data"
    }
   ],
   "source": [
    "# Writing my transformed and pre-processed dataframe df_final to S3 in Parquet Format\n",
    "df_final.write \\\n",
    "    .mode(\"overwrite\") \\\n",
    "    .parquet(\"s3://credit-risk-analysis-final-project/credit-risk-data/\")\n"
   ]
  },
  {
   "cell_type": "code",
   "execution_count": 48,
   "id": "a2252731-f3d4-47d1-92cb-2ee4da90059c",
   "metadata": {
    "execution": {
     "iopub.execute_input": "2025-03-12T04:15:47.463555Z",
     "iopub.status.busy": "2025-03-12T04:15:47.463309Z",
     "iopub.status.idle": "2025-03-12T04:15:47.554504Z",
     "shell.execute_reply": "2025-03-12T04:15:47.553640Z",
     "shell.execute_reply.started": "2025-03-12T04:15:47.463529Z"
    }
   },
   "outputs": [
    {
     "data": {
      "application/vnd.jupyter.widget-view+json": {
       "model_id": "8cc482d02ba94c03aab1655535bd4082",
       "version_major": 2,
       "version_minor": 0
      },
      "text/plain": [
       "VBox()"
      ]
     },
     "metadata": {},
     "output_type": "display_data"
    },
    {
     "data": {
      "application/vnd.jupyter.widget-view+json": {
       "model_id": "",
       "version_major": 2,
       "version_minor": 0
      },
      "text/plain": [
       "FloatProgress(value=0.0, bar_style='info', description='Progress:', layout=Layout(height='25px', width='50%'),…"
      ]
     },
     "metadata": {},
     "output_type": "display_data"
    },
    {
     "name": "stdout",
     "output_type": "stream",
     "text": [
      "Column Names and Data Types:\n",
      "loan_amnt: double\n",
      "funded_amnt: double\n",
      "funded_amnt_inv: double\n",
      "int_rate: double\n",
      "installment: double\n",
      "annual_inc: string\n",
      "dti: string\n",
      "delinq_2yrs: string\n",
      "inq_last_6mths: string\n",
      "open_acc: string\n",
      "pub_rec: string\n",
      "revol_bal: string\n",
      "revol_util: string\n",
      "total_acc: string\n",
      "grade_encoded: vector\n",
      "emp_length_encoded: vector\n",
      "home_ownership_encoded: vector\n",
      "verification_status_encoded: vector\n",
      "purpose_encoded: vector\n",
      "loan_status_binary: int\n",
      "term_numeric: int\n",
      "credit_history_length: double"
     ]
    }
   ],
   "source": [
    "# getting all data types and schema information for df_final\n",
    "print(\"Column Names and Data Types:\")\n",
    "for column, dtype in df_final.dtypes:\n",
    "    print(f\"{column}: {dtype}\")"
   ]
  },
  {
   "cell_type": "code",
   "execution_count": 3,
   "id": "1b7e07ba-1848-445c-89e5-7be665061894",
   "metadata": {
    "execution": {
     "iopub.execute_input": "2025-03-12T15:25:37.257668Z",
     "iopub.status.busy": "2025-03-12T15:25:37.257433Z",
     "iopub.status.idle": "2025-03-12T15:25:58.699132Z",
     "shell.execute_reply": "2025-03-12T15:25:58.698238Z",
     "shell.execute_reply.started": "2025-03-12T15:25:37.257640Z"
    },
    "tags": []
   },
   "outputs": [
    {
     "data": {
      "application/vnd.jupyter.widget-view+json": {
       "model_id": "f16f0a1adfa54593a5bf5fff0a59cb2a",
       "version_major": 2,
       "version_minor": 0
      },
      "text/plain": [
       "VBox()"
      ]
     },
     "metadata": {},
     "output_type": "display_data"
    },
    {
     "data": {
      "application/vnd.jupyter.widget-view+json": {
       "model_id": "",
       "version_major": 2,
       "version_minor": 0
      },
      "text/plain": [
       "FloatProgress(value=0.0, bar_style='info', description='Progress:', layout=Layout(height='25px', width='50%'),…"
      ]
     },
     "metadata": {},
     "output_type": "display_data"
    },
    {
     "name": "stdout",
     "output_type": "stream",
     "text": [
      "Number of rows: 270606\n",
      "Number of columns: 22\n",
      "root\n",
      " |-- loan_amnt: double (nullable = true)\n",
      " |-- funded_amnt: double (nullable = true)\n",
      " |-- funded_amnt_inv: double (nullable = true)\n",
      " |-- int_rate: double (nullable = true)\n",
      " |-- installment: double (nullable = true)\n",
      " |-- annual_inc: string (nullable = true)\n",
      " |-- dti: string (nullable = true)\n",
      " |-- delinq_2yrs: string (nullable = true)\n",
      " |-- inq_last_6mths: string (nullable = true)\n",
      " |-- open_acc: string (nullable = true)\n",
      " |-- pub_rec: string (nullable = true)\n",
      " |-- revol_bal: string (nullable = true)\n",
      " |-- revol_util: string (nullable = true)\n",
      " |-- total_acc: string (nullable = true)\n",
      " |-- grade_encoded: vector (nullable = true)\n",
      " |-- emp_length_encoded: vector (nullable = true)\n",
      " |-- home_ownership_encoded: vector (nullable = true)\n",
      " |-- verification_status_encoded: vector (nullable = true)\n",
      " |-- purpose_encoded: vector (nullable = true)\n",
      " |-- loan_status_binary: integer (nullable = true)\n",
      " |-- term_numeric: integer (nullable = true)\n",
      " |-- credit_history_length: double (nullable = true)\n",
      "\n",
      "+---------+-----------+---------------+--------+-----------+----------+-----+-----------+--------------+--------+-------+---------+----------+---------+-------------+------------------+----------------------+---------------------------+---------------+------------------+------------+---------------------+\n",
      "|loan_amnt|funded_amnt|funded_amnt_inv|int_rate|installment|annual_inc|  dti|delinq_2yrs|inq_last_6mths|open_acc|pub_rec|revol_bal|revol_util|total_acc|grade_encoded|emp_length_encoded|home_ownership_encoded|verification_status_encoded|purpose_encoded|loan_status_binary|term_numeric|credit_history_length|\n",
      "+---------+-----------+---------------+--------+-----------+----------+-----+-----------+--------------+--------+-------+---------+----------+---------+-------------+------------------+----------------------+---------------------------+---------------+------------------+------------+---------------------+\n",
      "|   5000.0|     5000.0|         4975.0|   10.65|     162.87|   24000.0|27.65|        0.0|           1.0|     3.0|    0.0|  13648.0|      83.7|      9.0|(7,[0],[1.0])|    (13,[0],[1.0])|         (4,[1],[1.0])|              (3,[0],[1.0])|  (4,[1],[1.0])|                 0|          36|                 40.0|\n",
      "|   2500.0|     2500.0|         2500.0|   15.27|      59.83|   30000.0|  1.0|        0.0|           5.0|     3.0|    0.0|   1687.0|       9.4|      4.0|(7,[1],[1.0])|    (13,[2],[1.0])|         (4,[1],[1.0])|              (3,[2],[1.0])|  (4,[2],[1.0])|                 1|          60|   25.754962354551676|\n",
      "|   2400.0|     2400.0|         2400.0|   15.96|      84.33|   12252.0| 8.72|        0.0|           2.0|     2.0|    0.0|   2956.0|      98.5|     10.0|(7,[1],[1.0])|    (13,[0],[1.0])|         (4,[1],[1.0])|              (3,[1],[1.0])|  (4,[2],[1.0])|                 0|          36|    23.16769336071184|\n",
      "|  10000.0|    10000.0|        10000.0|   13.49|     339.31|   49200.0| 20.0|        0.0|           1.0|    10.0|    0.0|   5598.0|      21.0|     37.0|(7,[1],[1.0])|    (13,[0],[1.0])|         (4,[1],[1.0])|              (3,[2],[1.0])|  (4,[2],[1.0])|                 0|          36|   28.917180013689254|\n",
      "|   5000.0|     5000.0|         5000.0|     7.9|     156.46|   36000.0| 11.2|        0.0|           3.0|     9.0|    0.0|   7963.0|      28.3|     12.0|(7,[3],[1.0])|    (13,[3],[1.0])|         (4,[1],[1.0])|              (3,[2],[1.0])|  (4,[2],[1.0])|                 0|          36|    20.16700889801506|\n",
      "+---------+-----------+---------------+--------+-----------+----------+-----+-----------+--------------+--------+-------+---------+----------+---------+-------------+------------------+----------------------+---------------------------+---------------+------------------+------------+---------------------+\n",
      "only showing top 5 rows"
     ]
    }
   ],
   "source": [
    "# Resuming work. Loading df_final through parquet\n",
    "\n",
    "# Initialize Spark Session (if it's not already initialized)\n",
    "from pyspark.sql import SparkSession\n",
    "\n",
    "spark = SparkSession.builder.appName(\"Credit Risk Analysis\").getOrCreate()\n",
    "\n",
    "# Load the Parquet data from S3 into a DataFrame\n",
    "df_final = spark.read.parquet(\"s3://credit-risk-analysis-final-project/credit-risk-data/\")\n",
    "\n",
    "# Verify the data was loaded correctly\n",
    "print(f\"Number of rows: {df_final.count()}\")\n",
    "print(f\"Number of columns: {len(df_final.columns)}\")\n",
    "\n",
    "# Display the schema to confirm all columns loaded properly\n",
    "df_final.printSchema()\n",
    "\n",
    "# Show a small sample of the data\n",
    "df_final.show(5)"
   ]
  },
  {
   "cell_type": "markdown",
   "id": "8723a4b1-e476-45aa-9059-451e49de4a72",
   "metadata": {},
   "source": [
    "Currently the format of my one-hot encoded vectors are in sparse vector representation format (example: (7,[1],[1.0])) from PySpark's MLib. This is not compatible with Athena's ARRAY type. As a result, we need to convert all my one-hot encoded sparse vectors into dense arrays and write it to Parquet later down the line. "
   ]
  },
  {
   "cell_type": "code",
   "execution_count": 5,
   "id": "49b65861-afe8-41ca-af35-6cfc59f9fd61",
   "metadata": {
    "execution": {
     "iopub.execute_input": "2025-03-12T15:45:09.058914Z",
     "iopub.status.busy": "2025-03-12T15:45:09.058662Z",
     "iopub.status.idle": "2025-03-12T15:46:22.709543Z",
     "shell.execute_reply": "2025-03-12T15:46:22.708359Z",
     "shell.execute_reply.started": "2025-03-12T15:45:09.058887Z"
    },
    "tags": []
   },
   "outputs": [
    {
     "data": {
      "application/vnd.jupyter.widget-view+json": {
       "model_id": "7db640dc5db64e4db106883297b5000a",
       "version_major": 2,
       "version_minor": 0
      },
      "text/plain": [
       "VBox()"
      ]
     },
     "metadata": {},
     "output_type": "display_data"
    },
    {
     "data": {
      "application/vnd.jupyter.widget-view+json": {
       "model_id": "",
       "version_major": 2,
       "version_minor": 0
      },
      "text/plain": [
       "FloatProgress(value=0.0, bar_style='info', description='Progress:', layout=Layout(height='25px', width='50%'),…"
      ]
     },
     "metadata": {},
     "output_type": "display_data"
    },
    {
     "name": "stdout",
     "output_type": "stream",
     "text": [
      "Number of columns: 22\n",
      "root\n",
      " |-- loan_amnt: double (nullable = true)\n",
      " |-- funded_amnt: double (nullable = true)\n",
      " |-- funded_amnt_inv: double (nullable = true)\n",
      " |-- int_rate: double (nullable = true)\n",
      " |-- installment: double (nullable = true)\n",
      " |-- annual_inc: string (nullable = true)\n",
      " |-- dti: string (nullable = true)\n",
      " |-- delinq_2yrs: string (nullable = true)\n",
      " |-- inq_last_6mths: string (nullable = true)\n",
      " |-- open_acc: string (nullable = true)\n",
      " |-- pub_rec: string (nullable = true)\n",
      " |-- revol_bal: string (nullable = true)\n",
      " |-- revol_util: string (nullable = true)\n",
      " |-- total_acc: string (nullable = true)\n",
      " |-- loan_status_binary: integer (nullable = true)\n",
      " |-- term_numeric: integer (nullable = true)\n",
      " |-- credit_history_length: double (nullable = true)\n",
      " |-- grade_encoded_array: array (nullable = true)\n",
      " |    |-- element: double (containsNull = true)\n",
      " |-- emp_length_encoded_array: array (nullable = true)\n",
      " |    |-- element: double (containsNull = true)\n",
      " |-- home_ownership_encoded_array: array (nullable = true)\n",
      " |    |-- element: double (containsNull = true)\n",
      " |-- verification_status_encoded_array: array (nullable = true)\n",
      " |    |-- element: double (containsNull = true)\n",
      " |-- purpose_encoded_array: array (nullable = true)\n",
      " |    |-- element: double (containsNull = true)\n",
      "\n",
      "Sample of array columns:\n",
      "+-----------------------------------+-----------------------------------------------------------------+----------------------------+---------------------------------+---------------------+\n",
      "|grade_encoded_array                |emp_length_encoded_array                                         |home_ownership_encoded_array|verification_status_encoded_array|purpose_encoded_array|\n",
      "+-----------------------------------+-----------------------------------------------------------------+----------------------------+---------------------------------+---------------------+\n",
      "|[1.0, 0.0, 0.0, 0.0, 0.0, 0.0, 0.0]|[1.0, 0.0, 0.0, 0.0, 0.0, 0.0, 0.0, 0.0, 0.0, 0.0, 0.0, 0.0, 0.0]|[0.0, 1.0, 0.0, 0.0]        |[1.0, 0.0, 0.0]                  |[0.0, 1.0, 0.0, 0.0] |\n",
      "|[0.0, 1.0, 0.0, 0.0, 0.0, 0.0, 0.0]|[0.0, 0.0, 1.0, 0.0, 0.0, 0.0, 0.0, 0.0, 0.0, 0.0, 0.0, 0.0, 0.0]|[0.0, 1.0, 0.0, 0.0]        |[0.0, 0.0, 1.0]                  |[0.0, 0.0, 1.0, 0.0] |\n",
      "|[0.0, 1.0, 0.0, 0.0, 0.0, 0.0, 0.0]|[1.0, 0.0, 0.0, 0.0, 0.0, 0.0, 0.0, 0.0, 0.0, 0.0, 0.0, 0.0, 0.0]|[0.0, 1.0, 0.0, 0.0]        |[0.0, 1.0, 0.0]                  |[0.0, 0.0, 1.0, 0.0] |\n",
      "+-----------------------------------+-----------------------------------------------------------------+----------------------------+---------------------------------+---------------------+\n",
      "only showing top 3 rows\n",
      "\n",
      "Successfully wrote DataFrame with all columns to Parquet."
     ]
    }
   ],
   "source": [
    "# Created a copy of the original dataframe (df_final) and named it df_transformed\n",
    "# Converts only the vector columns to dense array while keeping all other columns within the dataframe\n",
    "# Writes the completed dataframe with all columns to Parquet storage\n",
    "\n",
    "from pyspark.sql.functions import udf\n",
    "from pyspark.sql.types import ArrayType, DoubleType\n",
    "\n",
    "# Create UDF to convert sparse vector to dense array\n",
    "to_dense_array = udf(lambda v: v.toArray().tolist() if v else None, ArrayType(DoubleType()))\n",
    "\n",
    "# List of vector columns to convert\n",
    "vector_columns = [\"grade_encoded\", \"emp_length_encoded\", \"home_ownership_encoded\", \n",
    "                 \"verification_status_encoded\", \"purpose_encoded\"]\n",
    "\n",
    "# Make a copy of the original DataFrame to modify\n",
    "df_transformed = df_final\n",
    "\n",
    "# Apply conversion to all vector columns (keeping original columns intact)\n",
    "for col_name in vector_columns:\n",
    "    # Create new column with dense array\n",
    "    df_transformed = df_transformed.withColumn(f\"{col_name}_array\", to_dense_array(col_name))\n",
    "    # Drop the original sparse vector column\n",
    "    df_transformed = df_transformed.drop(col_name)\n",
    "\n",
    "# Show the schema to verify changes\n",
    "print(\"Number of columns:\", len(df_transformed.columns))\n",
    "df_transformed.printSchema()\n",
    "\n",
    "# Show sample data with the converted columns\n",
    "print(\"Sample of array columns:\")\n",
    "df_transformed.select([col for col in df_transformed.columns if \"_array\" in col]).show(3, truncate=False)\n",
    "\n",
    "# Write the complete transformed DataFrame to Parquet (with ALL columns)\n",
    "df_transformed.write.mode(\"overwrite\").parquet(\"s3://credit-risk-analysis-final-project/complete-partquet-data-with-arrays/\")\n",
    "\n",
    "print(\"Successfully wrote DataFrame with all columns to Parquet.\")"
   ]
  },
  {
   "cell_type": "code",
   "execution_count": 7,
   "id": "f823dae7-81dd-4230-bdd7-8f2160abbc89",
   "metadata": {
    "execution": {
     "iopub.execute_input": "2025-03-12T15:52:46.708396Z",
     "iopub.status.busy": "2025-03-12T15:52:46.708156Z",
     "iopub.status.idle": "2025-03-12T15:52:46.840096Z",
     "shell.execute_reply": "2025-03-12T15:52:46.833269Z",
     "shell.execute_reply.started": "2025-03-12T15:52:46.708369Z"
    },
    "tags": []
   },
   "outputs": [
    {
     "data": {
      "application/vnd.jupyter.widget-view+json": {
       "model_id": "e4756e367ff148e8ab59e2435c59ca80",
       "version_major": 2,
       "version_minor": 0
      },
      "text/plain": [
       "VBox()"
      ]
     },
     "metadata": {},
     "output_type": "display_data"
    },
    {
     "data": {
      "application/vnd.jupyter.widget-view+json": {
       "model_id": "",
       "version_major": 2,
       "version_minor": 0
      },
      "text/plain": [
       "FloatProgress(value=0.0, bar_style='info', description='Progress:', layout=Layout(height='25px', width='50%'),…"
      ]
     },
     "metadata": {},
     "output_type": "display_data"
    }
   ],
   "source": [
    "# Ran \"SELECT * FROM credit_risk_data LIMIT 10;\" to make sure table was properly created\n",
    "# Successfully integrated Athena into my credit risk analyss workflow\n",
    "\n",
    "#\tloan_amnt\tfunded_amnt\tfunded_amnt_inv\tint_rate\tinstallment\tannual_inc\tdti\tdelinq_2yrs\tinq_last_6mths\topen_acc\tpub_rec\trevol_bal\trevol_util\ttotal_acc\tloan_status_binary\tterm_numeric\tcredit_history_length\tgrade_encoded_array\temp_length_encoded_array\thome_ownership_encoded_array\tverification_status_encoded_array\tpurpose_encoded_array\n",
    "# 1\t33950.0\t33950.0\t33950.0\t25.83\t1013.07\t85000.0\t35.85\t0.0\t1.0\t17.0\t0.0\t23615.0\t62.3\t24.0\t0\t60\t47.9151266255989\t[0.0, 0.0, 0.0, 0.0, 0.0, 0.0, 1.0]\t[0.0, 0.0, 0.0, 0.0, 0.0, 1.0, 0.0, 0.0, 0.0, 0.0, 0.0, 0.0, 0.0]\t[0.0, 1.0, 0.0, 0.0]\t[1.0, 0.0, 0.0]\t[0.0, 0.0, 1.0, 0.0]\n",
    "# 2\t4300.0\t4300.0\t4300.0\t17.57\t154.53\t40700.0\t26.01\t0.0\t0.0\t5.0\t0.0\t12470.0\t92.4\t7.0\t0\t36\t18.915811088295687\t[0.0, 0.0, 1.0, 0.0, 0.0, 0.0, 0.0]\t[1.0, 0.0, 0.0, 0.0, 0.0, 0.0, 0.0, 0.0, 0.0, 0.0, 0.0, 0.0, 0.0]\t[0.0, 1.0, 0.0, 0.0]\t[0.0, 0.0, 1.0]\t[1.0, 0.0, 0.0, 0.0]\n",
    "# 3\t3350.0\t3350.0\t3350.0\t12.29\t111.74\t13700.0\t29.71\t0.0\t0.0\t8.0\t1.0\t4754.0\t40.3\t17.0\t0\t36\t37.2539356605065\t[0.0, 1.0, 0.0, 0.0, 0.0, 0.0, 0.0]\t[0.0, 0.0, 0.0, 0.0, 0.0, 0.0, 0.0, 0.0, 0.0, 0.0, 1.0, 0.0, 0.0]\t[0.0, 1.0, 0.0, 0.0]\t[1.0, 0.0, 0.0]\t[0.0, 0.0, 0.0, 1.0]\n",
    "# 4\t10050.0\t10050.0\t10050.0\t25.99\t300.85\t42000.0\t22.46\t1.0\t3.0\t16.0\t0.0\t15410.0\t66.4\t30.0\t1\t60\t25.672826830937716\t[0.0, 0.0, 0.0, 0.0, 0.0, 0.0, 1.0]\t[0.0, 0.0, 0.0, 0.0, 0.0, 0.0, 0.0, 1.0, 0.0, 0.0, 0.0, 0.0, 0.0]\t[0.0, 1.0, 0.0, 0.0]\t[1.0, 0.0, 0.0]\t[0.0, 1.0, 0.0, 0.0]\n",
    "# 5\t17625.0\t17625.0\t17625.0\t25.8\t525.62\t52000.0\t19.46\t0.0\t0.0\t6.0\t0.0\t17298.0\t95.6\t25.0\t0\t60\t28.251882272416154\t[0.0, 0.0, 0.0, 0.0, 0.0, 0.0, 1.0]\t[0.0, 0.0, 0.0, 0.0, 0.0, 0.0, 0.0, 0.0, 0.0, 1.0, 0.0, 0.0, 0.0]\t[1.0, 0.0, 0.0, 0.0]\t[0.0, 1.0, 0.0]\t[1.0, 0.0, 0.0, 0.0]\n",
    "# 6\t29325.0\t29325.0\t29075.0\t24.5\t852.16\t70000.0\t26.25\t1.0\t3.0\t14.0\t0.0\t23034.0\t71.1\t47.0\t1\t60\t24.418891170431213\t[0.0, 0.0, 0.0, 0.0, 0.0, 1.0, 0.0]\t[0.0, 0.0, 0.0, 0.0, 1.0, 0.0, 0.0, 0.0, 0.0, 0.0, 0.0, 0.0, 0.0]\t[0.0, 1.0, 0.0, 0.0]\t[0.0, 0.0, 1.0]\t[1.0, 0.0, 0.0, 0.0]\n",
    "# 7\t13600.0\t13600.0\t13600.0\t16.99\t337.93\t78000.0\t11.4\t2.0\t1.0\t8.0\t0.0\t13037.0\t61.5\t16.0\t0\t60\t22.587268993839835\t[0.0, 0.0, 1.0, 0.0, 0.0, 0.0, 0.0]\t[0.0, 0.0, 0.0, 0.0, 0.0, 0.0, 0.0, 0.0, 0.0, 0.0, 0.0, 1.0, 0.0]\t[1.0, 0.0, 0.0, 0.0]\t[0.0, 0.0, 1.0]\t[1.0, 0.0, 0.0, 0.0]\n",
    "# 8\t12075.0\t12075.0\t12075.0\t22.99\t467.36\t40373.0\t18.58\t0.0\t1.0\t10.0\t0.0\t4057.0\t88.2\t15.0\t1\t36\t20.251882272416154\t[0.0, 0.0, 0.0, 0.0, 0.0, 1.0, 0.0]\t[0.0, 0.0, 0.0, 1.0, 0.0, 0.0, 0.0, 0.0, 0.0, 0.0, 0.0, 0.0, 0.0]\t[0.0, 1.0, 0.0, 0.0]\t[1.0, 0.0, 0.0]\t[1.0, 0.0, 0.0, 0.0]\n",
    "# 9\t30225.0\t30225.0\t30225.0\t19.52\t792.73\t72000.0\t12.5\t0.0\t0.0\t6.0\t0.0\t7488.0\t65.7\t23.0\t1\t60\t20.917180013689254\t[0.0, 0.0, 0.0, 0.0, 1.0, 0.0, 0.0]\t[0.0, 0.0, 0.0, 1.0, 0.0, 0.0, 0.0, 0.0, 0.0, 0.0, 0.0, 0.0, 0.0]\t[1.0, 0.0, 0.0, 0.0]\t[1.0, 0.0, 0.0]\t[1.0, 0.0, 0.0, 0.0]\n",
    "# 10\t10700.0\t10700.0\t10700.0\t10.99\t350.26\t75000.0\t11.23\t1.0\t0.0\t7.0\t0.0\t5298.0\t42.7\t23.0\t0\t36\t24.83778234086242\t[1.0, 0.0, 0.0, 0.0, 0.0, 0.0, 0.0]\t[1.0, 0.0, 0.0, 0.0, 0.0, 0.0, 0.0, 0.0, 0.0, 0.0, 0.0, 0.0, 0.0]\t[1.0, 0.0, 0.0, 0.0]\t[0.0, 1.0, 0.0]\t[1.0, 0.0, 0.0, 0.0]\n"
   ]
  },
  {
   "cell_type": "code",
   "execution_count": 3,
   "id": "08617b7f-a24b-4782-af16-eed25ba73cb1",
   "metadata": {
    "execution": {
     "iopub.execute_input": "2025-03-13T18:11:44.532096Z",
     "iopub.status.busy": "2025-03-13T18:11:44.531850Z",
     "iopub.status.idle": "2025-03-13T18:11:49.859497Z",
     "shell.execute_reply": "2025-03-13T18:11:49.858720Z",
     "shell.execute_reply.started": "2025-03-13T18:11:44.532068Z"
    },
    "tags": []
   },
   "outputs": [
    {
     "data": {
      "application/vnd.jupyter.widget-view+json": {
       "model_id": "e022c9a795db463a97692ffdb338a847",
       "version_major": 2,
       "version_minor": 0
      },
      "text/plain": [
       "VBox()"
      ]
     },
     "metadata": {},
     "output_type": "display_data"
    },
    {
     "data": {
      "application/vnd.jupyter.widget-view+json": {
       "model_id": "",
       "version_major": 2,
       "version_minor": 0
      },
      "text/plain": [
       "FloatProgress(value=0.0, bar_style='info', description='Progress:', layout=Layout(height='25px', width='50%'),…"
      ]
     },
     "metadata": {},
     "output_type": "display_data"
    },
    {
     "name": "stdout",
     "output_type": "stream",
     "text": [
      "Collecting boto3\n",
      "  Downloading boto3-1.37.11-py3-none-any.whl (139 kB)\n",
      "Collecting s3transfer<0.12.0,>=0.11.0\n",
      "  Downloading s3transfer-0.11.4-py3-none-any.whl (84 kB)\n",
      "Requirement already satisfied: jmespath<2.0.0,>=0.7.1 in /usr/local/lib/python3.9/site-packages (from boto3) (1.0.1)\n",
      "Collecting botocore<1.38.0,>=1.37.11\n",
      "  Downloading botocore-1.37.11-py3-none-any.whl (13.4 MB)\n",
      "Requirement already satisfied: python-dateutil<3.0.0,>=2.1 in ./tmp/spark-03ea0f55-d587-4b53-9f8b-c3666b686dd6/lib/python3.9/site-packages (from botocore<1.38.0,>=1.37.11->boto3) (2.9.0.post0)\n",
      "Requirement already satisfied: urllib3<1.27,>=1.25.4 in /usr/lib/python3.9/site-packages (from botocore<1.38.0,>=1.37.11->boto3) (1.25.10)\n",
      "Requirement already satisfied: six>=1.5 in /usr/local/lib/python3.9/site-packages (from python-dateutil<3.0.0,>=2.1->botocore<1.38.0,>=1.37.11->boto3) (1.13.0)\n",
      "Installing collected packages: botocore, s3transfer, boto3\n",
      "Successfully installed boto3-1.37.11 botocore-1.37.11 s3transfer-0.11.4\n",
      "\n",
      "boto3 successfully imported, version: 1.37.11\n",
      "WARNING: The directory '/home/.cache/pip' or its parent directory is not owned or is not writable by the current user. The cache has been disabled. Check the permissions and owner of that directory. If executing pip with sudo, you should use sudo's -H flag."
     ]
    }
   ],
   "source": [
    "# Install boto3 using PySpark's package installer\n",
    "spark.sparkContext.install_pypi_package(\"boto3\")\n",
    "\n",
    "# Verify it's available\n",
    "try:\n",
    "    import boto3\n",
    "    print(\"boto3 successfully imported, version:\", boto3.__version__)\n",
    "except ImportError as e:\n",
    "    print(\"Import failed:\", e)"
   ]
  },
  {
   "cell_type": "code",
   "execution_count": 4,
   "id": "cf01e174-6ca4-48aa-9c06-4e3e8d6fd617",
   "metadata": {
    "execution": {
     "iopub.execute_input": "2025-03-13T18:12:33.158318Z",
     "iopub.status.busy": "2025-03-13T18:12:33.158080Z",
     "iopub.status.idle": "2025-03-13T18:12:50.509842Z",
     "shell.execute_reply": "2025-03-13T18:12:50.509050Z",
     "shell.execute_reply.started": "2025-03-13T18:12:33.158290Z"
    },
    "tags": []
   },
   "outputs": [
    {
     "data": {
      "application/vnd.jupyter.widget-view+json": {
       "model_id": "7b01d0e23ee940b1840ebc39f45edcee",
       "version_major": 2,
       "version_minor": 0
      },
      "text/plain": [
       "VBox()"
      ]
     },
     "metadata": {},
     "output_type": "display_data"
    },
    {
     "data": {
      "application/vnd.jupyter.widget-view+json": {
       "model_id": "",
       "version_major": 2,
       "version_minor": 0
      },
      "text/plain": [
       "FloatProgress(value=0.0, bar_style='info', description='Progress:', layout=Layout(height='25px', width='50%'),…"
      ]
     },
     "metadata": {},
     "output_type": "display_data"
    },
    {
     "name": "stdout",
     "output_type": "stream",
     "text": [
      "DataFrame loaded with 270606 rows and 22 columns\n",
      "root\n",
      " |-- loan_amnt: double (nullable = true)\n",
      " |-- funded_amnt: double (nullable = true)\n",
      " |-- funded_amnt_inv: double (nullable = true)\n",
      " |-- int_rate: double (nullable = true)\n",
      " |-- installment: double (nullable = true)\n",
      " |-- annual_inc: string (nullable = true)\n",
      " |-- dti: string (nullable = true)\n",
      " |-- delinq_2yrs: string (nullable = true)\n",
      " |-- inq_last_6mths: string (nullable = true)\n",
      " |-- open_acc: string (nullable = true)\n",
      " |-- pub_rec: string (nullable = true)\n",
      " |-- revol_bal: string (nullable = true)\n",
      " |-- revol_util: string (nullable = true)\n",
      " |-- total_acc: string (nullable = true)\n",
      " |-- loan_status_binary: integer (nullable = true)\n",
      " |-- term_numeric: integer (nullable = true)\n",
      " |-- credit_history_length: double (nullable = true)\n",
      " |-- grade_encoded_array: array (nullable = true)\n",
      " |    |-- element: double (containsNull = true)\n",
      " |-- emp_length_encoded_array: array (nullable = true)\n",
      " |    |-- element: double (containsNull = true)\n",
      " |-- home_ownership_encoded_array: array (nullable = true)\n",
      " |    |-- element: double (containsNull = true)\n",
      " |-- verification_status_encoded_array: array (nullable = true)\n",
      " |    |-- element: double (containsNull = true)\n",
      " |-- purpose_encoded_array: array (nullable = true)\n",
      " |    |-- element: double (containsNull = true)"
     ]
    }
   ],
   "source": [
    "# restarted kernel after boto3 installation\n",
    "# resuming work\n",
    "\n",
    "# 1. Import libraries\n",
    "import boto3\n",
    "from pyspark.sql import SparkSession\n",
    "# Any other libraries you were using\n",
    "\n",
    "# 2. Initialize Spark session\n",
    "spark = SparkSession.builder.appName(\"Credit Risk Analysis\").getOrCreate()\n",
    "\n",
    "# 3. Load your Parquet data\n",
    "df_final = spark.read.parquet(\"s3://credit-risk-analysis-final-project/complete-partquet-data-with-arrays/\")\n",
    "\n",
    "# Verify data loaded correctly\n",
    "print(f\"DataFrame loaded with {df_final.count()} rows and {len(df_final.columns)} columns\")\n",
    "df_final.printSchema()"
   ]
  },
  {
   "cell_type": "code",
   "execution_count": 5,
   "id": "c639c745-2bda-4375-8685-05b5b69394fd",
   "metadata": {
    "execution": {
     "iopub.execute_input": "2025-03-13T18:13:02.541482Z",
     "iopub.status.busy": "2025-03-13T18:13:02.541246Z",
     "iopub.status.idle": "2025-03-13T18:13:02.822705Z",
     "shell.execute_reply": "2025-03-13T18:13:02.821738Z",
     "shell.execute_reply.started": "2025-03-13T18:13:02.541457Z"
    },
    "tags": []
   },
   "outputs": [
    {
     "data": {
      "application/vnd.jupyter.widget-view+json": {
       "model_id": "413cad9ec1934511bd8dd81211acde8a",
       "version_major": 2,
       "version_minor": 0
      },
      "text/plain": [
       "VBox()"
      ]
     },
     "metadata": {},
     "output_type": "display_data"
    },
    {
     "data": {
      "application/vnd.jupyter.widget-view+json": {
       "model_id": "",
       "version_major": 2,
       "version_minor": 0
      },
      "text/plain": [
       "FloatProgress(value=0.0, bar_style='info', description='Progress:', layout=Layout(height='25px', width='50%'),…"
      ]
     },
     "metadata": {},
     "output_type": "display_data"
    }
   ],
   "source": [
    "# Set up AWS credentials for Athena and S3. \n",
    "# If you set up AWS credentials for Athena or S3, you don't need to define them again for S3 access in the same session. The boto3 library will use the same credentials for all AWS services by default.\n",
    "# Need to re-configure credentials each time we start a new aws session\n",
    "import boto3\n",
    "\n",
    "# Configure Athena client with credentials\n"
   ]
  },
  {
   "cell_type": "code",
   "execution_count": 6,
   "id": "5a8c0504-7dc4-4b68-b9fb-285efb9b8184",
   "metadata": {
    "execution": {
     "iopub.execute_input": "2025-03-13T18:13:06.842439Z",
     "iopub.status.busy": "2025-03-13T18:13:06.842179Z",
     "iopub.status.idle": "2025-03-13T18:13:06.914687Z",
     "shell.execute_reply": "2025-03-13T18:13:06.913764Z",
     "shell.execute_reply.started": "2025-03-13T18:13:06.842400Z"
    },
    "tags": []
   },
   "outputs": [
    {
     "data": {
      "application/vnd.jupyter.widget-view+json": {
       "model_id": "f3fe1b3c4df84e69b8c0ded93e63daa5",
       "version_major": 2,
       "version_minor": 0
      },
      "text/plain": [
       "VBox()"
      ]
     },
     "metadata": {},
     "output_type": "display_data"
    },
    {
     "data": {
      "application/vnd.jupyter.widget-view+json": {
       "model_id": "",
       "version_major": 2,
       "version_minor": 0
      },
      "text/plain": [
       "FloatProgress(value=0.0, bar_style='info', description='Progress:', layout=Layout(height='25px', width='50%'),…"
      ]
     },
     "metadata": {},
     "output_type": "display_data"
    }
   ],
   "source": [
    "# define a function to run Athena queries, specifying which Athena database to use, where to save query results (in S3). \n",
    "import time\n",
    "\n",
    "def run_athena_query(query, athena_client, database, s3_output):\n",
    "    \"\"\"\n",
    "    Execute a query against Athena and wait for it to complete\n",
    "    \n",
    "    Parameters:\n",
    "    query (str): SQL query to execute\n",
    "    athena_client: Boto3 Athena client\n",
    "    database (str): Athena database name\n",
    "    s3_output (str): S3 location for query results\n",
    "    \n",
    "    Returns:\n",
    "    str: Query execution ID\n",
    "    \"\"\"\n",
    "    # Start the query execution\n",
    "    response = athena_client.start_query_execution(\n",
    "        QueryString=query,\n",
    "        QueryExecutionContext={'Database': database},\n",
    "        ResultConfiguration={'OutputLocation': s3_output}\n",
    "    )\n",
    "    \n",
    "    query_execution_id = response['QueryExecutionId']\n",
    "    \n",
    "    # Wait for query to complete\n",
    "    state = 'RUNNING'\n",
    "    while state in ['RUNNING', 'QUEUED']:\n",
    "        response = athena_client.get_query_execution(QueryExecutionId=query_execution_id)\n",
    "        state = response['QueryExecution']['Status']['State']\n",
    "        \n",
    "        if state == 'FAILED':\n",
    "            error_message = response['QueryExecution']['Status'].get('StateChangeReason', 'Query failed')\n",
    "            raise Exception(f\"Query failed: {error_message}\")\n",
    "        \n",
    "        if state == 'SUCCEEDED':\n",
    "            break\n",
    "            \n",
    "        time.sleep(1)  # Wait 1 second before checking again\n",
    "    \n",
    "    return query_execution_id\n",
    "\n"
   ]
  },
  {
   "cell_type": "code",
   "execution_count": 7,
   "id": "43ab811e-c169-4dbd-8bc9-63440e9d1b27",
   "metadata": {
    "execution": {
     "iopub.execute_input": "2025-03-13T18:13:09.583887Z",
     "iopub.status.busy": "2025-03-13T18:13:09.583614Z",
     "iopub.status.idle": "2025-03-13T18:13:09.659215Z",
     "shell.execute_reply": "2025-03-13T18:13:09.658166Z",
     "shell.execute_reply.started": "2025-03-13T18:13:09.583853Z"
    },
    "tags": []
   },
   "outputs": [
    {
     "data": {
      "application/vnd.jupyter.widget-view+json": {
       "model_id": "e4b84ccd5c2a4f108b19d4f7435d0c79",
       "version_major": 2,
       "version_minor": 0
      },
      "text/plain": [
       "VBox()"
      ]
     },
     "metadata": {},
     "output_type": "display_data"
    },
    {
     "data": {
      "application/vnd.jupyter.widget-view+json": {
       "model_id": "",
       "version_major": 2,
       "version_minor": 0
      },
      "text/plain": [
       "FloatProgress(value=0.0, bar_style='info', description='Progress:', layout=Layout(height='25px', width='50%'),…"
      ]
     },
     "metadata": {},
     "output_type": "display_data"
    }
   ],
   "source": [
    "# now we have to set up the query parameters \n",
    "database = 'credit_risk_db'  # This will be passed as the 'database' parameter\n",
    "output_location = 's3://credit-risk-analysis-final-project/athena-results/'  # This will be passed as the 's3_output' parameter\n",
    "table_name = 'credit_risk_data_arrays'  # This is used to build the query"
   ]
  },
  {
   "cell_type": "code",
   "execution_count": 8,
   "id": "f3d2f0dc-f947-43a1-8ba5-b78aa3a81c7d",
   "metadata": {
    "execution": {
     "iopub.execute_input": "2025-03-13T18:13:14.063429Z",
     "iopub.status.busy": "2025-03-13T18:13:14.063086Z",
     "iopub.status.idle": "2025-03-13T18:13:19.454007Z",
     "shell.execute_reply": "2025-03-13T18:13:19.451701Z",
     "shell.execute_reply.started": "2025-03-13T18:13:14.063387Z"
    },
    "tags": []
   },
   "outputs": [
    {
     "data": {
      "application/vnd.jupyter.widget-view+json": {
       "model_id": "c733a7edd80242e08020baeb7b1a706c",
       "version_major": 2,
       "version_minor": 0
      },
      "text/plain": [
       "VBox()"
      ]
     },
     "metadata": {},
     "output_type": "display_data"
    },
    {
     "data": {
      "application/vnd.jupyter.widget-view+json": {
       "model_id": "",
       "version_major": 2,
       "version_minor": 0
      },
      "text/plain": [
       "FloatProgress(value=0.0, bar_style='info', description='Progress:', layout=Layout(height='25px', width='50%'),…"
      ]
     },
     "metadata": {},
     "output_type": "display_data"
    },
    {
     "name": "stdout",
     "output_type": "stream",
     "text": [
      "Querying full dataset from Athena...\n",
      "Query completed. Execution ID: b32dd8e9-055b-4659-8bf9-2f9c6f5a9c74"
     ]
    }
   ],
   "source": [
    "# Defining a SQL query to extract the data I need from Athena\n",
    "# Query to select data for machine learning: Select all the data\n",
    "full_query = f\"SELECT * FROM {table_name}\"\n",
    "\n",
    "\n",
    "# Execute the query\n",
    "print(\"Querying full dataset from Athena...\")\n",
    "query_execution_id = run_athena_query(full_query, athena_client, database, output_location)\n",
    "print(f\"Query completed. Execution ID: {query_execution_id}\")"
   ]
  },
  {
   "cell_type": "code",
   "execution_count": 9,
   "id": "3f5a2970-93f6-4c9e-8c89-10ace350f995",
   "metadata": {
    "execution": {
     "iopub.execute_input": "2025-03-13T18:13:23.280480Z",
     "iopub.status.busy": "2025-03-13T18:13:23.280240Z",
     "iopub.status.idle": "2025-03-13T18:13:34.616811Z",
     "shell.execute_reply": "2025-03-13T18:13:34.615859Z",
     "shell.execute_reply.started": "2025-03-13T18:13:23.280446Z"
    },
    "tags": []
   },
   "outputs": [
    {
     "data": {
      "application/vnd.jupyter.widget-view+json": {
       "model_id": "8af2ed709da24d06a1391472ee44092c",
       "version_major": 2,
       "version_minor": 0
      },
      "text/plain": [
       "VBox()"
      ]
     },
     "metadata": {},
     "output_type": "display_data"
    },
    {
     "data": {
      "application/vnd.jupyter.widget-view+json": {
       "model_id": "",
       "version_major": 2,
       "version_minor": 0
      },
      "text/plain": [
       "FloatProgress(value=0.0, bar_style='info', description='Progress:', layout=Layout(height='25px', width='50%'),…"
      ]
     },
     "metadata": {},
     "output_type": "display_data"
    },
    {
     "name": "stdout",
     "output_type": "stream",
     "text": [
      "Loading query results into Spark...\n",
      "Loaded 270606 rows with 22 columns\n",
      "root\n",
      " |-- loan_amnt: double (nullable = true)\n",
      " |-- funded_amnt: double (nullable = true)\n",
      " |-- funded_amnt_inv: double (nullable = true)\n",
      " |-- int_rate: double (nullable = true)\n",
      " |-- installment: double (nullable = true)\n",
      " |-- annual_inc: double (nullable = true)\n",
      " |-- dti: double (nullable = true)\n",
      " |-- delinq_2yrs: double (nullable = true)\n",
      " |-- inq_last_6mths: double (nullable = true)\n",
      " |-- open_acc: double (nullable = true)\n",
      " |-- pub_rec: double (nullable = true)\n",
      " |-- revol_bal: double (nullable = true)\n",
      " |-- revol_util: double (nullable = true)\n",
      " |-- total_acc: double (nullable = true)\n",
      " |-- loan_status_binary: integer (nullable = true)\n",
      " |-- term_numeric: integer (nullable = true)\n",
      " |-- credit_history_length: double (nullable = true)\n",
      " |-- grade_encoded_array: string (nullable = true)\n",
      " |-- emp_length_encoded_array: string (nullable = true)\n",
      " |-- home_ownership_encoded_array: string (nullable = true)\n",
      " |-- verification_status_encoded_array: string (nullable = true)\n",
      " |-- purpose_encoded_array: string (nullable = true)"
     ]
    }
   ],
   "source": [
    "# Retrieve the results from S3\n",
    "# Create S3 client with your credentials\n",
    "#s3_client = boto3.client('s3',\n",
    "    #aws_access_key_id='your_access_key_id',  # your access key\n",
    "    #aws_secret_access_key='your_aws_secret_access_key',  # your secret access key\n",
    "    #aws_session_token='your_aws_session_key',\n",
    "    #region_name = 'us-east-1')\n",
    "\n",
    "# Get the S3 path to the query results\n",
    "results_path = f\"{output_location}{query_execution_id}.csv\"\n",
    "bucket_name = results_path.replace('s3://', '').split('/')[0]\n",
    "object_key = results_path.replace(f's3://{bucket_name}/', '')\n",
    "\n",
    "# Read the results directly into a Spark DataFrame\n",
    "print(\"Loading query results into Spark...\")\n",
    "data_path = f\"s3://{bucket_name}/{object_key}\"\n",
    "df = spark.read.csv(data_path, header=True, inferSchema=True)\n",
    "\n",
    "# Check the data\n",
    "print(f\"Loaded {df.count()} rows with {len(df.columns)} columns\")\n",
    "df.printSchema()\n",
    "\n",
    "# This reads your query results directly into a Spark DataFrame, which is more memory-efficient than loading into pandas"
   ]
  },
  {
   "cell_type": "code",
   "execution_count": 15,
   "id": "cf5e4431-47c7-4570-aadf-60826e0f67e1",
   "metadata": {
    "execution": {
     "iopub.execute_input": "2025-03-13T16:58:14.604149Z",
     "iopub.status.busy": "2025-03-13T16:58:14.603045Z",
     "iopub.status.idle": "2025-03-13T16:58:32.209191Z",
     "shell.execute_reply": "2025-03-13T16:58:32.208313Z",
     "shell.execute_reply.started": "2025-03-13T16:58:14.604089Z"
    },
    "tags": []
   },
   "outputs": [
    {
     "data": {
      "application/vnd.jupyter.widget-view+json": {
       "model_id": "880af7d4ec1540a2b8d79f4e3a859c7c",
       "version_major": 2,
       "version_minor": 0
      },
      "text/plain": [
       "VBox()"
      ]
     },
     "metadata": {},
     "output_type": "display_data"
    },
    {
     "data": {
      "application/vnd.jupyter.widget-view+json": {
       "model_id": "",
       "version_major": 2,
       "version_minor": 0
      },
      "text/plain": [
       "FloatProgress(value=0.0, bar_style='info', description='Progress:', layout=Layout(height='25px', width='50%'),…"
      ]
     },
     "metadata": {},
     "output_type": "display_data"
    },
    {
     "name": "stdout",
     "output_type": "stream",
     "text": [
      "root\n",
      " |-- loan_amnt: double (nullable = true)\n",
      " |-- funded_amnt: double (nullable = true)\n",
      " |-- funded_amnt_inv: double (nullable = true)\n",
      " |-- int_rate: double (nullable = true)\n",
      " |-- installment: double (nullable = true)\n",
      " |-- annual_inc: double (nullable = true)\n",
      " |-- dti: double (nullable = true)\n",
      " |-- delinq_2yrs: double (nullable = true)\n",
      " |-- inq_last_6mths: double (nullable = true)\n",
      " |-- open_acc: double (nullable = true)\n",
      " |-- pub_rec: double (nullable = true)\n",
      " |-- revol_bal: double (nullable = true)\n",
      " |-- revol_util: double (nullable = true)\n",
      " |-- total_acc: double (nullable = true)\n",
      " |-- loan_status_binary: integer (nullable = true)\n",
      " |-- term_numeric: integer (nullable = true)\n",
      " |-- credit_history_length: double (nullable = true)\n",
      " |-- grade_encoded_array: string (nullable = true)\n",
      " |-- emp_length_encoded_array: string (nullable = true)\n",
      " |-- home_ownership_encoded_array: string (nullable = true)\n",
      " |-- verification_status_encoded_array: string (nullable = true)\n",
      " |-- purpose_encoded_array: string (nullable = true)\n",
      "\n",
      "+---------+-----------+---------------+--------+-----------+----------+-----+-----------+--------------+--------+-------+---------+----------+---------+------------------+------------+---------------------+--------------------+------------------------+----------------------------+---------------------------------+---------------------+\n",
      "|loan_amnt|funded_amnt|funded_amnt_inv|int_rate|installment|annual_inc|  dti|delinq_2yrs|inq_last_6mths|open_acc|pub_rec|revol_bal|revol_util|total_acc|loan_status_binary|term_numeric|credit_history_length| grade_encoded_array|emp_length_encoded_array|home_ownership_encoded_array|verification_status_encoded_array|purpose_encoded_array|\n",
      "+---------+-----------+---------------+--------+-----------+----------+-----+-----------+--------------+--------+-------+---------+----------+---------+------------------+------------+---------------------+--------------------+------------------------+----------------------------+---------------------------------+---------------------+\n",
      "|   7000.0|     7000.0|         7000.0|    8.18|     219.94|   60000.0|12.54|        0.0|           0.0|     8.0|    0.0|   5290.0|      46.0|     26.0|                 0|          36|   25.169062286105408|[1.0, 0.0, 0.0, 0...|    [0.0, 1.0, 0.0, 0...|        [1.0, 0.0, 0.0, 0.0]|                  [0.0, 0.0, 1.0]| [1.0, 0.0, 0.0, 0.0]|\n",
      "|  16500.0|    16500.0|        16500.0|    18.2|     598.18|   33000.0|12.97|        0.0|           0.0|     6.0|    0.0|   8842.0|      98.2|     14.0|                 0|          36|   40.837782340862425|[0.0, 0.0, 0.0, 0...|    [0.0, 0.0, 0.0, 0...|        [1.0, 0.0, 0.0, 0.0]|                  [1.0, 0.0, 0.0]| [1.0, 0.0, 0.0, 0.0]|\n",
      "|  35000.0|    35000.0|        35000.0|   13.67|    1190.62|   91000.0| 3.81|        0.0|           0.0|    12.0|    0.0|   4434.0|      19.7|     19.0|                 0|          36|    28.58590006844627|[0.0, 1.0, 0.0, 0...|    [1.0, 0.0, 0.0, 0...|        [1.0, 0.0, 0.0, 0.0]|                  [1.0, 0.0, 0.0]| [0.0, 0.0, 0.0, 1.0]|\n",
      "|  15000.0|    15000.0|        15000.0|   12.59|     338.16|   90000.0|24.07|        0.0|           0.0|     6.0|    0.0|  10983.0|      78.4|     18.0|                 0|          60|   20.917180013689254|[0.0, 1.0, 0.0, 0...|    [1.0, 0.0, 0.0, 0...|        [1.0, 0.0, 0.0, 0.0]|                  [0.0, 1.0, 0.0]| [0.0, 0.0, 0.0, 1.0]|\n",
      "|   5000.0|     5000.0|         5000.0|   14.33|      171.7|   35000.0|27.26|        0.0|           2.0|    15.0|    1.0|   6240.0|      38.3|     28.0|                 1|          36|   26.420260095824776|[0.0, 1.0, 0.0, 0...|    [0.0, 1.0, 0.0, 0...|        [1.0, 0.0, 0.0, 0.0]|                  [0.0, 0.0, 1.0]| [0.0, 1.0, 0.0, 0.0]|\n",
      "+---------+-----------+---------------+--------+-----------+----------+-----+-----------+--------------+--------+-------+---------+----------+---------+------------------+------------+---------------------+--------------------+------------------------+----------------------------+---------------------------------+---------------------+\n",
      "only showing top 5 rows\n",
      "\n",
      "Total rows: 270606\n",
      "Class distribution:\n",
      "+------------------+------+\n",
      "|loan_status_binary| count|\n",
      "+------------------+------+\n",
      "|                 1| 61130|\n",
      "|                 0|209476|\n",
      "+------------------+------+"
     ]
    }
   ],
   "source": [
    "# examining our schema to understand the data\n",
    "df.printSchema()\n",
    "\n",
    "# show a sample of the data (first 5 rows)\n",
    "df.show(5)\n",
    "\n",
    "# checking the row and count distribution of target variable loan_status_binary\n",
    "print(f\"Total rows: {df.count()}\")\n",
    "print(\"Class distribution:\")\n",
    "df.groupBy(\"loan_status_binary\").count().show()"
   ]
  },
  {
   "cell_type": "code",
   "execution_count": 12,
   "id": "72556094-416a-46d5-bedc-c48c0193f2c8",
   "metadata": {
    "execution": {
     "iopub.execute_input": "2025-03-13T18:15:53.490280Z",
     "iopub.status.busy": "2025-03-13T18:15:53.490045Z",
     "iopub.status.idle": "2025-03-13T18:16:22.866200Z",
     "shell.execute_reply": "2025-03-13T18:16:22.865055Z",
     "shell.execute_reply.started": "2025-03-13T18:15:53.490254Z"
    },
    "tags": []
   },
   "outputs": [
    {
     "data": {
      "application/vnd.jupyter.widget-view+json": {
       "model_id": "c921533108d64d3b8e6c1bd5a2c83ae5",
       "version_major": 2,
       "version_minor": 0
      },
      "text/plain": [
       "VBox()"
      ]
     },
     "metadata": {},
     "output_type": "display_data"
    },
    {
     "data": {
      "application/vnd.jupyter.widget-view+json": {
       "model_id": "",
       "version_major": 2,
       "version_minor": 0
      },
      "text/plain": [
       "FloatProgress(value=0.0, bar_style='info', description='Progress:', layout=Layout(height='25px', width='50%'),…"
      ]
     },
     "metadata": {},
     "output_type": "display_data"
    },
    {
     "name": "stdout",
     "output_type": "stream",
     "text": [
      "Verification: Checking processed columns\n",
      "Vector column type: <class 'pyspark.ml.linalg.DenseVector'>\n",
      "Array processing complete"
     ]
    }
   ],
   "source": [
    "# Check and process the array columns (for our categorical variables)\n",
    "# First checks the format of the array columns. Converts them into actual python arrays, then converts them to vectors for ML processing. \n",
    "import ast\n",
    "from pyspark.sql.functions import udf\n",
    "from pyspark.ml.linalg import Vectors, VectorUDT\n",
    "from pyspark.sql.types import ArrayType, DoubleType\n",
    "\n",
    "# Define the array columns\n",
    "array_cols = ['grade_encoded_array', 'emp_length_encoded_array', 'home_ownership_encoded_array',\n",
    "              'verification_status_encoded_array', 'purpose_encoded_array']\n",
    "\n",
    "# First, convert strings to actual arrays with a UDF\n",
    "def parse_array_string(s):\n",
    "    if isinstance(s, str):\n",
    "        try:\n",
    "            return ast.literal_eval(s)\n",
    "        except:\n",
    "            return []\n",
    "    return s\n",
    "\n",
    "# Register UDF for string to array conversion\n",
    "parse_array_udf = udf(parse_array_string, ArrayType(DoubleType()))\n",
    "\n",
    "# Apply string to array conversion\n",
    "for array_col in array_cols:\n",
    "    df = df.withColumn(array_col, parse_array_udf(df[array_col]))\n",
    "\n",
    "# Now convert arrays to vectors\n",
    "array_to_vector = udf(lambda arr: Vectors.dense(arr) if arr else Vectors.dense([0.0]), VectorUDT())\n",
    "\n",
    "# Apply the array to vector UDF\n",
    "for array_col in array_cols:\n",
    "    df = df.withColumn(\n",
    "        f\"{array_col}_vec\",\n",
    "        array_to_vector(df[array_col])\n",
    "    )\n",
    "\n",
    "# Verify conversion worked\n",
    "print(\"Verification: Checking processed columns\")\n",
    "sample_vec_col = df.select(f\"{array_cols[0]}_vec\").first()\n",
    "print(f\"Vector column type: {type(sample_vec_col[0])}\")\n",
    "print(\"Array processing complete\")"
   ]
  },
  {
   "cell_type": "code",
   "execution_count": 14,
   "id": "6a259973-fcd6-42b2-8b72-f59711b798b5",
   "metadata": {
    "execution": {
     "iopub.execute_input": "2025-03-13T18:17:28.480395Z",
     "iopub.status.busy": "2025-03-13T18:17:28.480154Z",
     "iopub.status.idle": "2025-03-13T18:18:28.161187Z",
     "shell.execute_reply": "2025-03-13T18:18:28.160430Z",
     "shell.execute_reply.started": "2025-03-13T18:17:28.480367Z"
    },
    "tags": []
   },
   "outputs": [
    {
     "data": {
      "application/vnd.jupyter.widget-view+json": {
       "model_id": "73df29898c4b4aa7a0440ac996489d29",
       "version_major": 2,
       "version_minor": 0
      },
      "text/plain": [
       "VBox()"
      ]
     },
     "metadata": {},
     "output_type": "display_data"
    },
    {
     "data": {
      "application/vnd.jupyter.widget-view+json": {
       "model_id": "",
       "version_major": 2,
       "version_minor": 0
      },
      "text/plain": [
       "FloatProgress(value=0.0, bar_style='info', description='Progress:', layout=Layout(height='25px', width='50%'),…"
      ]
     },
     "metadata": {},
     "output_type": "display_data"
    },
    {
     "name": "stdout",
     "output_type": "stream",
     "text": [
      "Standardized 16 numeric features"
     ]
    }
   ],
   "source": [
    "# 1. we need to identify and standardize our numeric features\n",
    "\n",
    "from pyspark.ml.feature import StandardScaler, VectorAssembler\n",
    "from pyspark.ml import Pipeline\n",
    "\n",
    "# Define numeric columns\n",
    "numeric_cols = ['loan_amnt', 'funded_amnt', 'funded_amnt_inv', 'int_rate', 'installment', \n",
    "                'annual_inc', 'dti', 'delinq_2yrs', 'inq_last_6mths', 'open_acc', \n",
    "                'pub_rec', 'revol_bal', 'revol_util', 'total_acc', 'term_numeric', \n",
    "                'credit_history_length']\n",
    "\n",
    "# Create standardization pipeline for each numeric column\n",
    "standardizers = []\n",
    "scaled_cols = []\n",
    "\n",
    "for num_col in numeric_cols:\n",
    "    # Create a unique suffix for each column to avoid conflicts\n",
    "    import uuid\n",
    "    suffix = uuid.uuid4().hex[:4]\n",
    "    \n",
    "    vec_col = f\"{num_col}_vec_{suffix}\"\n",
    "    scaled_col = f\"{num_col}_scaled_{suffix}\"\n",
    "    \n",
    "    # Create vector assembler for this column\n",
    "    assembler = VectorAssembler(\n",
    "        inputCols=[num_col],\n",
    "        outputCol=vec_col,\n",
    "        handleInvalid=\"skip\"\n",
    "    )\n",
    "    \n",
    "    # Create scaler for this column\n",
    "    scaler = StandardScaler(\n",
    "        inputCol=vec_col,\n",
    "        outputCol=scaled_col,\n",
    "        withStd=True,\n",
    "        withMean=True\n",
    "    )\n",
    "    \n",
    "    standardizers.extend([assembler, scaler])\n",
    "    scaled_cols.append(scaled_col)\n",
    "\n",
    "# Apply standardization pipeline\n",
    "standardize_pipeline = Pipeline(stages=standardizers)\n",
    "scaler_model = standardize_pipeline.fit(df)\n",
    "df_scaled = scaler_model.transform(df)\n",
    "\n",
    "print(f\"Standardized {len(numeric_cols)} numeric features\")"
   ]
  },
  {
   "cell_type": "code",
   "execution_count": 18,
   "id": "809c0104-65b9-4ef0-8e6d-6a86520c9af8",
   "metadata": {
    "execution": {
     "iopub.execute_input": "2025-03-13T18:43:02.072485Z",
     "iopub.status.busy": "2025-03-13T18:43:02.072254Z",
     "iopub.status.idle": "2025-03-13T18:45:13.787760Z",
     "shell.execute_reply": "2025-03-13T18:45:13.787059Z",
     "shell.execute_reply.started": "2025-03-13T18:43:02.072458Z"
    },
    "tags": []
   },
   "outputs": [
    {
     "data": {
      "application/vnd.jupyter.widget-view+json": {
       "model_id": "1cfb93ad5dd643e0984e3986a23b90a4",
       "version_major": 2,
       "version_minor": 0
      },
      "text/plain": [
       "VBox()"
      ]
     },
     "metadata": {},
     "output_type": "display_data"
    },
    {
     "data": {
      "application/vnd.jupyter.widget-view+json": {
       "model_id": "",
       "version_major": 2,
       "version_minor": 0
      },
      "text/plain": [
       "FloatProgress(value=0.0, bar_style='info', description='Progress:', layout=Layout(height='25px', width='50%'),…"
      ]
     },
     "metadata": {},
     "output_type": "display_data"
    },
    {
     "name": "stdout",
     "output_type": "stream",
     "text": [
      "Rechecking class balance...\n",
      "Class 1: 48804 rows (22.56%)\n",
      "Class 0: 167506 rows (77.44%)\n",
      "Imbalance ratio: 3.43:1\n",
      "Applied weights: {0: 1.0, 1: 3.4322186706007702}"
     ]
    }
   ],
   "source": [
    "# Recalculate class distribution for train_df\n",
    "from pyspark.sql.functions import when, col\n",
    "\n",
    "print(\"Rechecking class balance...\")\n",
    "class_counts = train_df.groupBy(\"loan_status_binary\").count().collect()\n",
    "total_count = sum(row[\"count\"] for row in class_counts)\n",
    "\n",
    "for row in class_counts:\n",
    "    label = row[\"loan_status_binary\"]\n",
    "    count = row[\"count\"]\n",
    "    percentage = (count / total_count) * 100\n",
    "    print(f\"Class {label}: {count} rows ({percentage:.2f}%)\")\n",
    "\n",
    "# Determine if there's significant imbalance\n",
    "majority_class = max(class_counts, key=lambda x: x[\"count\"])\n",
    "minority_class = min(class_counts, key=lambda x: x[\"count\"])\n",
    "imbalance_ratio = majority_class[\"count\"] / minority_class[\"count\"]\n",
    "print(f\"Imbalance ratio: {imbalance_ratio:.2f}:1\")\n",
    "\n",
    "# Set weights inversely proportional to class frequencies\n",
    "weights = {\n",
    "    majority_class[\"loan_status_binary\"]: 1.0,\n",
    "    minority_class[\"loan_status_binary\"]: imbalance_ratio\n",
    "}\n",
    "\n",
    "# Now add class weights to train and test sets\n",
    "train_df = train_df.withColumn(\n",
    "    \"classWeight\",\n",
    "    when(col(\"loan_status_binary\") == majority_class[\"loan_status_binary\"], \n",
    "         weights[majority_class[\"loan_status_binary\"]])\n",
    "    .otherwise(weights[minority_class[\"loan_status_binary\"]])\n",
    ")\n",
    "\n",
    "test_df = test_df.withColumn(\n",
    "    \"classWeight\",\n",
    "    when(col(\"loan_status_binary\") == majority_class[\"loan_status_binary\"], \n",
    "         weights[majority_class[\"loan_status_binary\"]])\n",
    "    .otherwise(weights[minority_class[\"loan_status_binary\"]])\n",
    ")\n",
    "\n",
    "print(f\"Applied weights: {weights}\")\n",
    "\n"
   ]
  },
  {
   "cell_type": "code",
   "execution_count": 23,
   "id": "7d4a2db7-3d4c-438a-9a9a-2e85ca2913d2",
   "metadata": {
    "execution": {
     "iopub.execute_input": "2025-03-13T18:55:50.170818Z",
     "iopub.status.busy": "2025-03-13T18:55:50.170568Z",
     "iopub.status.idle": "2025-03-13T19:00:34.429226Z",
     "shell.execute_reply": "2025-03-13T19:00:34.428268Z",
     "shell.execute_reply.started": "2025-03-13T18:55:50.170790Z"
    },
    "tags": []
   },
   "outputs": [
    {
     "data": {
      "application/vnd.jupyter.widget-view+json": {
       "model_id": "56f4ac9ef7d444e584b4f2249cdc383f",
       "version_major": 2,
       "version_minor": 0
      },
      "text/plain": [
       "VBox()"
      ]
     },
     "metadata": {},
     "output_type": "display_data"
    },
    {
     "data": {
      "application/vnd.jupyter.widget-view+json": {
       "model_id": "",
       "version_major": 2,
       "version_minor": 0
      },
      "text/plain": [
       "FloatProgress(value=0.0, bar_style='info', description='Progress:', layout=Layout(height='25px', width='50%'),…"
      ]
     },
     "metadata": {},
     "output_type": "display_data"
    },
    {
     "name": "stdout",
     "output_type": "stream",
     "text": [
      "Training set: 216260 rows\n",
      "Test set: 54125 rows\n",
      "Added class weights: majority(0)=1.0, minority(1)=3.44\n",
      "'classWeight' in train_df columns: True"
     ]
    }
   ],
   "source": [
    "# Preparing final features for machine learning\n",
    "# Combines both my \"scaledNumericFeatures\" which is a single vector containing all of my standardized numeric features combined in step 5, and combines it with \"vector_cols\" which are my one-hot encoded categorical features. \n",
    "# VectorAssembler combines the multiple feature columns into a single vector called \"features\", which is required as Spark ML algos expect all features to be in a single vector column. \n",
    "# VectorAssembler then gets applied to our dataframe, creating the final \"features\" column that contains the complete feature vector for each row. Now each row has original data columns, intermediate processed columns, and a unified \"features\" column that the ML algorithms will use.\n",
    "from pyspark.ml.feature import VectorAssembler\n",
    "from pyspark.sql.functions import col\n",
    "\n",
    "# Prepare feature vector from standardized numeric features and vector columns\n",
    "vector_cols = [f\"{col}_vec\" for col in array_cols]\n",
    "\n",
    "# Combine standardized numeric features with categorical vectors\n",
    "feature_cols = scaled_cols + vector_cols\n",
    "\n",
    "# Create final feature vector\n",
    "final_assembler = VectorAssembler(\n",
    "    inputCols=feature_cols,\n",
    "    outputCol=\"features\",\n",
    "    handleInvalid=\"skip\"\n",
    ")\n",
    "\n",
    "# Apply assembler\n",
    "ml_ready_df = final_assembler.transform(df_scaled)\n",
    "\n",
    "# Split data\n",
    "train_df, test_df = ml_ready_df.randomSplit([0.8, 0.2], seed=42)\n",
    "print(f\"Training set: {train_df.count()} rows\")\n",
    "print(f\"Test set: {test_df.count()} rows\")\n",
    "\n",
    "# Add weights directly to train_df and test_df\n",
    "from pyspark.sql.functions import when, col, lit\n",
    "\n",
    "# Calculate class distribution\n",
    "class_counts = train_df.groupBy(\"loan_status_binary\").count().collect()\n",
    "\n",
    "# Get majority and minority classes\n",
    "majority_class = max(class_counts, key=lambda x: x[\"count\"])[\"loan_status_binary\"]\n",
    "minority_class = min(class_counts, key=lambda x: x[\"count\"])[\"loan_status_binary\"]\n",
    "imbalance_ratio = max(row[\"count\"] for row in class_counts) / min(row[\"count\"] for row in class_counts)\n",
    "\n",
    "# Add classWeight column\n",
    "train_df = train_df.withColumn(\n",
    "    \"classWeight\", \n",
    "    when(col(\"loan_status_binary\") == majority_class, 1.0)\n",
    "    .otherwise(imbalance_ratio)\n",
    ")\n",
    "\n",
    "test_df = test_df.withColumn(\n",
    "    \"classWeight\", \n",
    "    when(col(\"loan_status_binary\") == majority_class, 1.0)\n",
    "    .otherwise(imbalance_ratio)\n",
    ")\n",
    "\n",
    "# Verify the column was added\n",
    "print(f\"Added class weights: majority({majority_class})=1.0, minority({minority_class})={imbalance_ratio:.2f}\")\n",
    "print(\"'classWeight' in train_df columns:\", 'classWeight' in train_df.columns)"
   ]
  },
  {
   "cell_type": "code",
   "execution_count": 24,
   "id": "4dd5b3ff-a155-40f5-902b-942daf9b780e",
   "metadata": {
    "execution": {
     "iopub.execute_input": "2025-03-13T19:00:52.710254Z",
     "iopub.status.busy": "2025-03-13T19:00:52.709998Z",
     "iopub.status.idle": "2025-03-13T19:07:23.288582Z",
     "shell.execute_reply": "2025-03-13T19:07:23.287865Z",
     "shell.execute_reply.started": "2025-03-13T19:00:52.710226Z"
    },
    "tags": []
   },
   "outputs": [
    {
     "data": {
      "application/vnd.jupyter.widget-view+json": {
       "model_id": "e6e8c8d297e44ceeb418d070ccc79c06",
       "version_major": 2,
       "version_minor": 0
      },
      "text/plain": [
       "VBox()"
      ]
     },
     "metadata": {},
     "output_type": "display_data"
    },
    {
     "data": {
      "application/vnd.jupyter.widget-view+json": {
       "model_id": "",
       "version_major": 2,
       "version_minor": 0
      },
      "text/plain": [
       "FloatProgress(value=0.0, bar_style='info', description='Progress:', layout=Layout(height='25px', width='50%'),…"
      ]
     },
     "metadata": {},
     "output_type": "display_data"
    },
    {
     "name": "stdout",
     "output_type": "stream",
     "text": [
      "Training Random Forest model...\n",
      "Model training and prediction complete"
     ]
    }
   ],
   "source": [
    "# Train a random forest model\n",
    "# For credit risk analysis, decided on Random Forest because it handles non-linear relationships well, is robust to outliers, provides feature importance for interpretability, typically performs well on imbalanced datasets, and doesn't overfit easily when using the proper tuning\n",
    "\n",
    "from pyspark.ml.classification import RandomForestClassifier\n",
    "\n",
    "# Initialize Random Forest classifier\n",
    "rf = RandomForestClassifier(\n",
    "    labelCol=\"loan_status_binary\",\n",
    "    featuresCol=\"features\",\n",
    "    weightCol=\"classWeight\",\n",
    "    numTrees=100,\n",
    "    maxDepth=10,\n",
    "    impurity=\"gini\",\n",
    "    featureSubsetStrategy=\"sqrt\",\n",
    "    seed=42\n",
    ")\n",
    "\n",
    "# Train the model\n",
    "print(\"Training Random Forest model...\")\n",
    "model = rf.fit(train_df)\n",
    "\n",
    "# Make predictions on test set\n",
    "predictions = model.transform(test_df)\n",
    "print(\"Model training and prediction complete\")"
   ]
  },
  {
   "cell_type": "code",
   "execution_count": 25,
   "id": "8b86ac67-9aef-46a5-8d52-764198a9ac1a",
   "metadata": {
    "execution": {
     "iopub.execute_input": "2025-03-13T19:07:35.313160Z",
     "iopub.status.busy": "2025-03-13T19:07:35.312919Z",
     "iopub.status.idle": "2025-03-13T19:08:14.729249Z",
     "shell.execute_reply": "2025-03-13T19:08:14.727980Z",
     "shell.execute_reply.started": "2025-03-13T19:07:35.313134Z"
    },
    "tags": []
   },
   "outputs": [
    {
     "data": {
      "application/vnd.jupyter.widget-view+json": {
       "model_id": "331b838dd4fb456c9cd6192f7778533b",
       "version_major": 2,
       "version_minor": 0
      },
      "text/plain": [
       "VBox()"
      ]
     },
     "metadata": {},
     "output_type": "display_data"
    },
    {
     "data": {
      "application/vnd.jupyter.widget-view+json": {
       "model_id": "",
       "version_major": 2,
       "version_minor": 0
      },
      "text/plain": [
       "FloatProgress(value=0.0, bar_style='info', description='Progress:', layout=Layout(height='25px', width='50%'),…"
      ]
     },
     "metadata": {},
     "output_type": "display_data"
    },
    {
     "name": "stdout",
     "output_type": "stream",
     "text": [
      "\n",
      "Collecting matplotlib\n",
      "  Downloading matplotlib-3.9.4-cp39-cp39-manylinux_2_17_x86_64.manylinux2014_x86_64.whl (8.3 MB)\n",
      "Collecting contourpy>=1.0.1\n",
      "  Downloading contourpy-1.3.0-cp39-cp39-manylinux_2_17_x86_64.manylinux2014_x86_64.whl (321 kB)\n",
      "Requirement already satisfied: packaging>=20.0 in /usr/lib/python3.9/site-packages (from matplotlib) (21.3)\n",
      "Requirement already satisfied: numpy>=1.23 in ./tmp/spark-03ea0f55-d587-4b53-9f8b-c3666b686dd6/lib64/python3.9/site-packages (from matplotlib) (2.0.2)\n",
      "Requirement already satisfied: pyparsing>=2.3.1 in /usr/lib/python3.9/site-packages (from matplotlib) (2.4.7)\n",
      "Collecting cycler>=0.10\n",
      "  Downloading cycler-0.12.1-py3-none-any.whl (8.3 kB)\n",
      "Collecting fonttools>=4.22.0\n",
      "  Downloading fonttools-4.56.0-cp39-cp39-manylinux_2_17_x86_64.manylinux2014_x86_64.whl (4.6 MB)\n",
      "Collecting importlib-resources>=3.2.0\n",
      "  Downloading importlib_resources-6.5.2-py3-none-any.whl (37 kB)\n",
      "Collecting pillow>=8\n",
      "  Downloading pillow-11.1.0-cp39-cp39-manylinux_2_28_x86_64.whl (4.5 MB)\n",
      "Requirement already satisfied: python-dateutil>=2.7 in ./tmp/spark-03ea0f55-d587-4b53-9f8b-c3666b686dd6/lib/python3.9/site-packages (from matplotlib) (2.9.0.post0)\n",
      "Collecting kiwisolver>=1.3.1\n",
      "  Downloading kiwisolver-1.4.7-cp39-cp39-manylinux_2_12_x86_64.manylinux2010_x86_64.whl (1.6 MB)\n",
      "Collecting zipp>=3.1.0\n",
      "  Downloading zipp-3.21.0-py3-none-any.whl (9.6 kB)\n",
      "Requirement already satisfied: six>=1.5 in /usr/local/lib/python3.9/site-packages (from python-dateutil>=2.7->matplotlib) (1.13.0)\n",
      "Installing collected packages: zipp, pillow, kiwisolver, importlib-resources, fonttools, cycler, contourpy, matplotlib\n",
      "Successfully installed contourpy-1.3.0 cycler-0.12.1 fonttools-4.56.0 importlib-resources-6.5.2 kiwisolver-1.4.7 matplotlib-3.9.4 pillow-11.1.0 zipp-3.21.0\n",
      "\n",
      "Collecting scikit-learn\n",
      "  Downloading scikit_learn-1.6.1-cp39-cp39-manylinux_2_17_x86_64.manylinux2014_x86_64.whl (13.5 MB)\n",
      "Collecting scipy>=1.6.0\n",
      "  Downloading scipy-1.13.1-cp39-cp39-manylinux_2_17_x86_64.manylinux2014_x86_64.whl (38.6 MB)\n",
      "Collecting threadpoolctl>=3.1.0\n",
      "  Downloading threadpoolctl-3.6.0-py3-none-any.whl (18 kB)\n",
      "Requirement already satisfied: joblib>=1.2.0 in /usr/local/lib64/python3.9/site-packages (from scikit-learn) (1.4.2)\n",
      "Requirement already satisfied: numpy>=1.19.5 in ./tmp/spark-03ea0f55-d587-4b53-9f8b-c3666b686dd6/lib64/python3.9/site-packages (from scikit-learn) (2.0.2)\n",
      "Installing collected packages: threadpoolctl, scipy, scikit-learn\n",
      "Successfully installed scikit-learn-1.6.1 scipy-1.13.1 threadpoolctl-3.6.0\n",
      "\n",
      "Collecting seaborn\n",
      "  Downloading seaborn-0.13.2-py3-none-any.whl (294 kB)\n",
      "Requirement already satisfied: matplotlib!=3.6.1,>=3.4 in ./tmp/spark-03ea0f55-d587-4b53-9f8b-c3666b686dd6/lib64/python3.9/site-packages (from seaborn) (3.9.4)\n",
      "Requirement already satisfied: numpy!=1.24.0,>=1.20 in ./tmp/spark-03ea0f55-d587-4b53-9f8b-c3666b686dd6/lib64/python3.9/site-packages (from seaborn) (2.0.2)\n",
      "Requirement already satisfied: pandas>=1.2 in ./tmp/spark-03ea0f55-d587-4b53-9f8b-c3666b686dd6/lib64/python3.9/site-packages (from seaborn) (2.2.3)\n",
      "Requirement already satisfied: python-dateutil>=2.7 in ./tmp/spark-03ea0f55-d587-4b53-9f8b-c3666b686dd6/lib/python3.9/site-packages (from matplotlib!=3.6.1,>=3.4->seaborn) (2.9.0.post0)\n",
      "Requirement already satisfied: kiwisolver>=1.3.1 in ./tmp/spark-03ea0f55-d587-4b53-9f8b-c3666b686dd6/lib64/python3.9/site-packages (from matplotlib!=3.6.1,>=3.4->seaborn) (1.4.7)\n",
      "Requirement already satisfied: packaging>=20.0 in /usr/lib/python3.9/site-packages (from matplotlib!=3.6.1,>=3.4->seaborn) (21.3)\n",
      "Requirement already satisfied: cycler>=0.10 in ./tmp/spark-03ea0f55-d587-4b53-9f8b-c3666b686dd6/lib/python3.9/site-packages (from matplotlib!=3.6.1,>=3.4->seaborn) (0.12.1)\n",
      "Requirement already satisfied: importlib-resources>=3.2.0 in ./tmp/spark-03ea0f55-d587-4b53-9f8b-c3666b686dd6/lib/python3.9/site-packages (from matplotlib!=3.6.1,>=3.4->seaborn) (6.5.2)\n",
      "Requirement already satisfied: pyparsing>=2.3.1 in /usr/lib/python3.9/site-packages (from matplotlib!=3.6.1,>=3.4->seaborn) (2.4.7)\n",
      "Requirement already satisfied: fonttools>=4.22.0 in ./tmp/spark-03ea0f55-d587-4b53-9f8b-c3666b686dd6/lib64/python3.9/site-packages (from matplotlib!=3.6.1,>=3.4->seaborn) (4.56.0)\n",
      "Requirement already satisfied: contourpy>=1.0.1 in ./tmp/spark-03ea0f55-d587-4b53-9f8b-c3666b686dd6/lib64/python3.9/site-packages (from matplotlib!=3.6.1,>=3.4->seaborn) (1.3.0)\n",
      "Requirement already satisfied: pillow>=8 in ./tmp/spark-03ea0f55-d587-4b53-9f8b-c3666b686dd6/lib64/python3.9/site-packages (from matplotlib!=3.6.1,>=3.4->seaborn) (11.1.0)\n",
      "Requirement already satisfied: tzdata>=2022.7 in ./tmp/spark-03ea0f55-d587-4b53-9f8b-c3666b686dd6/lib/python3.9/site-packages (from pandas>=1.2->seaborn) (2025.1)\n",
      "Requirement already satisfied: pytz>=2020.1 in /usr/local/lib/python3.9/site-packages (from pandas>=1.2->seaborn) (2024.2)\n",
      "Requirement already satisfied: zipp>=3.1.0 in ./tmp/spark-03ea0f55-d587-4b53-9f8b-c3666b686dd6/lib/python3.9/site-packages (from importlib-resources>=3.2.0->matplotlib!=3.6.1,>=3.4->seaborn) (3.21.0)\n",
      "Requirement already satisfied: six>=1.5 in /usr/local/lib/python3.9/site-packages (from python-dateutil>=2.7->matplotlib!=3.6.1,>=3.4->seaborn) (1.13.0)\n",
      "Installing collected packages: seaborn\n",
      "Successfully installed seaborn-0.13.2\n",
      "\n",
      "WARNING: The directory '/home/.cache/pip' or its parent directory is not owned or is not writable by the current user. The cache has been disabled. Check the permissions and owner of that directory. If executing pip with sudo, you should use sudo's -H flag.\n",
      "ERROR: Could not find a version that satisfies the requirement python-detautil==2.8.2 (from versions: none)\n",
      "ERROR: No matching distribution found for python-detautil==2.8.2\n",
      "\n",
      "WARNING: The directory '/home/.cache/pip' or its parent directory is not owned or is not writable by the current user. The cache has been disabled. Check the permissions and owner of that directory. If executing pip with sudo, you should use sudo's -H flag.\n",
      "\n",
      "WARNING: The directory '/home/.cache/pip' or its parent directory is not owned or is not writable by the current user. The cache has been disabled. Check the permissions and owner of that directory. If executing pip with sudo, you should use sudo's -H flag.\n",
      "\n",
      "WARNING: The directory '/home/.cache/pip' or its parent directory is not owned or is not writable by the current user. The cache has been disabled. Check the permissions and owner of that directory. If executing pip with sudo, you should use sudo's -H flag."
     ]
    }
   ],
   "source": [
    "# # install packages for visualizations\n",
    "sc.install_pypi_package(\"python-detautil==2.8.2\")\n",
    "sc.install_pypi_package(\"matplotlib\")\n",
    "sc.install_pypi_package(\"scikit-learn\")\n",
    "sc.install_pypi_package(\"seaborn\")"
   ]
  },
  {
   "cell_type": "code",
   "execution_count": 26,
   "id": "ec5e3de5-fa9e-4a2a-8d08-7adb6996b7db",
   "metadata": {
    "execution": {
     "iopub.execute_input": "2025-03-13T19:08:25.162234Z",
     "iopub.status.busy": "2025-03-13T19:08:25.161999Z",
     "iopub.status.idle": "2025-03-13T19:13:37.585634Z",
     "shell.execute_reply": "2025-03-13T19:13:37.584743Z",
     "shell.execute_reply.started": "2025-03-13T19:08:25.162207Z"
    },
    "tags": []
   },
   "outputs": [
    {
     "data": {
      "application/vnd.jupyter.widget-view+json": {
       "model_id": "daec5b73b6b44b0380b7591f99b06da0",
       "version_major": 2,
       "version_minor": 0
      },
      "text/plain": [
       "VBox()"
      ]
     },
     "metadata": {},
     "output_type": "display_data"
    },
    {
     "data": {
      "application/vnd.jupyter.widget-view+json": {
       "model_id": "",
       "version_major": 2,
       "version_minor": 0
      },
      "text/plain": [
       "FloatProgress(value=0.0, bar_style='info', description='Progress:', layout=Layout(height='25px', width='50%'),…"
      ]
     },
     "metadata": {},
     "output_type": "display_data"
    },
    {
     "name": "stdout",
     "output_type": "stream",
     "text": [
      "\n",
      "Model Performance:\n",
      "ROC AUC: 0.7040\n",
      "PR AUC: 0.4021\n",
      "F1 Score: 0.6689\n",
      "Accuracy: 0.6404"
     ]
    }
   ],
   "source": [
    "# Evaluating the model \n",
    "\n",
    "from pyspark.ml.evaluation import BinaryClassificationEvaluator, MulticlassClassificationEvaluator\n",
    "\n",
    "# Set up evaluators\n",
    "roc_evaluator = BinaryClassificationEvaluator(\n",
    "    labelCol=\"loan_status_binary\", \n",
    "    rawPredictionCol=\"rawPrediction\",\n",
    "    metricName=\"areaUnderROC\"\n",
    ")\n",
    "\n",
    "pr_evaluator = BinaryClassificationEvaluator(\n",
    "    labelCol=\"loan_status_binary\", \n",
    "    rawPredictionCol=\"rawPrediction\",\n",
    "    metricName=\"areaUnderPR\"\n",
    ")\n",
    "\n",
    "f1_evaluator = MulticlassClassificationEvaluator(\n",
    "    labelCol=\"loan_status_binary\",\n",
    "    predictionCol=\"prediction\",\n",
    "    metricName=\"f1\"\n",
    ")\n",
    "\n",
    "accuracy_evaluator = MulticlassClassificationEvaluator(\n",
    "    labelCol=\"loan_status_binary\",\n",
    "    predictionCol=\"prediction\",\n",
    "    metricName=\"accuracy\"\n",
    ")\n",
    "\n",
    "# Calculate metrics\n",
    "roc_auc = roc_evaluator.evaluate(predictions)\n",
    "pr_auc = pr_evaluator.evaluate(predictions)\n",
    "f1 = f1_evaluator.evaluate(predictions)\n",
    "accuracy = accuracy_evaluator.evaluate(predictions)\n",
    "\n",
    "# Display results\n",
    "print(\"\\nModel Performance:\")\n",
    "print(f\"ROC AUC: {roc_auc:.4f}\")\n",
    "print(f\"PR AUC: {pr_auc:.4f}\")\n",
    "print(f\"F1 Score: {f1:.4f}\")\n",
    "print(f\"Accuracy: {accuracy:.4f}\")"
   ]
  },
  {
   "cell_type": "code",
   "execution_count": 57,
   "id": "a9b8fe31-41eb-4ccf-ac05-399a7597a884",
   "metadata": {
    "execution": {
     "iopub.execute_input": "2025-03-13T05:56:02.466439Z",
     "iopub.status.busy": "2025-03-13T05:56:02.465552Z",
     "iopub.status.idle": "2025-03-13T05:56:41.915778Z",
     "shell.execute_reply": "2025-03-13T05:56:41.915051Z",
     "shell.execute_reply.started": "2025-03-13T05:56:02.466397Z"
    },
    "tags": []
   },
   "outputs": [
    {
     "data": {
      "application/vnd.jupyter.widget-view+json": {
       "model_id": "2e3841d51f4442d9aca72c98b18244f3",
       "version_major": 2,
       "version_minor": 0
      },
      "text/plain": [
       "VBox()"
      ]
     },
     "metadata": {},
     "output_type": "display_data"
    },
    {
     "data": {
      "application/vnd.jupyter.widget-view+json": {
       "model_id": "",
       "version_major": 2,
       "version_minor": 0
      },
      "text/plain": [
       "FloatProgress(value=0.0, bar_style='info', description='Progress:', layout=Layout(height='25px', width='50%'),…"
      ]
     },
     "metadata": {},
     "output_type": "display_data"
    }
   ],
   "source": [
    "# Prepare data for visualizations\n",
    "\n",
    "import matplotlib.pyplot as plt\n",
    "import seaborn as sns\n",
    "import numpy as np\n",
    "import pandas as pd\n",
    "from sklearn.metrics import confusion_matrix, roc_curve, precision_recall_curve, auc\n",
    "\n",
    "# Select necessary columns and convert to pandas\n",
    "pred_pandas = predictions.select(\"loan_status_binary\", \"prediction\", \"probability\").toPandas()\n",
    "\n",
    "# Extract probability of class 1 (default)\n",
    "pred_pandas[\"probability_1\"] = pred_pandas[\"probability\"].apply(lambda x: float(x[1]))"
   ]
  },
  {
   "cell_type": "code",
   "execution_count": 58,
   "id": "58f5cfc4-6c2f-4cb2-ab8a-6ced49de2b71",
   "metadata": {
    "execution": {
     "iopub.execute_input": "2025-03-13T05:57:01.169643Z",
     "iopub.status.busy": "2025-03-13T05:57:01.169372Z",
     "iopub.status.idle": "2025-03-13T05:57:01.445613Z",
     "shell.execute_reply": "2025-03-13T05:57:01.444564Z",
     "shell.execute_reply.started": "2025-03-13T05:57:01.169615Z"
    },
    "tags": []
   },
   "outputs": [
    {
     "data": {
      "application/vnd.jupyter.widget-view+json": {
       "model_id": "967214c8d184425c862e903e6e25580d",
       "version_major": 2,
       "version_minor": 0
      },
      "text/plain": [
       "VBox()"
      ]
     },
     "metadata": {},
     "output_type": "display_data"
    },
    {
     "data": {
      "application/vnd.jupyter.widget-view+json": {
       "model_id": "",
       "version_major": 2,
       "version_minor": 0
      },
      "text/plain": [
       "FloatProgress(value=0.0, bar_style='info', description='Progress:', layout=Layout(height='25px', width='50%'),…"
      ]
     },
     "metadata": {},
     "output_type": "display_data"
    },
    {
     "data": {
      "image/png": "[encoded data removed]",
      "text/plain": [
       "<IPython.core.display.Image object>"
      ]
     },
     "metadata": {},
     "output_type": "display_data"
    }
   ],
   "source": [
    "# Confusion Matrix\n",
    "\n",
    "plt.figure(figsize=(10, 8))\n",
    "cm = confusion_matrix(pred_pandas[\"loan_status_binary\"], pred_pandas[\"prediction\"])\n",
    "cm_normalized = cm.astype('float') / cm.sum(axis=1)[:, np.newaxis]\n",
    "\n",
    "# Plot confusion matrix\n",
    "sns.heatmap(cm, annot=True, fmt=\"d\", cmap=\"Blues\", cbar=False)\n",
    "plt.title(\"Confusion Matrix\")\n",
    "plt.xlabel(\"Predicted Label\")\n",
    "plt.ylabel(\"True Label\")\n",
    "plt.show()\n",
    "\n",
    "# Plot normalized confusion matrix\n",
    "plt.figure(figsize=(10, 8))\n",
    "sns.heatmap(cm_normalized, annot=True, fmt=\".2f\", cmap=\"Blues\", cbar=True)\n",
    "plt.title(\"Confusion Matrix\")\n",
    "plt.xlabel(\"Predicted Label\")\n",
    "plt.ylabel(\"True Label\")\n",
    "plt.show()\n",
    "\n",
    "# Using magic command to display the plot\n",
    "%matplot plt"
   ]
  },
  {
   "cell_type": "code",
   "execution_count": 59,
   "id": "1156035b-2ca3-4cad-b142-3e13d287e5f3",
   "metadata": {
    "execution": {
     "iopub.execute_input": "2025-03-13T05:57:29.244809Z",
     "iopub.status.busy": "2025-03-13T05:57:29.244563Z",
     "iopub.status.idle": "2025-03-13T05:57:29.528267Z",
     "shell.execute_reply": "2025-03-13T05:57:29.527167Z",
     "shell.execute_reply.started": "2025-03-13T05:57:29.244781Z"
    },
    "tags": []
   },
   "outputs": [
    {
     "data": {
      "application/vnd.jupyter.widget-view+json": {
       "model_id": "5471294a393940d09e607bf6b7c8f3a6",
       "version_major": 2,
       "version_minor": 0
      },
      "text/plain": [
       "VBox()"
      ]
     },
     "metadata": {},
     "output_type": "display_data"
    },
    {
     "data": {
      "application/vnd.jupyter.widget-view+json": {
       "model_id": "",
       "version_major": 2,
       "version_minor": 0
      },
      "text/plain": [
       "FloatProgress(value=0.0, bar_style='info', description='Progress:', layout=Layout(height='25px', width='50%'),…"
      ]
     },
     "metadata": {},
     "output_type": "display_data"
    },
    {
     "data": {
      "image/png": "[encoded data removed]",
      "text/plain": [
       "<IPython.core.display.Image object>"
      ]
     },
     "metadata": {},
     "output_type": "display_data"
    }
   ],
   "source": [
    "# ROC Curve\n",
    "# Import required libraries\n",
    "import matplotlib.pyplot as plt\n",
    "from sklearn.metrics import roc_curve, auc\n",
    "\n",
    "# Create the ROC curve\n",
    "fpr, tpr, _ = roc_curve(pred_pandas[\"loan_status_binary\"], pred_pandas[\"probability_1\"])\n",
    "roc_auc_sklearn = auc(fpr, tpr)\n",
    "\n",
    "plt.figure(figsize=(10, 8))\n",
    "plt.plot(fpr, tpr, color='darkorange', lw=2, label=f'ROC curve (area = {roc_auc_sklearn:.3f})')\n",
    "plt.plot([0, 1], [0, 1], color='navy', lw=2, linestyle='--')\n",
    "plt.xlim([0.0, 1.0])\n",
    "plt.ylim([0.0, 1.05])\n",
    "plt.xlabel('False Positive Rate')\n",
    "plt.ylabel('True Positive Rate')\n",
    "plt.title('Receiver Operating Characteristic (ROC) Curve')\n",
    "plt.legend(loc=\"lower right\")\n",
    "plt.grid(True)\n",
    "\n",
    "# Use the magic command to display the plot\n",
    "%matplot plt"
   ]
  },
  {
   "cell_type": "code",
   "execution_count": 60,
   "id": "9af1ac60-a97c-400f-bd15-b07b3f9fb68b",
   "metadata": {
    "execution": {
     "iopub.execute_input": "2025-03-13T05:57:42.162579Z",
     "iopub.status.busy": "2025-03-13T05:57:42.162318Z",
     "iopub.status.idle": "2025-03-13T05:57:42.463629Z",
     "shell.execute_reply": "2025-03-13T05:57:42.462960Z",
     "shell.execute_reply.started": "2025-03-13T05:57:42.162550Z"
    },
    "tags": []
   },
   "outputs": [
    {
     "data": {
      "application/vnd.jupyter.widget-view+json": {
       "model_id": "2de8aedc47934ce5a9681b3d2e8bc350",
       "version_major": 2,
       "version_minor": 0
      },
      "text/plain": [
       "VBox()"
      ]
     },
     "metadata": {},
     "output_type": "display_data"
    },
    {
     "data": {
      "application/vnd.jupyter.widget-view+json": {
       "model_id": "",
       "version_major": 2,
       "version_minor": 0
      },
      "text/plain": [
       "FloatProgress(value=0.0, bar_style='info', description='Progress:', layout=Layout(height='25px', width='50%'),…"
      ]
     },
     "metadata": {},
     "output_type": "display_data"
    },
    {
     "data": {
      "image/png": "[encoded data removed]",
      "text/plain": [
       "<IPython.core.display.Image object>"
      ]
     },
     "metadata": {},
     "output_type": "display_data"
    }
   ],
   "source": [
    "# Precision-Recall Curve\n",
    "precision, recall, _ = precision_recall_curve(pred_pandas[\"loan_status_binary\"], pred_pandas[\"probability_1\"])\n",
    "pr_auc_sklearn = auc(recall, precision)\n",
    "\n",
    "plt.figure(figsize=(10, 8))\n",
    "plt.plot(recall, precision, color='green', lw=2, label=f'PR curve (area = {pr_auc_sklearn:.3f})')\n",
    "plt.xlabel('Recall')\n",
    "plt.ylabel('Precision')\n",
    "plt.title('Precision-Recall Curve')\n",
    "plt.legend(loc=\"upper right\")\n",
    "plt.grid(True)\n",
    "plt.show()\n",
    "\n",
    "# Use the magic command to display the plot\n",
    "%matplot plt"
   ]
  },
  {
   "cell_type": "code",
   "execution_count": 61,
   "id": "3b402e9e-9ff7-4a32-b313-3880b459b263",
   "metadata": {
    "execution": {
     "iopub.execute_input": "2025-03-13T05:57:56.470481Z",
     "iopub.status.busy": "2025-03-13T05:57:56.470220Z",
     "iopub.status.idle": "2025-03-13T05:57:57.258559Z",
     "shell.execute_reply": "2025-03-13T05:57:57.257576Z",
     "shell.execute_reply.started": "2025-03-13T05:57:56.470452Z"
    },
    "tags": []
   },
   "outputs": [
    {
     "data": {
      "application/vnd.jupyter.widget-view+json": {
       "model_id": "018ab4baa8264781a94924016c743d37",
       "version_major": 2,
       "version_minor": 0
      },
      "text/plain": [
       "VBox()"
      ]
     },
     "metadata": {},
     "output_type": "display_data"
    },
    {
     "data": {
      "application/vnd.jupyter.widget-view+json": {
       "model_id": "",
       "version_major": 2,
       "version_minor": 0
      },
      "text/plain": [
       "FloatProgress(value=0.0, bar_style='info', description='Progress:', layout=Layout(height='25px', width='50%'),…"
      ]
     },
     "metadata": {},
     "output_type": "display_data"
    },
    {
     "data": {
      "image/png": "[encoded data removed]",
      "text/plain": [
       "<IPython.core.display.Image object>"
      ]
     },
     "metadata": {},
     "output_type": "display_data"
    }
   ],
   "source": [
    "# Distribution of Prediction Probabilities\n",
    "plt.figure(figsize=(12, 6))\n",
    "sns.histplot(data=pred_pandas, x=\"probability_1\", hue=\"loan_status_binary\", bins=50, \n",
    "             alpha=0.6, palette=[\"skyblue\", \"salmon\"], kde=True)\n",
    "plt.title(\"Distribution of Predicted Probabilities by Class\")\n",
    "plt.xlabel(\"Predicted Probability of Default\")\n",
    "plt.ylabel(\"Count\")\n",
    "plt.grid(True, alpha=0.3)\n",
    "plt.show()\n",
    "\n",
    "# Use the magic command to display the plot\n",
    "%matplot plt"
   ]
  },
  {
   "cell_type": "code",
   "execution_count": 62,
   "id": "8c0dd83b-f890-488c-bc72-c0df95d8b43f",
   "metadata": {
    "execution": {
     "iopub.execute_input": "2025-03-13T05:58:11.649251Z",
     "iopub.status.busy": "2025-03-13T05:58:11.648770Z",
     "iopub.status.idle": "2025-03-13T05:58:11.905194Z",
     "shell.execute_reply": "2025-03-13T05:58:11.903693Z",
     "shell.execute_reply.started": "2025-03-13T05:58:11.649209Z"
    },
    "tags": []
   },
   "outputs": [
    {
     "data": {
      "application/vnd.jupyter.widget-view+json": {
       "model_id": "223c95ebffaf4379a7a6e9dca2c32d30",
       "version_major": 2,
       "version_minor": 0
      },
      "text/plain": [
       "VBox()"
      ]
     },
     "metadata": {},
     "output_type": "display_data"
    },
    {
     "data": {
      "application/vnd.jupyter.widget-view+json": {
       "model_id": "",
       "version_major": 2,
       "version_minor": 0
      },
      "text/plain": [
       "FloatProgress(value=0.0, bar_style='info', description='Progress:', layout=Layout(height='25px', width='50%'),…"
      ]
     },
     "metadata": {},
     "output_type": "display_data"
    },
    {
     "data": {
      "image/png": "[encoded data removed]",
      "text/plain": [
       "<IPython.core.display.Image object>"
      ]
     },
     "metadata": {},
     "output_type": "display_data"
    }
   ],
   "source": [
    "# Performance at Different Thresholds\n",
    "thresholds = np.arange(0, 1.01, 0.05)\n",
    "threshold_metrics = []\n",
    "\n",
    "for threshold in thresholds:\n",
    "    # Create predictions based on threshold\n",
    "    pred_pandas[\"pred_at_threshold\"] = (pred_pandas[\"probability_1\"] >= threshold).astype(int)\n",
    "    \n",
    "    # Calculate metrics\n",
    "    tn, fp, fn, tp = confusion_matrix(pred_pandas[\"loan_status_binary\"], pred_pandas[\"pred_at_threshold\"]).ravel()\n",
    "    precision = tp / (tp + fp) if (tp + fp) > 0 else 0\n",
    "    recall = tp / (tp + fn) if (tp + fn) > 0 else 0\n",
    "    f1 = 2 * precision * recall / (precision + recall) if (precision + recall) > 0 else 0\n",
    "    accuracy = (tp + tn) / (tp + tn + fp + fn)\n",
    "    \n",
    "    threshold_metrics.append({\n",
    "        'threshold': threshold,\n",
    "        'precision': precision,\n",
    "        'recall': recall,\n",
    "        'f1': f1,\n",
    "        'accuracy': accuracy\n",
    "    })\n",
    "\n",
    "threshold_df = pd.DataFrame(threshold_metrics)\n",
    "\n",
    "# Plot metrics vs thresholds\n",
    "plt.figure(figsize=(12, 8))\n",
    "plt.plot(threshold_df['threshold'], threshold_df['precision'], 'b-', label='Precision')\n",
    "plt.plot(threshold_df['threshold'], threshold_df['recall'], 'g-', label='Recall')\n",
    "plt.plot(threshold_df['threshold'], threshold_df['f1'], 'r-', label='F1 Score')\n",
    "plt.plot(threshold_df['threshold'], threshold_df['accuracy'], 'y-', label='Accuracy')\n",
    "plt.title('Performance Metrics at Different Probability Thresholds')\n",
    "plt.xlabel('Threshold')\n",
    "plt.ylabel('Score')\n",
    "plt.legend()\n",
    "plt.grid(True)\n",
    "plt.show()\n",
    "\n",
    "# Use the magic command to display the plot\n",
    "%matplot plt"
   ]
  },
  {
   "cell_type": "code",
   "execution_count": 63,
   "id": "dd5cf2fb-828b-41ee-95d0-c96d446bda14",
   "metadata": {
    "execution": {
     "iopub.execute_input": "2025-03-13T05:58:35.795692Z",
     "iopub.status.busy": "2025-03-13T05:58:35.795432Z",
     "iopub.status.idle": "2025-03-13T05:58:36.576614Z",
     "shell.execute_reply": "2025-03-13T05:58:36.575718Z",
     "shell.execute_reply.started": "2025-03-13T05:58:35.795664Z"
    },
    "tags": []
   },
   "outputs": [
    {
     "data": {
      "application/vnd.jupyter.widget-view+json": {
       "model_id": "6c8778afaab242f581c834e369b5441b",
       "version_major": 2,
       "version_minor": 0
      },
      "text/plain": [
       "VBox()"
      ]
     },
     "metadata": {},
     "output_type": "display_data"
    },
    {
     "data": {
      "application/vnd.jupyter.widget-view+json": {
       "model_id": "",
       "version_major": 2,
       "version_minor": 0
      },
      "text/plain": [
       "FloatProgress(value=0.0, bar_style='info', description='Progress:', layout=Layout(height='25px', width='50%'),…"
      ]
     },
     "metadata": {},
     "output_type": "display_data"
    },
    {
     "data": {
      "image/png": "[encoded data removed]",
      "text/plain": [
       "<IPython.core.display.Image object>"
      ]
     },
     "metadata": {},
     "output_type": "display_data"
    }
   ],
   "source": [
    "# Feature importance analysis\n",
    "# Helps to understand which features have the most influence on the model's predictions\n",
    "\n",
    "# Get feature importance\n",
    "feature_importances = model.featureImportances\n",
    "\n",
    "# Create list of (feature, importance) tuples\n",
    "features_and_importances = [(feature_cols[i], float(feature_importances[i])) \n",
    "                           for i in range(len(feature_cols))]\n",
    "\n",
    "# Sort by importance\n",
    "sorted_importances = sorted(features_and_importances, key=lambda x: x[1], reverse=True)\n",
    "\n",
    "# Plot top features\n",
    "top_n = 15  # Show top 15 features\n",
    "top_features = sorted_importances[:top_n]\n",
    "feature_names = [item[0] for item in top_features]\n",
    "importance_values = [item[1] for item in top_features]\n",
    "\n",
    "plt.figure(figsize=(12, 8))\n",
    "plt.barh(range(len(top_features)), importance_values, align='center')\n",
    "plt.yticks(range(len(top_features)), feature_names)\n",
    "plt.xlabel('Importance')\n",
    "plt.title('Top 15 Feature Importances')\n",
    "plt.tight_layout()\n",
    "\n",
    "%matplot plt"
   ]
  },
  {
   "cell_type": "code",
   "execution_count": 64,
   "id": "b181322d-0ee1-40be-a9d4-e600b67b7034",
   "metadata": {
    "execution": {
     "iopub.execute_input": "2025-03-13T05:59:38.328914Z",
     "iopub.status.busy": "2025-03-13T05:59:38.328669Z",
     "iopub.status.idle": "2025-03-13T05:59:38.392251Z",
     "shell.execute_reply": "2025-03-13T05:59:38.391233Z",
     "shell.execute_reply.started": "2025-03-13T05:59:38.328886Z"
    },
    "tags": []
   },
   "outputs": [
    {
     "data": {
      "application/vnd.jupyter.widget-view+json": {
       "model_id": "327ccf58b6484de0add86264734df0e6",
       "version_major": 2,
       "version_minor": 0
      },
      "text/plain": [
       "VBox()"
      ]
     },
     "metadata": {},
     "output_type": "display_data"
    },
    {
     "data": {
      "application/vnd.jupyter.widget-view+json": {
       "model_id": "",
       "version_major": 2,
       "version_minor": 0
      },
      "text/plain": [
       "FloatProgress(value=0.0, bar_style='info', description='Progress:', layout=Layout(height='25px', width='50%'),…"
      ]
     },
     "metadata": {},
     "output_type": "display_data"
    },
    {
     "name": "stdout",
     "output_type": "stream",
     "text": [
      "Number of features used in the model: 21\n",
      "Feature columns: ['loan_amnt_scaled_c081', 'funded_amnt_scaled_be56', 'funded_amnt_inv_scaled_4821', 'int_rate_scaled_bf98', 'installment_scaled_ddfc', 'annual_inc_scaled_d1ab', 'dti_scaled_ecf6', 'delinq_2yrs_scaled_0b22', 'inq_last_6mths_scaled_b65e', 'open_acc_scaled_1a76', 'pub_rec_scaled_ac9f', 'revol_bal_scaled_5f91', 'revol_util_scaled_9db9', 'total_acc_scaled_05e0', 'term_numeric_scaled_2e6c', 'credit_history_length_scaled_bf03', 'grade_encoded_array_vec', 'emp_length_encoded_array_vec', 'home_ownership_encoded_array_vec', 'verification_status_encoded_array_vec', 'purpose_encoded_array_vec']"
     ]
    }
   ],
   "source": [
    "print(f\"Number of features used in the model: {len(feature_cols)}\")\n",
    "print(\"Feature columns:\", feature_cols)"
   ]
  }
 ],
 "metadata": {
  "kernelspec": {
   "display_name": "PySpark",
   "language": "python",
   "name": "pysparkkernel"
  },
  "language_info": {
   "codemirror_mode": {
    "name": "python",
    "version": 3
   },
   "file_extension": ".py",
   "mimetype": "text/x-python",
   "name": "pyspark",
   "pygments_lexer": "python3"
  }
 },
 "nbformat": 4,
 "nbformat_minor": 5
}
